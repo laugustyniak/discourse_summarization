{
 "cells": [
  {
   "cell_type": "code",
   "execution_count": 1,
   "metadata": {
    "collapsed": false
   },
   "outputs": [],
   "source": [
    "from os.path import basename, join, exists\n",
    "from pathlib import Path\n",
    "from os import system, makedirs\n",
    "from glob import glob\n",
    "from tqdm import tqdm_notebook\n",
    "from more_itertools import flatten\n",
    "\n",
    "import sys\n",
    "import re\n",
    "\n",
    "import pandas as pd\n",
    "import networkx as nx\n",
    "\n",
    "sys.path.append(\"../edu_dependency_parser\")\n",
    "from trees.parse_tree import ParseTree\n",
    "\n",
    "sys.path.append(\"../aspects\")\n",
    "from analysis.aspects_hierarchy import get_aspects_hierarchy\n",
    "from analysis import rst_data_extractors\n",
    "\n",
    "from utilities.transformations import load_serialized"
   ]
  },
  {
   "cell_type": "markdown",
   "metadata": {},
   "source": [
    "# Load dataset specific files"
   ]
  },
  {
   "cell_type": "code",
   "execution_count": 2,
   "metadata": {
    "collapsed": true
   },
   "outputs": [],
   "source": [
    "# here choose dataset's results main directory\n",
    "data_path = '/datasets/sentiment/aspects/results/reviews_Cell_Phones_and_Accessories/'"
   ]
  },
  {
   "cell_type": "code",
   "execution_count": 3,
   "metadata": {
    "collapsed": true
   },
   "outputs": [],
   "source": [
    "dataset_name = basename(data_path)\n",
    "data_path_trees = join(data_path,  'edu_trees_dir')\n",
    "data_path_link_tree = join(data_path,  'link_trees_dir')\n",
    "data_path_aspects_graph = join(data_path,  'aspects_graph')\n",
    "data_path_aspects_page_ranks = join(data_path,  'aspects_page_ranks')\n",
    "data_path_extracted_documents = join(data_path,  'extracted_documents')"
   ]
  },
  {
   "cell_type": "markdown",
   "metadata": {},
   "source": [
    "# Extracted documents loading "
   ]
  },
  {
   "cell_type": "code",
   "execution_count": 4,
   "metadata": {
    "collapsed": false
   },
   "outputs": [
    {
     "name": "stderr",
     "output_type": "stream",
     "text": [
      "100001it [00:05, 16884.00it/s]\n"
     ]
    }
   ],
   "source": [
    "extracted_documents_data = rst_data_extractors.get_extracted_documents(data_path_extracted_documents)"
   ]
  },
  {
   "cell_type": "code",
   "execution_count": 5,
   "metadata": {
    "collapsed": false
   },
   "outputs": [
    {
     "data": {
      "text/plain": [
       "[(0,\n",
       "  'this phone case is awesome  and  a great deal if, I were to buy a  a phone from the  mall  they would of charge me twenty-five dollars. but this was a great deal to buy this phone case online.'),\n",
       " (1,\n",
       "  'It is big and heavy.  I switched back to my regular earpiece with the wire!')]"
      ]
     },
     "execution_count": 5,
     "metadata": {},
     "output_type": "execute_result"
    }
   ],
   "source": [
    "extracted_documents_data.items()[:2]"
   ]
  },
  {
   "cell_type": "code",
   "execution_count": 6,
   "metadata": {
    "collapsed": false
   },
   "outputs": [
    {
     "data": {
      "text/plain": [
       "'this phone case is awesome  and  a great deal if, I were to buy a  a phone from the  mall  they would of charge me twenty-five dollars. but this was a great deal to buy this phone case online.'"
      ]
     },
     "execution_count": 6,
     "metadata": {},
     "output_type": "execute_result"
    }
   ],
   "source": [
    "load_serialized(join(data_path_extracted_documents, '0'))"
   ]
  },
  {
   "cell_type": "markdown",
   "metadata": {},
   "source": [
    "# Docs info analysis"
   ]
  },
  {
   "cell_type": "code",
   "execution_count": 7,
   "metadata": {
    "collapsed": false
   },
   "outputs": [],
   "source": [
    "docs_info = load_serialized(join(data_path, 'documents_info'))"
   ]
  },
  {
   "cell_type": "code",
   "execution_count": 8,
   "metadata": {
    "collapsed": false
   },
   "outputs": [
    {
     "data": {
      "text/plain": [
       "[(0,\n",
       "  {'EDUs': [0, 1, 2, 3, 4, 5],\n",
       "   'accepted_edus': [0, 1, 2, 3, 4, 5],\n",
       "   'aspect_concepts': {0: {}, 1: {}, 2: {}, 3: {}, 4: {}, 5: {}},\n",
       "   'aspect_keywords': {0: {'rake': [(u'phone case', 4.0), (u'awesome', 1.0)],\n",
       "     'text_rank': []},\n",
       "    1: {'rake': [(u'great deal', 4.0)], 'text_rank': []},\n",
       "    2: {'rake': [(u'phone', 1.0), (u'mall', 1.0), (u'buy', 1.0)],\n",
       "     'text_rank': []},\n",
       "    3: {'rake': [(u'charge', 1.0), (u'dollars', 1.0), (u'twenty-', 1.0)],\n",
       "     'text_rank': []},\n",
       "    4: {'rake': [(u'great deal', 4.0)], 'text_rank': []},\n",
       "    5: {'rake': [(u'phone case online', 9.0), (u'buy', 1.0)],\n",
       "     'text_rank': []}},\n",
       "   'aspects': {0: [u'phone case'],\n",
       "    1: [u'deal'],\n",
       "    2: [u'phone', u'mall'],\n",
       "    3: [u'dollar'],\n",
       "    4: [u'deal'],\n",
       "    5: [u'phone case']},\n",
       "   'sentiment': {0: 1, 1: 1, 2: -1, 3: -1, 4: 1, 5: -1}}),\n",
       " (1,\n",
       "  {'EDUs': [6, 7],\n",
       "   'accepted_edus': [6, 7],\n",
       "   'aspect_concepts': {6: {}, 7: {}},\n",
       "   'aspect_keywords': {6: {'rake': [(u'heavy', 1.0), (u'big', 1.0)],\n",
       "     'text_rank': []},\n",
       "    7: {'rake': [(u'regular earpiece', 4.0),\n",
       "      (u'switched back', 4.0),\n",
       "      (u'wire', 1.0)],\n",
       "     'text_rank': []}},\n",
       "   'aspects': {6: [], 7: [u'earpiece', u'wire']},\n",
       "   'sentiment': {6: 0, 7: -1}})]"
      ]
     },
     "execution_count": 8,
     "metadata": {},
     "output_type": "execute_result"
    }
   ],
   "source": [
    "docs_info.items()[:2]"
   ]
  },
  {
   "cell_type": "markdown",
   "metadata": {},
   "source": [
    "# Aspects per EDU analysis"
   ]
  },
  {
   "cell_type": "code",
   "execution_count": 9,
   "metadata": {
    "collapsed": true
   },
   "outputs": [],
   "source": [
    "aspects_per_edu = load_serialized(join(data_path, 'aspects_per_edu'))"
   ]
  },
  {
   "cell_type": "code",
   "execution_count": 10,
   "metadata": {
    "collapsed": false
   },
   "outputs": [
    {
     "data": {
      "text/plain": [
       "[(0, [u'phone case']),\n",
       " (1, [u'deal']),\n",
       " (2, [u'phone', u'mall']),\n",
       " (3, [u'dollar']),\n",
       " (4, [u'deal']),\n",
       " (5, [u'phone case']),\n",
       " (6, []),\n",
       " (7, [u'earpiece', u'wire']),\n",
       " (8, [u'antenna']),\n",
       " (9, [u'mount'])]"
      ]
     },
     "execution_count": 10,
     "metadata": {},
     "output_type": "execute_result"
    }
   ],
   "source": [
    "aspects_per_edu.items()[:10]"
   ]
  },
  {
   "cell_type": "markdown",
   "metadata": {},
   "source": [
    "## Get docs with more than one edu with aspect"
   ]
  },
  {
   "cell_type": "code",
   "execution_count": 106,
   "metadata": {
    "collapsed": false
   },
   "outputs": [],
   "source": [
    "document_info_at_least_2_aspects_accepted = rst_data_extractors.get_docs_info_with_at_least_n_aspects_accepted(docs_info, 10)"
   ]
  },
  {
   "cell_type": "code",
   "execution_count": 107,
   "metadata": {
    "collapsed": false
   },
   "outputs": [
    {
     "data": {
      "text/plain": [
       "[(6,\n",
       "  {'EDUs': [27, 28, 29, 30, 31, 32, 33, 34, 35, 36, 37, 38, 39, 40],\n",
       "   'accepted_edus': [27, 28, 29, 30, 31, 32, 33, 34, 35, 36, 37, 38, 39, 40],\n",
       "   'aspect_concepts': {27: {},\n",
       "    28: {},\n",
       "    29: {},\n",
       "    30: {},\n",
       "    31: {},\n",
       "    32: {},\n",
       "    33: {},\n",
       "    34: {},\n",
       "    35: {},\n",
       "    36: {},\n",
       "    37: {},\n",
       "    38: {},\n",
       "    39: {},\n",
       "    40: {}},\n",
       "   'aspect_keywords': {27: {'rake': [(u'fact', 1.0)], 'text_rank': []},\n",
       "    28: {'rake': [(u'clips', 1.0), (u'belt', 1.0)], 'text_rank': []},\n",
       "    29: {'rake': [(u'cloth', 1.0), (u'months', 1.0)], 'text_rank': []},\n",
       "    30: {'rake': [(u'metal clip', 4.0), (u'covering', 1.0)], 'text_rank': []},\n",
       "    31: {'rake': [(u'loose', 1.0)], 'text_rank': []},\n",
       "    32: {'rake': [(u'small inconvenience', 4.0)], 'text_rank': []},\n",
       "    33: {'rake': [(u'flip phone close', 9.0)], 'text_rank': []},\n",
       "    34: {'rake': [], 'text_rank': []},\n",
       "    35: {'rake': [], 'text_rank': []},\n",
       "    36: {'rake': [(u'phone fits', 4.0), (u'snugly', 1.0)], 'text_rank': []},\n",
       "    37: {'rake': [(u'accident', 1.0)], 'text_rank': []},\n",
       "    38: {'rake': [(u'case', 1.0),\n",
       "      (u'occasionally', 1.0),\n",
       "      (u'flips', 1.0),\n",
       "      (u'belt', 1.0)],\n",
       "     'text_rank': []},\n",
       "    39: {'rake': [(u'phone', 1.0)], 'text_rank': []},\n",
       "    40: {'rake': [(u'protected inside', 4.0), (u'case', 1.0)],\n",
       "     'text_rank': []}},\n",
       "   'aspects': {27: [u'fact'],\n",
       "    28: [u'clip', u'belt'],\n",
       "    29: [u'cloth'],\n",
       "    30: [u'metal clip'],\n",
       "    31: [],\n",
       "    32: [u'inconvenience'],\n",
       "    33: [u'flip phone'],\n",
       "    34: [],\n",
       "    35: [u'way'],\n",
       "    36: [u'phone'],\n",
       "    37: [u'accident'],\n",
       "    38: [u'something', u'case', u'belt'],\n",
       "    39: [u'phone'],\n",
       "    40: [u'case']},\n",
       "   'sentiment': {27: 0,\n",
       "    28: -1,\n",
       "    29: -1,\n",
       "    30: 0,\n",
       "    31: -1,\n",
       "    32: 0,\n",
       "    33: 1,\n",
       "    34: 1,\n",
       "    35: 0,\n",
       "    36: 1,\n",
       "    37: 0,\n",
       "    38: -1,\n",
       "    39: -1,\n",
       "    40: 1}}),\n",
       " (12,\n",
       "  {'EDUs': [70,\n",
       "    71,\n",
       "    72,\n",
       "    73,\n",
       "    74,\n",
       "    75,\n",
       "    76,\n",
       "    77,\n",
       "    78,\n",
       "    79,\n",
       "    80,\n",
       "    81,\n",
       "    82,\n",
       "    83,\n",
       "    84,\n",
       "    85,\n",
       "    86,\n",
       "    87,\n",
       "    88,\n",
       "    89,\n",
       "    90,\n",
       "    91,\n",
       "    92,\n",
       "    93],\n",
       "   'accepted_edus': [70,\n",
       "    71,\n",
       "    72,\n",
       "    73,\n",
       "    74,\n",
       "    75,\n",
       "    76,\n",
       "    77,\n",
       "    78,\n",
       "    79,\n",
       "    80,\n",
       "    81,\n",
       "    82,\n",
       "    83,\n",
       "    84,\n",
       "    85,\n",
       "    86,\n",
       "    87,\n",
       "    88,\n",
       "    89,\n",
       "    90,\n",
       "    91,\n",
       "    92,\n",
       "    93],\n",
       "   'aspect_concepts': {70: {},\n",
       "    71: {},\n",
       "    72: {},\n",
       "    73: {},\n",
       "    74: {},\n",
       "    75: {},\n",
       "    76: {},\n",
       "    77: {},\n",
       "    78: {},\n",
       "    79: {},\n",
       "    80: {},\n",
       "    81: {},\n",
       "    82: {},\n",
       "    83: {},\n",
       "    84: {},\n",
       "    85: {},\n",
       "    86: {},\n",
       "    87: {},\n",
       "    88: {},\n",
       "    89: {},\n",
       "    90: {},\n",
       "    91: {},\n",
       "    92: {},\n",
       "    93: {}},\n",
       "   'aspect_keywords': {70: {'rake': [(u'great believer', 4.0)],\n",
       "     'text_rank': []},\n",
       "    71: {'rake': [(u'spending', 1.0),\n",
       "      (u'glitz', 1.0),\n",
       "      (u'whistles', 1.0),\n",
       "      (u'bells', 1.0)],\n",
       "     'text_rank': []},\n",
       "    72: {'rake': [(u'performance', 1.0),\n",
       "      (u'practicality', 1.0),\n",
       "      (u'generally', 1.0)],\n",
       "     'text_rank': []},\n",
       "    73: {'rake': [(u'sound quality', 4.0),\n",
       "      (u'price', 1.0),\n",
       "      (u'fine', 1.0),\n",
       "      (u'features', 1.0)],\n",
       "     'text_rank': []},\n",
       "    74: {'rake': [(u'unit', 1.0), (u'difficult', 1.0)], 'text_rank': []},\n",
       "    75: {'rake': [(u'wear', 1.0)], 'text_rank': []},\n",
       "    76: {'rake': [(u'--', 1.0),\n",
       "      (u'wide', 1.0),\n",
       "      (u'boxy', 1.0),\n",
       "      (u'boom', 1.0)],\n",
       "     'text_rank': []},\n",
       "    77: {'rake': [(u'weight', 1.0), (u'unbalanced', 1.0)], 'text_rank': []},\n",
       "    78: {'rake': [], 'text_rank': []},\n",
       "    79: {'rake': [(u'comfortable fit', 4.0)], 'text_rank': []},\n",
       "    80: {'rake': [(u'normal range', 4.0),\n",
       "      (u'shape', 1.0),\n",
       "      (u'ear', 1.0),\n",
       "      (u'size', 1.0)],\n",
       "     'text_rank': []},\n",
       "    81: {'rake': [(u'headset', 1.0), (u'shape', 1.0), (u'bent', 1.0)],\n",
       "     'text_rank': []},\n",
       "    82: {'rake': [(u'lost connections', 4.0),\n",
       "      (u'wind noise', 4.0),\n",
       "      (u'positive', 1.0)],\n",
       "     'text_rank': []},\n",
       "    83: {'rake': [(u'-- common criticisms', 9.0), (u'bt headsets', 4.0)],\n",
       "     'text_rank': []},\n",
       "    84: {'rake': [(u'--', 1.0), (u'problem', 1.0)], 'text_rank': []},\n",
       "    85: {'rake': [(u'long term fit', 9.0),\n",
       "      (u'medium', 1.0),\n",
       "      (u'aesthetics', 1.0),\n",
       "      (u'comfort', 1.0),\n",
       "      (u'care', 1.0)],\n",
       "     'text_rank': []},\n",
       "    86: {'rake': [(u'large unit hanging', 9.0),\n",
       "      (u'walking', 1.0),\n",
       "      (u'ear', 1.0)],\n",
       "     'text_rank': []},\n",
       "    87: {'rake': [(u'headset', 1.0), (u'happy', 1.0)], 'text_rank': []},\n",
       "    88: {'rake': [], 'text_rank': []},\n",
       "    89: {'rake': [(u'returning', 1.0)], 'text_rank': []},\n",
       "    90: {'rake': [(u'cardo scala', 4.0), (u'give', 1.0)], 'text_rank': []},\n",
       "    91: {'rake': [(u'good', 1.0)], 'text_rank': []},\n",
       "    92: {'rake': [(u'jabra', 1.0), (u'll', 1.0)], 'text_rank': []},\n",
       "    93: {'rake': [(u'money', 1.0), (u'bit', 1.0), (u'spend', 1.0)],\n",
       "     'text_rank': []}},\n",
       "   'aspects': {70: [u'believer'],\n",
       "    71: [u'spending', u'glitz', u'bell', u'whistle'],\n",
       "    72: [u'performance', u'practicality'],\n",
       "    73: [u'sound quality', u'feature', u'price'],\n",
       "    74: [u'unit'],\n",
       "    75: [],\n",
       "    76: [u'boom'],\n",
       "    77: [u'weight'],\n",
       "    78: [],\n",
       "    79: [u'fit'],\n",
       "    80: [u'ear', u'range', u'size', u'shape'],\n",
       "    81: [u'shape', u'headset'],\n",
       "    82: [u'wind noise', u'connection'],\n",
       "    83: [u'criticism', u'headset', u'bt'],\n",
       "    84: [u'problem'],\n",
       "    85: [u'medium', u'term', u'comfort', u'aesthetic'],\n",
       "    86: [u'unit', u'ear'],\n",
       "    87: [u'headset'],\n",
       "    88: [],\n",
       "    89: [],\n",
       "    90: [u'try', u'the cardo scala'],\n",
       "    91: [],\n",
       "    92: [u'jabra'],\n",
       "    93: [u'bit', u'money']},\n",
       "   'sentiment': {70: 1,\n",
       "    71: -1,\n",
       "    72: 0,\n",
       "    73: 0,\n",
       "    74: 0,\n",
       "    75: 1,\n",
       "    76: -1,\n",
       "    77: 0,\n",
       "    78: -1,\n",
       "    79: 1,\n",
       "    80: -1,\n",
       "    81: 0,\n",
       "    82: -1,\n",
       "    83: 1,\n",
       "    84: 0,\n",
       "    85: 0,\n",
       "    86: 1,\n",
       "    87: 1,\n",
       "    88: -1,\n",
       "    89: -1,\n",
       "    90: 1,\n",
       "    91: 0,\n",
       "    92: 0,\n",
       "    93: -1}})]"
      ]
     },
     "execution_count": 107,
     "metadata": {},
     "output_type": "execute_result"
    }
   ],
   "source": [
    "document_info_at_least_2_aspects_accepted.items()[:2]"
   ]
  },
  {
   "cell_type": "markdown",
   "metadata": {},
   "source": [
    "### # of aspects extracted"
   ]
  },
  {
   "cell_type": "code",
   "execution_count": 100,
   "metadata": {
    "collapsed": false
   },
   "outputs": [
    {
     "name": "stdout",
     "output_type": "stream",
     "text": [
      "\n"
     ]
    }
   ],
   "source": [
    "all_extracted_aspects = list(flatten([\n",
    "        list(flatten(doc_info['aspects'].values()))\n",
    "        for doc_id, doc_info \n",
    "        in tqdm_notebook(document_info_at_least_2_aspects_accepted.items())\n",
    "]))"
   ]
  },
  {
   "cell_type": "code",
   "execution_count": 108,
   "metadata": {
    "collapsed": false
   },
   "outputs": [
    {
     "data": {
      "text/plain": [
       "42086"
      ]
     },
     "execution_count": 108,
     "metadata": {},
     "output_type": "execute_result"
    }
   ],
   "source": [
    "len(document_info_at_least_2_aspects_accepted)"
   ]
  },
  {
   "cell_type": "code",
   "execution_count": 101,
   "metadata": {
    "collapsed": false
   },
   "outputs": [
    {
     "data": {
      "text/plain": [
       "1474714"
      ]
     },
     "execution_count": 101,
     "metadata": {},
     "output_type": "execute_result"
    }
   ],
   "source": [
    "len(all_extracted_aspects)"
   ]
  },
  {
   "cell_type": "code",
   "execution_count": 102,
   "metadata": {
    "collapsed": false
   },
   "outputs": [
    {
     "data": {
      "text/plain": [
       "102025"
      ]
     },
     "execution_count": 102,
     "metadata": {},
     "output_type": "execute_result"
    }
   ],
   "source": [
    "len(set(all_extracted_aspects))"
   ]
  },
  {
   "cell_type": "code",
   "execution_count": 103,
   "metadata": {
    "collapsed": true
   },
   "outputs": [],
   "source": [
    "all_extracted_aspects_counter = Counter(all_extracted_aspects)"
   ]
  },
  {
   "cell_type": "code",
   "execution_count": 104,
   "metadata": {
    "collapsed": false
   },
   "outputs": [
    {
     "data": {
      "text/plain": [
       "[(u'phone', 92159),\n",
       " (u'headset', 26847),\n",
       " (u'case', 23542),\n",
       " (u'product', 22290),\n",
       " (u'battery', 19719),\n",
       " (u'problem', 15596),\n",
       " (u'what', 14072),\n",
       " (u'price', 13269),\n",
       " (u'one', 13254),\n",
       " (u'ear', 13164)]"
      ]
     },
     "execution_count": 104,
     "metadata": {},
     "output_type": "execute_result"
    }
   ],
   "source": [
    "all_extracted_aspects_counter.most_common()"
   ]
  },
  {
   "cell_type": "code",
   "execution_count": 62,
   "metadata": {
    "collapsed": false
   },
   "outputs": [
    {
     "data": {
      "text/plain": [
       "[{'EDUs': [6, 7],\n",
       "  'accepted_edus': [6, 7],\n",
       "  'aspect_concepts': {6: {}, 7: {}},\n",
       "  'aspect_keywords': {6: {'rake': [(u'heavy', 1.0), (u'big', 1.0)],\n",
       "    'text_rank': []},\n",
       "   7: {'rake': [(u'regular earpiece', 4.0),\n",
       "     (u'switched back', 4.0),\n",
       "     (u'wire', 1.0)],\n",
       "    'text_rank': []}},\n",
       "  'aspects': {6: [], 7: [u'earpiece', u'wire']},\n",
       "  'sentiment': {6: 0, 7: -1}},\n",
       " {'EDUs': [8, 9, 10, 11, 12],\n",
       "  'accepted_edus': [8, 9, 10, 11, 12],\n",
       "  'aspect_concepts': {8: {}, 9: {}, 10: {}, 11: {}, 12: {}},\n",
       "  'aspect_keywords': {8: {'rake': [(u'decent antenna', 4.0)], 'text_rank': []},\n",
       "   9: {'rake': [(u'mount', 1.0)], 'text_rank': []},\n",
       "   10: {'rake': [(u'thin metal horizontal', 9.0),\n",
       "     (u'mount kit seperately', 9.0),\n",
       "     (u'vertical bar', 4.0),\n",
       "     (u'screws', 1.0),\n",
       "     (u'buy', 1.0)],\n",
       "    'text_rank': []},\n",
       "   11: {'rake': [(u'6db gain', 4.0), (u'truck', 1.0), (u'mirror', 1.0)],\n",
       "    'text_rank': []},\n",
       "   12: {'rake': [(u'-- minimal gain', 9.0), (u'$ 200 amplifier', 1.0)],\n",
       "    'text_rank': []}},\n",
       "  'aspects': {8: [u'antenna'],\n",
       "   9: [u'mount'],\n",
       "   10: [u'mount kit', u'screw', u'metal', u'bar'],\n",
       "   11: [u'mirror', u'truck', u'6db gain'],\n",
       "   12: [u'gain', u'amplifier']},\n",
       "  'sentiment': {8: 0, 9: 0, 10: -1, 11: 1, 12: 1}}]"
      ]
     },
     "execution_count": 62,
     "metadata": {},
     "output_type": "execute_result"
    }
   ],
   "source": [
    "[\n",
    "    doc_info\n",
    "    for doc_id, doc_info \n",
    "    in tqdm_notebook(document_info_at_least_2_aspects_accepted.items())\n",
    "    if 0 in doc_info['sentiment'].values()\n",
    "][:2]"
   ]
  },
  {
   "cell_type": "code",
   "execution_count": 13,
   "metadata": {
    "collapsed": false
   },
   "outputs": [
    {
     "data": {
      "text/plain": [
       "98528"
      ]
     },
     "execution_count": 13,
     "metadata": {},
     "output_type": "execute_result"
    }
   ],
   "source": [
    "len(document_info_at_least_2_aspects_accepted)"
   ]
  },
  {
   "cell_type": "code",
   "execution_count": 14,
   "metadata": {
    "collapsed": false
   },
   "outputs": [
    {
     "data": {
      "text/plain": [
       "'this phone case is awesome  and  a great deal if, I were to buy a  a phone from the  mall  they would of charge me twenty-five dollars. but this was a great deal to buy this phone case online.'"
      ]
     },
     "execution_count": 14,
     "metadata": {},
     "output_type": "execute_result"
    }
   ],
   "source": [
    "extracted_documents_data[0]"
   ]
  },
  {
   "cell_type": "markdown",
   "metadata": {},
   "source": [
    "## Get aspects distribution"
   ]
  },
  {
   "cell_type": "code",
   "execution_count": 15,
   "metadata": {
    "collapsed": true
   },
   "outputs": [],
   "source": [
    "from collections import Counter"
   ]
  },
  {
   "cell_type": "code",
   "execution_count": 16,
   "metadata": {
    "collapsed": true
   },
   "outputs": [],
   "source": [
    "aspects_counter = Counter(flatten(aspects_per_edu.values()))"
   ]
  },
  {
   "cell_type": "code",
   "execution_count": 17,
   "metadata": {
    "collapsed": false
   },
   "outputs": [
    {
     "data": {
      "text/plain": [
       "[(u'phone', 92275),\n",
       " (u'headset', 26873),\n",
       " (u'case', 23596),\n",
       " (u'product', 22422),\n",
       " (u'battery', 19786),\n",
       " (u'problem', 15620),\n",
       " (u'what', 14095),\n",
       " (u'price', 13375),\n",
       " (u'one', 13281),\n",
       " (u'ear', 13179)]"
      ]
     },
     "execution_count": 17,
     "metadata": {},
     "output_type": "execute_result"
    }
   ],
   "source": [
    "aspects_counter.most_common(10)"
   ]
  },
  {
   "cell_type": "code",
   "execution_count": 18,
   "metadata": {
    "collapsed": false
   },
   "outputs": [
    {
     "data": {
      "text/plain": [
       "92275"
      ]
     },
     "execution_count": 18,
     "metadata": {},
     "output_type": "execute_result"
    }
   ],
   "source": [
    "aspects_counter['phone']"
   ]
  },
  {
   "cell_type": "markdown",
   "metadata": {},
   "source": [
    "## Get document with provided aspects"
   ]
  },
  {
   "cell_type": "code",
   "execution_count": 91,
   "metadata": {
    "collapsed": false
   },
   "outputs": [
    {
     "name": "stderr",
     "output_type": "stream",
     "text": [
      "100%|██████████| 99681/99681 [00:00<00:00, 150076.77it/s]\n"
     ]
    },
    {
     "data": {
      "text/plain": [
       "[(24620,\n",
       "  \"Not much to say other than since this is a genuine name-brand high quality charger, you aren't apt to fry your device or slowly destroy the innards with a low-grade poorly regulated charger.  This one charges about as quickly as I've seen a car charger do its job, has a very nice decently long cord, seems well constructed, and doesn't leave me worrying about how much shorter the life expectancy of my phone is going to be if it doesn't get fried in the meantime.  I do expect that this is going to outlast the junk I've purchased in the past for $2-3.  Surprisingly, this isn't that much more expensive than those, so there is no reason to skimp on that $1-2.\"),\n",
       " (24622,\n",
       "  \"I am a salesman who travels 4 days a week and I rely heavily on my car chargers. This one is durable and well built and performs well. I've gone through quite a few car chargers and this one is by far the best one I've found so far.\"),\n",
       " (81968,\n",
       "  'Knowing that I have a car charger, is huge....I always forget to check if I need to charge my phone.....now that I have this charger, I never have to worry about how many bars are left.....'),\n",
       " (57394,\n",
       "  'the wall charger and the car charger did not work and so they sent me a new one.  The new one the wall charger works but the car one does not so once again I need to return it and hopefully they send me one i hope.')]"
      ]
     },
     "execution_count": 91,
     "metadata": {},
     "output_type": "execute_result"
    }
   ],
   "source": [
    "rst_data_extractors.get_document_based_on_aspect(docs_info, extracted_documents_data, 'car charger').items()[10:14]"
   ]
  },
  {
   "cell_type": "markdown",
   "metadata": {},
   "source": [
    "# Aspect-aspect graph analysis"
   ]
  },
  {
   "cell_type": "markdown",
   "metadata": {},
   "source": [
    "## Aspect's page ranks"
   ]
  },
  {
   "cell_type": "code",
   "execution_count": 20,
   "metadata": {
    "collapsed": false
   },
   "outputs": [],
   "source": [
    "aspects_page_ranks = load_serialized(data_path_aspects_page_ranks)"
   ]
  },
  {
   "cell_type": "code",
   "execution_count": 21,
   "metadata": {
    "collapsed": false
   },
   "outputs": [],
   "source": [
    "aspects_page_ranks_df = pd.DataFrame(\n",
    "    [(aspect, page_rank) for aspect, page_rank in aspects_page_ranks.items()],\n",
    "    columns=['aspect', 'pagerank']\n",
    ")"
   ]
  },
  {
   "cell_type": "code",
   "execution_count": 22,
   "metadata": {
    "collapsed": false
   },
   "outputs": [
    {
     "data": {
      "text/html": [
       "<div>\n",
       "<table border=\"1\" class=\"dataframe\">\n",
       "  <thead>\n",
       "    <tr style=\"text-align: right;\">\n",
       "      <th></th>\n",
       "      <th>aspect</th>\n",
       "      <th>pagerank</th>\n",
       "    </tr>\n",
       "  </thead>\n",
       "  <tbody>\n",
       "    <tr>\n",
       "      <th>0</th>\n",
       "      <td>phone</td>\n",
       "      <td>0.050792</td>\n",
       "    </tr>\n",
       "    <tr>\n",
       "      <th>1</th>\n",
       "      <td>product</td>\n",
       "      <td>0.034677</td>\n",
       "    </tr>\n",
       "    <tr>\n",
       "      <th>2</th>\n",
       "      <td>headset</td>\n",
       "      <td>0.021423</td>\n",
       "    </tr>\n",
       "    <tr>\n",
       "      <th>3</th>\n",
       "      <td>case</td>\n",
       "      <td>0.020639</td>\n",
       "    </tr>\n",
       "    <tr>\n",
       "      <th>4</th>\n",
       "      <td>price</td>\n",
       "      <td>0.011911</td>\n",
       "    </tr>\n",
       "    <tr>\n",
       "      <th>5</th>\n",
       "      <td>battery</td>\n",
       "      <td>0.011545</td>\n",
       "    </tr>\n",
       "    <tr>\n",
       "      <th>6</th>\n",
       "      <td>item</td>\n",
       "      <td>0.010770</td>\n",
       "    </tr>\n",
       "    <tr>\n",
       "      <th>7</th>\n",
       "      <td>charger</td>\n",
       "      <td>0.010195</td>\n",
       "    </tr>\n",
       "    <tr>\n",
       "      <th>8</th>\n",
       "      <td>motorola</td>\n",
       "      <td>0.005958</td>\n",
       "    </tr>\n",
       "    <tr>\n",
       "      <th>9</th>\n",
       "      <td>what</td>\n",
       "      <td>0.005383</td>\n",
       "    </tr>\n",
       "  </tbody>\n",
       "</table>\n",
       "</div>"
      ],
      "text/plain": [
       "     aspect  pagerank\n",
       "0     phone  0.050792\n",
       "1   product  0.034677\n",
       "2   headset  0.021423\n",
       "3      case  0.020639\n",
       "4     price  0.011911\n",
       "5   battery  0.011545\n",
       "6      item  0.010770\n",
       "7   charger  0.010195\n",
       "8  motorola  0.005958\n",
       "9      what  0.005383"
      ]
     },
     "execution_count": 22,
     "metadata": {},
     "output_type": "execute_result"
    }
   ],
   "source": [
    "aspects_page_ranks_df.head(10)"
   ]
  },
  {
   "cell_type": "code",
   "execution_count": 23,
   "metadata": {
    "collapsed": true
   },
   "outputs": [],
   "source": [
    "aspects_page_ranks_df['count'] = aspects_page_ranks_df.aspect.apply(lambda a: aspects_counter[a])"
   ]
  },
  {
   "cell_type": "code",
   "execution_count": 24,
   "metadata": {
    "collapsed": false
   },
   "outputs": [
    {
     "data": {
      "text/html": [
       "<div>\n",
       "<table border=\"1\" class=\"dataframe\">\n",
       "  <thead>\n",
       "    <tr style=\"text-align: right;\">\n",
       "      <th></th>\n",
       "      <th>aspect</th>\n",
       "      <th>pagerank</th>\n",
       "      <th>count</th>\n",
       "    </tr>\n",
       "  </thead>\n",
       "  <tbody>\n",
       "    <tr>\n",
       "      <th>0</th>\n",
       "      <td>phone</td>\n",
       "      <td>0.050792</td>\n",
       "      <td>92275</td>\n",
       "    </tr>\n",
       "    <tr>\n",
       "      <th>1</th>\n",
       "      <td>product</td>\n",
       "      <td>0.034677</td>\n",
       "      <td>22422</td>\n",
       "    </tr>\n",
       "    <tr>\n",
       "      <th>2</th>\n",
       "      <td>headset</td>\n",
       "      <td>0.021423</td>\n",
       "      <td>26873</td>\n",
       "    </tr>\n",
       "    <tr>\n",
       "      <th>3</th>\n",
       "      <td>case</td>\n",
       "      <td>0.020639</td>\n",
       "      <td>23596</td>\n",
       "    </tr>\n",
       "    <tr>\n",
       "      <th>4</th>\n",
       "      <td>price</td>\n",
       "      <td>0.011911</td>\n",
       "      <td>13375</td>\n",
       "    </tr>\n",
       "    <tr>\n",
       "      <th>5</th>\n",
       "      <td>battery</td>\n",
       "      <td>0.011545</td>\n",
       "      <td>19786</td>\n",
       "    </tr>\n",
       "    <tr>\n",
       "      <th>6</th>\n",
       "      <td>item</td>\n",
       "      <td>0.010770</td>\n",
       "      <td>7876</td>\n",
       "    </tr>\n",
       "    <tr>\n",
       "      <th>7</th>\n",
       "      <td>charger</td>\n",
       "      <td>0.010195</td>\n",
       "      <td>12405</td>\n",
       "    </tr>\n",
       "    <tr>\n",
       "      <th>8</th>\n",
       "      <td>motorola</td>\n",
       "      <td>0.005958</td>\n",
       "      <td>8031</td>\n",
       "    </tr>\n",
       "    <tr>\n",
       "      <th>9</th>\n",
       "      <td>what</td>\n",
       "      <td>0.005383</td>\n",
       "      <td>14095</td>\n",
       "    </tr>\n",
       "  </tbody>\n",
       "</table>\n",
       "</div>"
      ],
      "text/plain": [
       "     aspect  pagerank  count\n",
       "0     phone  0.050792  92275\n",
       "1   product  0.034677  22422\n",
       "2   headset  0.021423  26873\n",
       "3      case  0.020639  23596\n",
       "4     price  0.011911  13375\n",
       "5   battery  0.011545  19786\n",
       "6      item  0.010770   7876\n",
       "7   charger  0.010195  12405\n",
       "8  motorola  0.005958   8031\n",
       "9      what  0.005383  14095"
      ]
     },
     "execution_count": 24,
     "metadata": {},
     "output_type": "execute_result"
    }
   ],
   "source": [
    "aspects_page_ranks_df.head(10)"
   ]
  },
  {
   "cell_type": "code",
   "execution_count": 25,
   "metadata": {
    "collapsed": true
   },
   "outputs": [],
   "source": [
    "aspects_graph = load_serialized(data_path_aspects_graph)"
   ]
  },
  {
   "cell_type": "code",
   "execution_count": 26,
   "metadata": {
    "collapsed": false
   },
   "outputs": [
    {
     "data": {
      "text/plain": [
       "<networkx.classes.multidigraph.MultiDiGraph at 0x7f5da31550d0>"
      ]
     },
     "execution_count": 26,
     "metadata": {},
     "output_type": "execute_result"
    }
   ],
   "source": [
    "aspects_graph.to_directed()"
   ]
  },
  {
   "cell_type": "markdown",
   "metadata": {},
   "source": [
    "### Edges analysis"
   ]
  },
  {
   "cell_type": "markdown",
   "metadata": {},
   "source": [
    "Direction of the edge means relation from satellite to nucelus. S -> N"
   ]
  },
  {
   "cell_type": "code",
   "execution_count": 27,
   "metadata": {
    "collapsed": false
   },
   "outputs": [],
   "source": [
    "edges_counter = Counter(aspects_graph.edges())"
   ]
  },
  {
   "cell_type": "code",
   "execution_count": 28,
   "metadata": {
    "collapsed": false
   },
   "outputs": [
    {
     "data": {
      "text/plain": [
       "[((u'phone', u'case'), 481),\n",
       " ((u'phone', u'product'), 351),\n",
       " ((u'battery', u'phone'), 234),\n",
       " ((u'ear', u'headset'), 232),\n",
       " ((u'phone', u'headset'), 221),\n",
       " ((u'phone', u'battery'), 214),\n",
       " ((u'problem', u'phone'), 203),\n",
       " ((u'phone', u'charger'), 186),\n",
       " ((u'phone', u'price'), 158),\n",
       " ((u'camera', u'phone'), 157)]"
      ]
     },
     "execution_count": 28,
     "metadata": {},
     "output_type": "execute_result"
    }
   ],
   "source": [
    "edges_counter.most_common(10)"
   ]
  },
  {
   "cell_type": "code",
   "execution_count": 89,
   "metadata": {
    "collapsed": false
   },
   "outputs": [
    {
     "data": {
      "text/plain": [
       "[((u'volume', u'headset'), 64),\n",
       " ((u'volume', u'phone'), 41),\n",
       " ((u'volume', u'product'), 31),\n",
       " ((u'volume', u'headphone'), 15),\n",
       " ((u'volume', u'case'), 14),\n",
       " ((u'volume', u'price'), 10),\n",
       " ((u'headset', u'volume'), 10),\n",
       " ((u'volume', u'motorola'), 9),\n",
       " ((u'ear', u'volume'), 8),\n",
       " ((u'volume', u'bluetooth'), 8)]"
      ]
     },
     "execution_count": 89,
     "metadata": {},
     "output_type": "execute_result"
    }
   ],
   "source": [
    "aspect = u'volume'\n",
    "sorted({\n",
    "    (aspects, cooccurence)\n",
    "    for aspects, cooccurence\n",
    "    in edges_counter.items()\n",
    "    if aspect in aspects\n",
    "}, key=operator.itemgetter(1), reverse=True)[:10]    "
   ]
  },
  {
   "cell_type": "code",
   "execution_count": 63,
   "metadata": {
    "collapsed": false,
    "scrolled": false
   },
   "outputs": [],
   "source": [
    "aspect_hierarchy_elements = []\n",
    "for (aspect_1, aspect_2), n_count in edges_counter.most_common(250):\n",
    "    aspect_hierarchy_elements.append(get_aspects_hierarchy(edges_counter, aspects_page_ranks, aspect_1, aspect_2))\n",
    "\n",
    "aspect_hierarchy_elements = set(aspect_hierarchy_elements)"
   ]
  },
  {
   "cell_type": "code",
   "execution_count": 64,
   "metadata": {
    "collapsed": false
   },
   "outputs": [
    {
     "data": {
      "text/plain": [
       "AspectHierarchyRST(nucleus='phone', satellite='camera', all_relations=176)"
      ]
     },
     "execution_count": 64,
     "metadata": {},
     "output_type": "execute_result"
    }
   ],
   "source": [
    "get_aspects_hierarchy(edges_counter, aspects_page_ranks, 'phone', 'camera')"
   ]
  },
  {
   "cell_type": "code",
   "execution_count": 65,
   "metadata": {
    "collapsed": true
   },
   "outputs": [],
   "source": [
    "import operator"
   ]
  },
  {
   "cell_type": "code",
   "execution_count": 66,
   "metadata": {
    "collapsed": false,
    "scrolled": false
   },
   "outputs": [
    {
     "data": {
      "text/plain": [
       "[AspectHierarchyRST(nucleus=u'phone', satellite=u'case', all_relations=633),\n",
       " AspectHierarchyRST(nucleus=u'phone', satellite=u'battery', all_relations=448),\n",
       " AspectHierarchyRST(nucleus=u'phone', satellite=u'product', all_relations=446),\n",
       " AspectHierarchyRST(nucleus=u'phone', satellite=u'headset', all_relations=322),\n",
       " AspectHierarchyRST(nucleus=u'phone', satellite=u'problem', all_relations=280),\n",
       " AspectHierarchyRST(nucleus=u'phone', satellite=u'charger', all_relations=270),\n",
       " AspectHierarchyRST(nucleus=u'phone', satellite=u'price', all_relations=266),\n",
       " AspectHierarchyRST(nucleus=u'headset', satellite=u'ear', all_relations=251),\n",
       " AspectHierarchyRST(nucleus=u'phone', satellite=u'feature', all_relations=213),\n",
       " AspectHierarchyRST(nucleus=u'product', satellite=u'headset', all_relations=206),\n",
       " AspectHierarchyRST(nucleus=u'product', satellite=u'price', all_relations=204),\n",
       " AspectHierarchyRST(nucleus=u'phone', satellite=u'thing', all_relations=192),\n",
       " AspectHierarchyRST(nucleus=u'battery', satellite=u'charge', all_relations=183),\n",
       " AspectHierarchyRST(nucleus=u'phone', satellite=u'nokia', all_relations=177),\n",
       " AspectHierarchyRST(nucleus=u'phone', satellite=u'camera', all_relations=176),\n",
       " AspectHierarchyRST(nucleus=u'phone', satellite=u'motorola', all_relations=176),\n",
       " AspectHierarchyRST(nucleus=u'phone', satellite=u'what', all_relations=164),\n",
       " AspectHierarchyRST(nucleus=u'product', satellite=u'case', all_relations=163),\n",
       " AspectHierarchyRST(nucleus=u'phone', satellite=u'screen', all_relations=162),\n",
       " AspectHierarchyRST(nucleus=u'phone', satellite=u'one', all_relations=159),\n",
       " AspectHierarchyRST(nucleus=u'price', satellite=u'battery', all_relations=159),\n",
       " AspectHierarchyRST(nucleus=u'phone', satellite=u'item', all_relations=149),\n",
       " AspectHierarchyRST(nucleus=u'phone', satellite=u'cell phone', all_relations=145),\n",
       " AspectHierarchyRST(nucleus=u'phone', satellite=u'lot', all_relations=142),\n",
       " AspectHierarchyRST(nucleus=u'product', satellite=u'item', all_relations=127),\n",
       " AspectHierarchyRST(nucleus=u'product', satellite=u'problem', all_relations=127),\n",
       " AspectHierarchyRST(nucleus=u'phone', satellite=u'quality', all_relations=124),\n",
       " AspectHierarchyRST(nucleus=u'product', satellite=u'battery', all_relations=123),\n",
       " AspectHierarchyRST(nucleus=u'case', satellite=u'price', all_relations=123),\n",
       " AspectHierarchyRST(nucleus=u'phone', satellite=u'cingular', all_relations=120),\n",
       " AspectHierarchyRST(nucleus=u'phone', satellite=u'call', all_relations=119),\n",
       " AspectHierarchyRST(nucleus=u'product', satellite=u'what', all_relations=119),\n",
       " AspectHierarchyRST(nucleus=u'phone', satellite=u'bluetooth', all_relations=117),\n",
       " AspectHierarchyRST(nucleus=u'headset', satellite=u'problem', all_relations=113),\n",
       " AspectHierarchyRST(nucleus=u'phone', satellite=u'reception', all_relations=112),\n",
       " AspectHierarchyRST(nucleus=u'product', satellite=u'charger', all_relations=112),\n",
       " AspectHierarchyRST(nucleus=u'phone', satellite=u'charge', all_relations=112),\n",
       " AspectHierarchyRST(nucleus=u'phone', satellite=u'samsung', all_relations=111),\n",
       " AspectHierarchyRST(nucleus=u'phone', satellite=u'battery life', all_relations=110),\n",
       " AspectHierarchyRST(nucleus=u'phone', satellite=u'picture', all_relations=107),\n",
       " AspectHierarchyRST(nucleus=u'phone', satellite=u'people', all_relations=106),\n",
       " AspectHierarchyRST(nucleus=u'headset', satellite=u'sound', all_relations=105),\n",
       " AspectHierarchyRST(nucleus=u'headset', satellite=u'sound quality', all_relations=101),\n",
       " AspectHierarchyRST(nucleus=u'headset', satellite=u'bluetooth', all_relations=100),\n",
       " AspectHierarchyRST(nucleus=u'phone', satellite=u'money', all_relations=99),\n",
       " AspectHierarchyRST(nucleus=u'phone', satellite=u'way', all_relations=99),\n",
       " AspectHierarchyRST(nucleus=u'product', satellite=u'ear', all_relations=97),\n",
       " AspectHierarchyRST(nucleus=u'headset', satellite=u'motorola', all_relations=95),\n",
       " AspectHierarchyRST(nucleus=u'price', satellite=u'charger', all_relations=94),\n",
       " AspectHierarchyRST(nucleus=u'case', satellite=u'what', all_relations=93),\n",
       " AspectHierarchyRST(nucleus=u'phone', satellite=u'cover', all_relations=92),\n",
       " AspectHierarchyRST(nucleus=u'phone', satellite=u'service', all_relations=91),\n",
       " AspectHierarchyRST(nucleus=u'headset', satellite=u'price', all_relations=91),\n",
       " AspectHierarchyRST(nucleus=u'product', satellite=u'one', all_relations=89),\n",
       " AspectHierarchyRST(nucleus=u'headset', satellite=u'one', all_relations=89),\n",
       " AspectHierarchyRST(nucleus=u'case', satellite=u'clip', all_relations=88),\n",
       " AspectHierarchyRST(nucleus=u'product', satellite=u'money', all_relations=83),\n",
       " AspectHierarchyRST(nucleus=u'phone', satellite=u'device', all_relations=83),\n",
       " AspectHierarchyRST(nucleus=u'headset', satellite=u'quality', all_relations=83),\n",
       " AspectHierarchyRST(nucleus=u'product', satellite=u'quality', all_relations=83),\n",
       " AspectHierarchyRST(nucleus=u'product', satellite=u'device', all_relations=82),\n",
       " AspectHierarchyRST(nucleus=u'product', satellite=u'thing', all_relations=81),\n",
       " AspectHierarchyRST(nucleus=u'phone', satellite=u'button', all_relations=79),\n",
       " AspectHierarchyRST(nucleus=u'phone', satellite=u'everything', all_relations=78),\n",
       " AspectHierarchyRST(nucleus=u'price', satellite=u'what', all_relations=77),\n",
       " AspectHierarchyRST(nucleus=u'phone', satellite=u'use', all_relations=77),\n",
       " AspectHierarchyRST(nucleus=u'phone', satellite=u'review', all_relations=76),\n",
       " AspectHierarchyRST(nucleus=u'headset', satellite=u'people', all_relations=75),\n",
       " AspectHierarchyRST(nucleus=u'phone', satellite=u'amazon', all_relations=75),\n",
       " AspectHierarchyRST(nucleus=u'battery', satellite=u'cell phone', all_relations=74),\n",
       " AspectHierarchyRST(nucleus=u'headset', satellite=u'volume', all_relations=74),\n",
       " AspectHierarchyRST(nucleus=u'phone', satellite=u'wife', all_relations=74),\n",
       " AspectHierarchyRST(nucleus=u'case', satellite=u'one', all_relations=74),\n",
       " AspectHierarchyRST(nucleus=u'headset', satellite=u'plantronics', all_relations=71),\n",
       " AspectHierarchyRST(nucleus=u'headset', satellite=u'call', all_relations=71),\n",
       " AspectHierarchyRST(nucleus=u'phone', satellite=u'color', all_relations=70),\n",
       " AspectHierarchyRST(nucleus=u'phone', satellite=u'work', all_relations=70),\n",
       " AspectHierarchyRST(nucleus=u'product', satellite=u'car', all_relations=70),\n",
       " AspectHierarchyRST(nucleus=u'phone', satellite=u'sprint', all_relations=70),\n",
       " AspectHierarchyRST(nucleus=u'headset', satellite=u'thing', all_relations=69),\n",
       " AspectHierarchyRST(nucleus=u'phone', satellite=u'friend', all_relations=69),\n",
       " AspectHierarchyRST(nucleus=u'phone', satellite=u'ear', all_relations=67),\n",
       " AspectHierarchyRST(nucleus=u'case', satellite=u'design', all_relations=67),\n",
       " AspectHierarchyRST(nucleus=u'phone', satellite=u'replacement', all_relations=67),\n",
       " AspectHierarchyRST(nucleus=u'phone', satellite=u'headphone', all_relations=67),\n",
       " AspectHierarchyRST(nucleus=u'case', satellite=u'button', all_relations=66),\n",
       " AspectHierarchyRST(nucleus=u'phone', satellite=u'cable', all_relations=66),\n",
       " AspectHierarchyRST(nucleus=u'phone', satellite=u'razr', all_relations=65),\n",
       " AspectHierarchyRST(nucleus=u'case', satellite=u'color', all_relations=64),\n",
       " AspectHierarchyRST(nucleus=u'product', satellite=u'motorola', all_relations=64),\n",
       " AspectHierarchyRST(nucleus=u'phone', satellite=u'holster', all_relations=64),\n",
       " AspectHierarchyRST(nucleus=u'phone', satellite=u'verizon', all_relations=64),\n",
       " AspectHierarchyRST(nucleus=u'product', satellite=u'way', all_relations=64),\n",
       " AspectHierarchyRST(nucleus=u'phone', satellite=u'car', all_relations=62),\n",
       " AspectHierarchyRST(nucleus=u'case', satellite=u'leather', all_relations=62),\n",
       " AspectHierarchyRST(nucleus=u'charger', satellite=u'one', all_relations=62),\n",
       " AspectHierarchyRST(nucleus=u'product', satellite=u'unit', all_relations=61),\n",
       " AspectHierarchyRST(nucleus=u'phone', satellite=u'hour', all_relations=61),\n",
       " AspectHierarchyRST(nucleus=u'headset', satellite=u'cell phone', all_relations=61),\n",
       " AspectHierarchyRST(nucleus=u'battery', satellite=u'one', all_relations=61),\n",
       " AspectHierarchyRST(nucleus=u'case', satellite=u'protection', all_relations=61),\n",
       " AspectHierarchyRST(nucleus=u'phone', satellite=u'unit', all_relations=60),\n",
       " AspectHierarchyRST(nucleus=u'case', satellite=u'back', all_relations=60),\n",
       " AspectHierarchyRST(nucleus=u'phone', satellite=u'sound', all_relations=60),\n",
       " AspectHierarchyRST(nucleus=u'phone', satellite=u'music', all_relations=60),\n",
       " AspectHierarchyRST(nucleus=u'headset', satellite=u'use', all_relations=60),\n",
       " AspectHierarchyRST(nucleus=u'phone', satellite=u'car charger', all_relations=60),\n",
       " AspectHierarchyRST(nucleus=u'phone', satellite=u'ringtone', all_relations=60),\n",
       " AspectHierarchyRST(nucleus=u'phone', satellite=u'signal', all_relations=59),\n",
       " AspectHierarchyRST(nucleus=u'bluetooth', satellite=u'ear', all_relations=58),\n",
       " AspectHierarchyRST(nucleus=u'case', satellite=u'quality', all_relations=58),\n",
       " AspectHierarchyRST(nucleus=u'phone', satellite=u'something', all_relations=58),\n",
       " AspectHierarchyRST(nucleus=u'case', satellite=u'belt', all_relations=58),\n",
       " AspectHierarchyRST(nucleus=u'case', satellite=u'side', all_relations=58),\n",
       " AspectHierarchyRST(nucleus=u'phone', satellite=u'reason', all_relations=58),\n",
       " AspectHierarchyRST(nucleus=u'phone', satellite=u'husband', all_relations=58),\n",
       " AspectHierarchyRST(nucleus=u'product', satellite=u'bluetooth', all_relations=57),\n",
       " AspectHierarchyRST(nucleus=u'phone', satellite=u'purchase', all_relations=57),\n",
       " AspectHierarchyRST(nucleus=u'phone', satellite=u'number', all_relations=57),\n",
       " AspectHierarchyRST(nucleus=u'phone', satellite=u'piece', all_relations=57),\n",
       " AspectHierarchyRST(nucleus=u'case', satellite=u'screen', all_relations=56),\n",
       " AspectHierarchyRST(nucleus=u'headset', satellite=u'device', all_relations=56),\n",
       " AspectHierarchyRST(nucleus=u'phone', satellite=u'size', all_relations=55),\n",
       " AspectHierarchyRST(nucleus=u'phone', satellite=u'couple', all_relations=55),\n",
       " AspectHierarchyRST(nucleus=u'case', satellite=u'problem', all_relations=54),\n",
       " AspectHierarchyRST(nucleus=u'case', satellite=u'fit', all_relations=54),\n",
       " AspectHierarchyRST(nucleus=u'product', satellite=u'cell phone', all_relations=54),\n",
       " AspectHierarchyRST(nucleus=u'battery', satellite=u'what', all_relations=54),\n",
       " AspectHierarchyRST(nucleus=u'phone', satellite=u'software', all_relations=54),\n",
       " AspectHierarchyRST(nucleus=u'headset', satellite=u'review', all_relations=54),\n",
       " AspectHierarchyRST(nucleus=u'case', satellite=u'way', all_relations=54),\n",
       " AspectHierarchyRST(nucleus=u'battery', satellite=u'hour', all_relations=54),\n",
       " AspectHierarchyRST(nucleus=u'phone', satellite=u'who', all_relations=53),\n",
       " AspectHierarchyRST(nucleus=u'case', satellite=u'belt clip', all_relations=52),\n",
       " AspectHierarchyRST(nucleus=u'price', satellite=u'one', all_relations=52),\n",
       " AspectHierarchyRST(nucleus=u'product', satellite=u'use', all_relations=52),\n",
       " AspectHierarchyRST(nucleus=u'charger', satellite=u'charge', all_relations=51),\n",
       " AspectHierarchyRST(nucleus=u'phone', satellite=u'nothing', all_relations=51),\n",
       " AspectHierarchyRST(nucleus=u'product', satellite=u'people', all_relations=50),\n",
       " AspectHierarchyRST(nucleus=u'product', satellite=u'shipping', all_relations=50),\n",
       " AspectHierarchyRST(nucleus=u'battery', satellite=u'nokia', all_relations=50),\n",
       " AspectHierarchyRST(nucleus=u'price', satellite=u'item', all_relations=50),\n",
       " AspectHierarchyRST(nucleus=u'case', satellite=u'item', all_relations=50),\n",
       " AspectHierarchyRST(nucleus=u'case', satellite=u'thing', all_relations=49),\n",
       " AspectHierarchyRST(nucleus=u'headset', satellite=u'button', all_relations=49),\n",
       " AspectHierarchyRST(nucleus=u'charger', satellite=u'light', all_relations=49),\n",
       " AspectHierarchyRST(nucleus=u'case', satellite=u'plastic', all_relations=49),\n",
       " AspectHierarchyRST(nucleus=u'headset', satellite=u'unit', all_relations=49),\n",
       " AspectHierarchyRST(nucleus=u'phone', satellite=u'sound quality', all_relations=49),\n",
       " AspectHierarchyRST(nucleus=u'phone', satellite=u'issue', all_relations=49),\n",
       " AspectHierarchyRST(nucleus=u'phone', satellite=u'side', all_relations=49),\n",
       " AspectHierarchyRST(nucleus=u'phone', satellite=u'pocket', all_relations=49),\n",
       " AspectHierarchyRST(nucleus=u'phone', satellite=u'volume', all_relations=49),\n",
       " AspectHierarchyRST(nucleus=u'product', satellite=u'sound', all_relations=49),\n",
       " AspectHierarchyRST(nucleus=u'battery', satellite=u'problem', all_relations=49),\n",
       " AspectHierarchyRST(nucleus=u'phone', satellite=u'speakerphone', all_relations=48),\n",
       " AspectHierarchyRST(nucleus=u'headset', satellite=u'bluetooth headset', all_relations=48),\n",
       " AspectHierarchyRST(nucleus=u'phone', satellite=u'anyone', all_relations=48),\n",
       " AspectHierarchyRST(nucleus=u'phone', satellite=u'anything', all_relations=48),\n",
       " AspectHierarchyRST(nucleus=u'item', satellite=u'what', all_relations=48),\n",
       " AspectHierarchyRST(nucleus=u'case', satellite=u'bit', all_relations=47),\n",
       " AspectHierarchyRST(nucleus=u'charger', satellite=u'what', all_relations=47),\n",
       " AspectHierarchyRST(nucleus=u'charger', satellite=u'problem', all_relations=47),\n",
       " AspectHierarchyRST(nucleus=u'phone', satellite=u'game', all_relations=47),\n",
       " AspectHierarchyRST(nucleus=u'case', satellite=u'pocket', all_relations=47),\n",
       " AspectHierarchyRST(nucleus=u'phone', satellite=u'bit', all_relations=46),\n",
       " AspectHierarchyRST(nucleus=u'case', satellite=u'lot', all_relations=46),\n",
       " AspectHierarchyRST(nucleus=u'phone', satellite=u'hand', all_relations=46),\n",
       " AspectHierarchyRST(nucleus=u'ear', satellite=u'sound', all_relations=46),\n",
       " AspectHierarchyRST(nucleus=u'phone', satellite=u'light', all_relations=46),\n",
       " AspectHierarchyRST(nucleus=u'phone', satellite=u'computer', all_relations=46),\n",
       " AspectHierarchyRST(nucleus=u'phone', satellite=u'complaint', all_relations=45),\n",
       " AspectHierarchyRST(nucleus=u'product', satellite=u'work', all_relations=45),\n",
       " AspectHierarchyRST(nucleus=u'product', satellite=u'usb', all_relations=44),\n",
       " AspectHierarchyRST(nucleus=u'headset', satellite=u'bit', all_relations=44),\n",
       " AspectHierarchyRST(nucleus=u'product', satellite=u'charge', all_relations=44),\n",
       " AspectHierarchyRST(nucleus=u'product', satellite=u'cord', all_relations=44),\n",
       " AspectHierarchyRST(nucleus=u'charger', satellite=u'cord', all_relations=44),\n",
       " AspectHierarchyRST(nucleus=u'headset', satellite=u'car', all_relations=43),\n",
       " AspectHierarchyRST(nucleus=u'phone', satellite=u'minute', all_relations=43),\n",
       " AspectHierarchyRST(nucleus=u'headset', satellite=u'battery', all_relations=42),\n",
       " AspectHierarchyRST(nucleus=u'price', satellite=u'problem', all_relations=42),\n",
       " AspectHierarchyRST(nucleus=u'headset', satellite=u'complaint', all_relations=41),\n",
       " AspectHierarchyRST(nucleus=u'phone', satellite=u'place', all_relations=41),\n",
       " AspectHierarchyRST(nucleus=u'product', satellite=u'button', all_relations=41),\n",
       " AspectHierarchyRST(nucleus=u'headset', satellite=u'way', all_relations=40),\n",
       " AspectHierarchyRST(nucleus=u'product', satellite=u'call', all_relations=40),\n",
       " AspectHierarchyRST(nucleus=u'phone', satellite=u'area', all_relations=40),\n",
       " AspectHierarchyRST(nucleus=u'product', satellite=u'sound quality', all_relations=40),\n",
       " AspectHierarchyRST(nucleus=u'phone', satellite=u'video', all_relations=39),\n",
       " AspectHierarchyRST(nucleus=u'headset', satellite=u'range', all_relations=39),\n",
       " AspectHierarchyRST(nucleus=u'headset', satellite=u'battery life', all_relations=39),\n",
       " AspectHierarchyRST(nucleus=u'phone', satellite=u'card', all_relations=39),\n",
       " AspectHierarchyRST(nucleus=u'item', satellite=u'problem', all_relations=38),\n",
       " AspectHierarchyRST(nucleus=u'phone', satellite=u'con', all_relations=38),\n",
       " AspectHierarchyRST(nucleus=u'headset', satellite=u'hour', all_relations=37),\n",
       " AspectHierarchyRST(nucleus=u'phone', satellite=u'menu', all_relations=37),\n",
       " AspectHierarchyRST(nucleus=u'phone', satellite=u'display', all_relations=37),\n",
       " AspectHierarchyRST(nucleus=u'product', satellite=u'who', all_relations=37),\n",
       " AspectHierarchyRST(nucleus=u'phone', satellite=u'ty', all_relations=36),\n",
       " AspectHierarchyRST(nucleus=u'headset', satellite=u'person', all_relations=36),\n",
       " AspectHierarchyRST(nucleus=u'phone', satellite=u'store yesterday', all_relations=35),\n",
       " AspectHierarchyRST(nucleus=u'product', satellite=u'something', all_relations=34),\n",
       " AspectHierarchyRST(nucleus=u'product', satellite=u'volume', all_relations=34),\n",
       " AspectHierarchyRST(nucleus=u'headset', satellite=u'earpiece', all_relations=34),\n",
       " AspectHierarchyRST(nucleus=u'phone', satellite=u'tv', all_relations=34),\n",
       " AspectHierarchyRST(nucleus=u'phone', satellite=u'speaker', all_relations=34),\n",
       " AspectHierarchyRST(nucleus=u'product', satellite=u'complaint', all_relations=33)]"
      ]
     },
     "execution_count": 66,
     "metadata": {},
     "output_type": "execute_result"
    }
   ],
   "source": [
    "sorted(aspect_hierarchy_elements, key=operator.itemgetter(2), reverse=True)"
   ]
  },
  {
   "cell_type": "code",
   "execution_count": null,
   "metadata": {
    "collapsed": true
   },
   "outputs": [],
   "source": []
  },
  {
   "cell_type": "code",
   "execution_count": 31,
   "metadata": {
    "collapsed": false
   },
   "outputs": [
    {
     "data": {
      "text/plain": [
       "9555"
      ]
     },
     "execution_count": 31,
     "metadata": {},
     "output_type": "execute_result"
    }
   ],
   "source": [
    "aspects_graph.out_degree()['phone']"
   ]
  },
  {
   "cell_type": "code",
   "execution_count": 32,
   "metadata": {
    "collapsed": false
   },
   "outputs": [
    {
     "data": {
      "text/plain": [
       "13198"
      ]
     },
     "execution_count": 32,
     "metadata": {},
     "output_type": "execute_result"
    }
   ],
   "source": [
    "aspects_graph.in_degree()['phone']"
   ]
  },
  {
   "cell_type": "code",
   "execution_count": 33,
   "metadata": {
    "collapsed": false
   },
   "outputs": [
    {
     "data": {
      "text/plain": [
       "2679"
      ]
     },
     "execution_count": 33,
     "metadata": {},
     "output_type": "execute_result"
    }
   ],
   "source": [
    "aspects_graph.out_degree()['product']"
   ]
  },
  {
   "cell_type": "code",
   "execution_count": 34,
   "metadata": {
    "collapsed": false
   },
   "outputs": [
    {
     "data": {
      "text/plain": [
       "7696"
      ]
     },
     "execution_count": 34,
     "metadata": {},
     "output_type": "execute_result"
    }
   ],
   "source": [
    "aspects_graph.in_degree()['product']"
   ]
  },
  {
   "cell_type": "code",
   "execution_count": 35,
   "metadata": {
    "collapsed": false
   },
   "outputs": [
    {
     "data": {
      "text/plain": [
       "2154"
      ]
     },
     "execution_count": 35,
     "metadata": {},
     "output_type": "execute_result"
    }
   ],
   "source": [
    "aspects_graph.out_degree()['battery']"
   ]
  },
  {
   "cell_type": "code",
   "execution_count": 36,
   "metadata": {
    "collapsed": false
   },
   "outputs": [
    {
     "data": {
      "text/plain": [
       "2499"
      ]
     },
     "execution_count": 36,
     "metadata": {},
     "output_type": "execute_result"
    }
   ],
   "source": [
    "aspects_graph.in_degree()['battery']"
   ]
  },
  {
   "cell_type": "code",
   "execution_count": 37,
   "metadata": {
    "collapsed": true
   },
   "outputs": [],
   "source": [
    "aspects_in_degree = aspects_graph.in_degree()\n",
    "aspects_out_degree = aspects_graph.out_degree()"
   ]
  },
  {
   "cell_type": "code",
   "execution_count": 38,
   "metadata": {
    "collapsed": false
   },
   "outputs": [],
   "source": [
    "aspects_page_ranks_df['in_degree'] = aspects_page_ranks_df.aspect.apply(lambda a: aspects_in_degree[a])\n",
    "aspects_page_ranks_df['out_degree'] = aspects_page_ranks_df.aspect.apply(lambda a: aspects_out_degree[a])"
   ]
  },
  {
   "cell_type": "code",
   "execution_count": 39,
   "metadata": {
    "collapsed": false
   },
   "outputs": [
    {
     "data": {
      "text/html": [
       "<div>\n",
       "<table border=\"1\" class=\"dataframe\">\n",
       "  <thead>\n",
       "    <tr style=\"text-align: right;\">\n",
       "      <th></th>\n",
       "      <th>aspect</th>\n",
       "      <th>pagerank</th>\n",
       "      <th>count</th>\n",
       "      <th>in_degree</th>\n",
       "      <th>out_degree</th>\n",
       "    </tr>\n",
       "  </thead>\n",
       "  <tbody>\n",
       "    <tr>\n",
       "      <th>0</th>\n",
       "      <td>phone</td>\n",
       "      <td>0.050792</td>\n",
       "      <td>92275</td>\n",
       "      <td>13198</td>\n",
       "      <td>9555</td>\n",
       "    </tr>\n",
       "    <tr>\n",
       "      <th>1</th>\n",
       "      <td>product</td>\n",
       "      <td>0.034677</td>\n",
       "      <td>22422</td>\n",
       "      <td>7696</td>\n",
       "      <td>2679</td>\n",
       "    </tr>\n",
       "    <tr>\n",
       "      <th>2</th>\n",
       "      <td>headset</td>\n",
       "      <td>0.021423</td>\n",
       "      <td>26873</td>\n",
       "      <td>5904</td>\n",
       "      <td>2351</td>\n",
       "    </tr>\n",
       "    <tr>\n",
       "      <th>3</th>\n",
       "      <td>case</td>\n",
       "      <td>0.020639</td>\n",
       "      <td>23596</td>\n",
       "      <td>5216</td>\n",
       "      <td>2375</td>\n",
       "    </tr>\n",
       "    <tr>\n",
       "      <th>4</th>\n",
       "      <td>price</td>\n",
       "      <td>0.011911</td>\n",
       "      <td>13375</td>\n",
       "      <td>2750</td>\n",
       "      <td>2178</td>\n",
       "    </tr>\n",
       "    <tr>\n",
       "      <th>5</th>\n",
       "      <td>battery</td>\n",
       "      <td>0.011545</td>\n",
       "      <td>19786</td>\n",
       "      <td>2499</td>\n",
       "      <td>2154</td>\n",
       "    </tr>\n",
       "    <tr>\n",
       "      <th>6</th>\n",
       "      <td>item</td>\n",
       "      <td>0.010770</td>\n",
       "      <td>7876</td>\n",
       "      <td>2275</td>\n",
       "      <td>947</td>\n",
       "    </tr>\n",
       "    <tr>\n",
       "      <th>7</th>\n",
       "      <td>charger</td>\n",
       "      <td>0.010195</td>\n",
       "      <td>12405</td>\n",
       "      <td>2363</td>\n",
       "      <td>1474</td>\n",
       "    </tr>\n",
       "    <tr>\n",
       "      <th>8</th>\n",
       "      <td>motorola</td>\n",
       "      <td>0.005958</td>\n",
       "      <td>8031</td>\n",
       "      <td>1577</td>\n",
       "      <td>788</td>\n",
       "    </tr>\n",
       "    <tr>\n",
       "      <th>9</th>\n",
       "      <td>what</td>\n",
       "      <td>0.005383</td>\n",
       "      <td>14095</td>\n",
       "      <td>1136</td>\n",
       "      <td>1705</td>\n",
       "    </tr>\n",
       "  </tbody>\n",
       "</table>\n",
       "</div>"
      ],
      "text/plain": [
       "     aspect  pagerank  count  in_degree  out_degree\n",
       "0     phone  0.050792  92275      13198        9555\n",
       "1   product  0.034677  22422       7696        2679\n",
       "2   headset  0.021423  26873       5904        2351\n",
       "3      case  0.020639  23596       5216        2375\n",
       "4     price  0.011911  13375       2750        2178\n",
       "5   battery  0.011545  19786       2499        2154\n",
       "6      item  0.010770   7876       2275         947\n",
       "7   charger  0.010195  12405       2363        1474\n",
       "8  motorola  0.005958   8031       1577         788\n",
       "9      what  0.005383  14095       1136        1705"
      ]
     },
     "execution_count": 39,
     "metadata": {},
     "output_type": "execute_result"
    }
   ],
   "source": [
    "aspects_page_ranks_df.head(10)"
   ]
  },
  {
   "cell_type": "code",
   "execution_count": 40,
   "metadata": {
    "collapsed": false
   },
   "outputs": [
    {
     "data": {
      "text/plain": [
       "14304"
      ]
     },
     "execution_count": 40,
     "metadata": {},
     "output_type": "execute_result"
    }
   ],
   "source": [
    "len([g for g in nx.strongly_connected_components(aspects_graph.to_directed())])"
   ]
  },
  {
   "cell_type": "code",
   "execution_count": 41,
   "metadata": {
    "collapsed": false
   },
   "outputs": [],
   "source": [
    "# G = max(nx.weakly_connected_component_subgraphs(aspects_graph), key=len)"
   ]
  },
  {
   "cell_type": "code",
   "execution_count": null,
   "metadata": {
    "collapsed": true
   },
   "outputs": [],
   "source": []
  }
 ],
 "metadata": {
  "kernelspec": {
   "display_name": "Python 2",
   "language": "python",
   "name": "python2"
  },
  "language_info": {
   "codemirror_mode": {
    "name": "ipython",
    "version": 2
   },
   "file_extension": ".py",
   "mimetype": "text/x-python",
   "name": "python",
   "nbconvert_exporter": "python",
   "pygments_lexer": "ipython2",
   "version": "2.7.6"
  }
 },
 "nbformat": 4,
 "nbformat_minor": 1
}
