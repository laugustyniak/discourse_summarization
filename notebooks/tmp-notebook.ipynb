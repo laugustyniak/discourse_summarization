{
 "metadata": {
  "name": "",
  "signature": "sha256:62003a5f2acde6f0008505c3653dc1c5c32af5d5936234e102b1e718ccc3882f"
 },
 "nbformat": 3,
 "nbformat_minor": 0,
 "worksheets": [
  {
   "cells": [
    {
     "cell_type": "code",
     "collapsed": false,
     "input": [
      "import spacy\n",
      "nlp = spacy.load('en')"
     ],
     "language": "python",
     "metadata": {},
     "outputs": [],
     "prompt_number": 1
    },
    {
     "cell_type": "code",
     "collapsed": false,
     "input": [
      "from sklearn.externals import joblib"
     ],
     "language": "python",
     "metadata": {},
     "outputs": [],
     "prompt_number": 2
    },
    {
     "cell_type": "code",
     "collapsed": false,
     "input": [
      "# model = joblib.load('data/models/Pipeline-LogisticRegression-CountVectorizer-n_grams_1_2-stars-1-3-5-10-domains.pkl')\n",
      "model = joblib.load('data/models/Pipeline-LogisticRegression-CountVectorizer-n_grams_1_2-stars-1-3-5-10-domains.pkl')"
     ],
     "language": "python",
     "metadata": {},
     "outputs": [],
     "prompt_number": 3
    },
    {
     "cell_type": "code",
     "collapsed": false,
     "input": [
      "# model.predict([text])"
     ],
     "language": "python",
     "metadata": {},
     "outputs": [],
     "prompt_number": 4
    },
    {
     "cell_type": "code",
     "collapsed": false,
     "input": [
      "from AspectExtractor import AspectExtractor\n",
      "from Preprocesser import Preprocesser"
     ],
     "language": "python",
     "metadata": {},
     "outputs": [],
     "prompt_number": 5
    },
    {
     "cell_type": "code",
     "collapsed": false,
     "input": [
      "preprocesser = Preprocesser()\n",
      "aspects_extractor = AspectExtractor()"
     ],
     "language": "python",
     "metadata": {},
     "outputs": [
      {
       "output_type": "stream",
       "stream": "stdout",
       "text": [
        "Preprocesser: initializing\n",
        "Preprocesser: initialized"
       ]
      },
      {
       "output_type": "stream",
       "stream": "stdout",
       "text": [
        "\n"
       ]
      }
     ],
     "prompt_number": 6
    },
    {
     "cell_type": "code",
     "collapsed": false,
     "input": [
      "phrases = '/home/lukasz/luk.augustyniak@gmail.com/Projects/Spoken/Notes/7summaries/all.csv'\n",
      "phrases = '/home/lukasz/luk.augustyniak@gmail.com/Projects/Spoken/Notes/phrases-annotation.csv'"
     ],
     "language": "python",
     "metadata": {},
     "outputs": [],
     "prompt_number": 10
    },
    {
     "cell_type": "code",
     "collapsed": false,
     "input": [
      "# with open(phrases, 'r') as f:\n",
      "#     for idx, line in enumerate(f):\n",
      "#         text = line.rstrip().replace(',', ' ')\n",
      "#         print idx, text\n",
      "#         print 'Sentiment: ', model.predict([text])[0]\n",
      "#         text = preprocesser.preprocess(text)\n",
      "#         aspects_obtained, _ = aspects_extractor.extract(text)\n",
      "#         print 'Aspects extracted: ', aspects_obtained\n",
      "#         print '\\n'"
     ],
     "language": "python",
     "metadata": {},
     "outputs": [],
     "prompt_number": 1
    },
    {
     "cell_type": "code",
     "collapsed": false,
     "input": [],
     "language": "python",
     "metadata": {},
     "outputs": []
    }
   ],
   "metadata": {}
  }
 ]
}