{
 "worksheets": [
  {
   "cells": [
    {
     "cell_type": "heading",
     "metadata": {},
     "level": 1,
     "source": [
      "# Imports "
     ]
    },
    {
     "cell_type": "code",
     "execution_count": null,
     "metadata": {},
     "outputs": [],
     "input": [
      "import requests"
     ],
     "language": "python",
     "prompt_number": 11
    },
    {
     "cell_type": "code",
     "execution_count": null,
     "metadata": {},
     "outputs": [],
     "input": [
      "import networkx as nx\n",
      "import matplotlib.pyplot as plt\n",
      "import pylab"
     ],
     "language": "python",
     "prompt_number": 12
    },
    {
     "cell_type": "code",
     "execution_count": null,
     "metadata": {},
     "outputs": [],
     "input": [
      "from networkx_viewer import Viewer"
     ],
     "language": "python",
     "prompt_number": 13
    },
    {
     "cell_type": "heading",
     "metadata": {},
     "level": 1,
     "source": [
      "# Example concept "
     ]
    },
    {
     "cell_type": "code",
     "execution_count": null,
     "metadata": {},
     "outputs": [
      {
       "prompt_number": 14,
       "metadata": {},
       "output_type": "pyout",
       "text": [
        "[u'@context', u'edges', u'@id', u'view']"
       ]
      }
     ],
     "input": [
      "obj = requests.get('http://api.conceptnet.io/c/en/camera').json()\n",
      "obj.keys()"
     ],
     "language": "python",
     "prompt_number": 14
    },
    {
     "cell_type": "code",
     "execution_count": null,
     "metadata": {},
     "outputs": [
      {
       "prompt_number": 15,
       "metadata": {},
       "output_type": "pyout",
       "text": [
        "u'/c/en/camera'"
       ]
      }
     ],
     "input": [
      "obj['@id']"
     ],
     "language": "python",
     "prompt_number": 15
    },
    {
     "cell_type": "code",
     "execution_count": null,
     "metadata": {},
     "outputs": [
      {
       "prompt_number": 16,
       "metadata": {},
       "output_type": "pyout",
       "text": [
        "[u'http://api.conceptnet.io/ld/conceptnet5.5/context.ld.json',\n",
        " u'http://api.conceptnet.io/ld/conceptnet5.5/pagination.ld.json']"
       ]
      }
     ],
     "input": [
      "obj['@context']"
     ],
     "language": "python",
     "prompt_number": 16
    },
    {
     "cell_type": "code",
     "execution_count": null,
     "metadata": {},
     "outputs": [
      {
       "prompt_number": 17,
       "metadata": {},
       "output_type": "pyout",
       "text": [
        "{u'@id': u'/c/en/camera?offset=0&limit=20',\n",
        " u'firstPage': u'/c/en/camera?offset=0&limit=20',\n",
        " u'nextPage': u'/c/en/camera?offset=20&limit=20',\n",
        " u'paginatedProperty': u'edges'}"
       ]
      }
     ],
     "input": [
      "obj['view']"
     ],
     "language": "python",
     "prompt_number": 17
    },
    {
     "cell_type": "code",
     "execution_count": null,
     "metadata": {},
     "outputs": [
      {
       "prompt_number": 29,
       "metadata": {},
       "output_type": "pyout",
       "text": [
        "u'/c/en/camera?offset=20&limit=20'"
       ]
      }
     ],
     "input": [
      "obj['view']['nextPage']"
     ],
     "language": "python",
     "prompt_number": 29
    },
    {
     "cell_type": "code",
     "execution_count": null,
     "metadata": {},
     "outputs": [
      {
       "prompt_number": 18,
       "metadata": {},
       "output_type": "pyout",
       "text": [
        "20"
       ]
      }
     ],
     "input": [
      "len(obj['edges'])"
     ],
     "language": "python",
     "prompt_number": 18
    },
    {
     "cell_type": "code",
     "execution_count": null,
     "metadata": {},
     "outputs": [
      {
       "prompt_number": 26,
       "metadata": {},
       "output_type": "pyout",
       "text": [
        "7.483314773547882"
       ]
      }
     ],
     "input": [
      "obj['edges'][0]['weight']"
     ],
     "language": "python",
     "prompt_number": 26
    },
    {
     "cell_type": "heading",
     "metadata": {},
     "level": 1,
     "source": [
      "# Relations for aspect's hierarchy "
     ]
    },
    {
     "cell_type": "code",
     "execution_count": null,
     "metadata": {},
     "outputs": [],
     "input": [
      "relations_aspects = ['LocatedNear', 'HasA', 'PartOf', 'MadeOf', 'IsA', 'InheritsFrom']"
     ],
     "language": "python",
     "prompt_number": 9
    },
    {
     "cell_type": "heading",
     "metadata": {},
     "level": 1,
     "source": [
      "# Get relation types "
     ]
    },
    {
     "cell_type": "code",
     "execution_count": null,
     "metadata": {},
     "outputs": [
      {
       "stream": "stdout",
       "output_type": "stream",
       "text": [
        "a camera UsedFor take pictures\n",
        "a lens AtLocation the camera\n",
        "picture RelatedTo camera\n",
        "flash RelatedTo camera\n",
        "Camera HasA a flash\n",
        "a camera AtLocation a suitcase\n",
        "box camera IsA camera\n",
        "A camera IsA a tool for taking pictures\n",
        "camera IsA photographic equipment\n",
        "candid camera IsA camera\n",
        "flash camera IsA camera\n",
        "motion-picture camera IsA camera\n",
        "point-and-shoot camera IsA camera\n",
        "portrait camera IsA camera\n",
        "reflex camera IsA camera\n",
        "aperture PartOf camera\n",
        "camera lens PartOf camera\n",
        "delayed action PartOf camera\n",
        "diaphragm PartOf camera\n",
        "finder PartOf camera\n"
       ]
      }
     ],
     "input": [
      "for edge in obj['edges']:\n",
      "#     print edge['@id']\n",
      "    print edge['start']['label'], edge['rel']['label'], edge['end']['label']"
     ],
     "language": "python",
     "prompt_number": 16
    },
    {
     "cell_type": "heading",
     "metadata": {},
     "level": 1,
     "source": [
      "# Create graph based on relations  "
     ]
    },
    {
     "cell_type": "code",
     "execution_count": null,
     "metadata": {},
     "outputs": [],
     "input": [
      "# chosen concepts to build a graph\n",
      "concept_names = ['camera', 'screen', 'phone', 'signal', 'operator', 'computer screen']"
     ],
     "language": "python",
     "prompt_number": 17
    },
    {
     "cell_type": "code",
     "execution_count": null,
     "metadata": {},
     "outputs": [],
     "input": [
      "# %%timeit -r 1\n",
      "\n",
      "concepts = []\n",
      "for concept_name in concept_names:\n",
      "    concepts += requests.get('http://api.conceptnet.io/c/en/{}'.format(concept_name)).json()['edges']"
     ],
     "language": "python",
     "prompt_number": 18
    },
    {
     "cell_type": "code",
     "execution_count": null,
     "metadata": {},
     "outputs": [
      {
       "prompt_number": 19,
       "metadata": {},
       "output_type": "pyout",
       "text": [
        "100"
       ]
      }
     ],
     "input": [
      "len(concepts)"
     ],
     "language": "python",
     "prompt_number": 19
    },
    {
     "cell_type": "code",
     "execution_count": null,
     "metadata": {},
     "outputs": [],
     "input": [
      "aspects_graph = nx.DiGraph()"
     ],
     "language": "python",
     "prompt_number": 20
    },
    {
     "cell_type": "code",
     "execution_count": null,
     "metadata": {},
     "outputs": [],
     "input": [
      "for edge in concepts:\n",
      "    relation = edge['rel']['label']\n",
      "    if relation in relations_aspects:\n",
      "        aspects_graph.add_edge(edge['start']['label'], edge['end']['label'], relation=relation)"
     ],
     "language": "python",
     "prompt_number": 15
    },
    {
     "cell_type": "code",
     "execution_count": null,
     "metadata": {},
     "outputs": [
      {
       "stream": "stdout",
       "output_type": "stream",
       "text": [
        "(u'Camera', u'a flash', u'HasA')\n",
        "(u'box camera', u'camera', u'IsA')\n",
        "(u'A camera', u'a tool for taking pictures', u'IsA')\n",
        "(u'camera', u'photographic equipment', u'IsA')\n",
        "(u'candid camera', u'camera', u'IsA')\n",
        "(u'flash camera', u'camera', u'IsA')\n",
        "(u'motion-picture camera', u'camera', u'IsA')\n",
        "(u'point-and-shoot camera', u'camera', u'IsA')\n",
        "(u'portrait camera', u'camera', u'IsA')\n",
        "(u'reflex camera', u'camera', u'IsA')\n",
        "(u'aperture', u'camera', u'PartOf')\n",
        "(u'camera lens', u'camera', u'PartOf')\n",
        "(u'delayed action', u'camera', u'PartOf')\n",
        "(u'diaphragm', u'camera', u'PartOf')\n",
        "(u'finder', u'camera', u'PartOf')\n",
        "(u'altarpiece', u'screen', u'IsA')\n",
        "(u'background', u'screen', u'IsA')\n",
        "(u'blind', u'screen', u'IsA')\n",
        "(u'camouflage', u'screen', u'IsA')\n",
        "(u'computer screen', u'screen', u'IsA')\n",
        "(u'fire screen', u'screen', u'IsA')\n",
        "(u'mosquito net', u'screen', u'IsA')\n",
        "(u'purdah', u'screen', u'IsA')\n",
        "(u'rood screen', u'screen', u'IsA')\n",
        "(u'screen', u'covering', u'IsA')\n",
        "(u'screen', u'display', u'IsA')\n",
        "(u'screen', u'partition', u'IsA')\n",
        "(u'screen', u'protective covering', u'IsA')\n",
        "(u'screen', u'surface', u'IsA')\n",
        "(u'screen', u'analyze', u'IsA')\n",
        "(u'consonant', u'phone', u'IsA')\n",
        "(u'orinasal phone', u'phone', u'IsA')\n",
        "(u'all clear', u'signal', u'IsA')\n",
        "(u'animal communication', u'signal', u'IsA')\n",
        "(u'bugle call', u'signal', u'IsA')\n",
        "(u'curfew', u'signal', u'IsA')\n",
        "(u'distress signal', u'signal', u'IsA')\n",
        "(u'dog-ear', u'signal', u'IsA')\n",
        "(u'drumbeat', u'signal', u'IsA')\n",
        "(u'high sign', u'signal', u'IsA')\n",
        "(u'indicator', u'signal', u'IsA')\n",
        "(u'input signal', u'signal', u'IsA')\n",
        "(u'interrupt', u'signal', u'IsA')\n",
        "(u'output signal', u'signal', u'IsA')\n",
        "(u'phone number', u'signal', u'IsA')\n",
        "(u'radio beacon', u'signal', u'IsA')\n",
        "(u'radio beam', u'signal', u'IsA')\n",
        "(u'recording', u'signal', u'IsA')\n",
        "(u'retreat', u'signal', u'IsA')\n",
        "(u'signal', u'communication', u'IsA')\n",
        "(u'signal', u'electricity', u'IsA')\n",
        "(u'company operator', u'operator', u'IsA')\n",
        "(u'driver', u'operator', u'IsA')\n",
        "(u'elevator operator', u'operator', u'IsA')\n",
        "(u'engineer', u'operator', u'IsA')\n",
        "(u'hoister', u'operator', u'IsA')\n",
        "(u'identity', u'operator', u'IsA')\n",
        "(u'jockey', u'operator', u'IsA')\n",
        "(u'linear operator', u'operator', u'IsA')\n",
        "(u'motorman', u'operator', u'IsA')\n",
        "(u'operator', u'businessman', u'IsA')\n",
        "(u'operator', u'causal agent', u'IsA')\n",
        "(u'operator', u'mapping', u'IsA')\n",
        "(u'operator', u'speculator', u'IsA')\n",
        "(u'radio operator', u'operator', u'IsA')\n",
        "(u'supermarketer', u'operator', u'IsA')\n",
        "(u'switchman', u'operator', u'IsA')\n",
        "(u'telegrapher', u'operator', u'IsA')\n"
       ]
      }
     ],
     "input": [
      "concept_aspects_ = {}\n",
      "for edge in concepts:\n",
      "    relation = edge['rel']['label']\n",
      "    if relation in relations_aspects:\n",
      "        print(edge['start']['label'], edge['end']['label'], relation)"
     ],
     "language": "python",
     "prompt_number": 23
    },
    {
     "cell_type": "code",
     "execution_count": null,
     "metadata": {},
     "outputs": [],
     "input": [
      "# dict([((u,v,),d['relation']) for u,v,d in aspects_graph.edges(data=True)])"
     ],
     "language": "python",
     "prompt_number": 20
    },
    {
     "cell_type": "code",
     "execution_count": null,
     "metadata": {},
     "outputs": [],
     "input": [
      "edge_labels = dict([((u,v,),d['relation']) for u,v,d in aspects_graph.edges(data=True)])\n",
      "node_labels = {n:n for n in aspects_graph.nodes()}\n",
      "\n",
      "# pos = nx.spring_layout(aspects_graph)\n",
      "pos = nx.random_layout(aspects_graph)\n",
      "nx.draw_networkx_edge_labels(aspects_graph, pos, edge_labels=edge_labels, font_size=6)\n",
      "nx.draw_networkx_labels(aspects_graph, pos, labels=node_labels, font_size=6)\n",
      "nx.draw(aspects_graph, pos, node_size=150, edge_cmap=plt.cm.Reds)\n",
      "# plt.show()"
     ],
     "language": "python",
     "prompt_number": 27
    },
    {
     "cell_type": "code",
     "execution_count": null,
     "metadata": {},
     "outputs": [],
     "input": [
      "plt.savefig('concepts-graph.png', dpi=300)"
     ],
     "language": "python",
     "prompt_number": 28
    },
    {
     "cell_type": "code",
     "execution_count": null,
     "metadata": {},
     "outputs": [],
     "input": [
      "app = Viewer(aspects_graph)\n",
      "app.mainloop()"
     ],
     "language": "python",
     "prompt_number": 30
    },
    {
     "cell_type": "code",
     "execution_count": null,
     "metadata": {},
     "outputs": [],
     "input": [
      "nx.write_gexf(aspects_graph, 'concept-graph.gexf')"
     ],
     "language": "python",
     "prompt_number": 32
    },
    {
     "cell_type": "code",
     "execution_count": null,
     "metadata": {},
     "outputs": [],
     "input": [],
     "language": "python"
    }
   ]
  }
 ],
 "cells": [],
 "metadata": {
  "name": "",
  "signature": "sha256:4926d6b779420fbbd783fecbda1c31a2aee70bcf9d7a32669cc9a55405303169"
 },
 "nbformat": 4,
 "nbformat_minor": 0
}
