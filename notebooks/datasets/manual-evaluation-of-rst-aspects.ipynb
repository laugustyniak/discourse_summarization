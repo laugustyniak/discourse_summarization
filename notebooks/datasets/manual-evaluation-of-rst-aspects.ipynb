{
 "cells": [
  {
   "cell_type": "code",
   "execution_count": 3,
   "metadata": {},
   "outputs": [],
   "source": [
    "import sys\n",
    "sys.path.append(\"../..\") # go to parent dir"
   ]
  },
  {
   "cell_type": "code",
   "execution_count": 7,
   "metadata": {},
   "outputs": [],
   "source": [
    "from aspects.analysis.statistics_rst_graphs import get_aspect_ranking_based_on_rst_and_pagerank, ASPECTS_GRAPH_PATHS\n",
    "from aspects.utilities.common_nlp import "
   ]
  },
  {
   "cell_type": "code",
   "execution_count": 61,
   "metadata": {},
   "outputs": [],
   "source": [
    "import operator\n",
    "from collections import Counter\n",
    "from pathlib import Path\n",
    "import pandas as pd\n",
    "from wordfreq import zipf_frequency\n",
    "\n",
    "from nltk.corpus import wordnet"
   ]
  },
  {
   "cell_type": "code",
   "execution_count": 16,
   "metadata": {},
   "outputs": [],
   "source": [
    "aspect_rankings = get_aspect_ranking_based_on_rst_and_pagerank(aspects_graph_path=ASPECTS_GRAPH_PATHS[1], top_n=10000)"
   ]
  },
  {
   "cell_type": "code",
   "execution_count": 17,
   "metadata": {},
   "outputs": [],
   "source": [
    "df = pd.DataFrame([(aspect, zipf_frequency(aspect, 'en')) for aspect in aspect_rankings], columns=['aspect', 'zipf'])"
   ]
  },
  {
   "cell_type": "code",
   "execution_count": 48,
   "metadata": {},
   "outputs": [
    {
     "data": {
      "text/html": [
       "<div>\n",
       "<style>\n",
       "    .dataframe thead tr:only-child th {\n",
       "        text-align: right;\n",
       "    }\n",
       "\n",
       "    .dataframe thead th {\n",
       "        text-align: left;\n",
       "    }\n",
       "\n",
       "    .dataframe tbody tr th {\n",
       "        vertical-align: top;\n",
       "    }\n",
       "</style>\n",
       "<table border=\"1\" class=\"dataframe\">\n",
       "  <thead>\n",
       "    <tr style=\"text-align: right;\">\n",
       "      <th></th>\n",
       "      <th>aspect</th>\n",
       "      <th>zipf</th>\n",
       "    </tr>\n",
       "  </thead>\n",
       "  <tbody>\n",
       "    <tr>\n",
       "      <th>25</th>\n",
       "      <td>way</td>\n",
       "      <td>6.02</td>\n",
       "    </tr>\n",
       "    <tr>\n",
       "      <th>144</th>\n",
       "      <td>very</td>\n",
       "      <td>6.01</td>\n",
       "    </tr>\n",
       "  </tbody>\n",
       "</table>\n",
       "</div>"
      ],
      "text/plain": [
       "    aspect  zipf\n",
       "25     way  6.02\n",
       "144   very  6.01"
      ]
     },
     "execution_count": 48,
     "metadata": {},
     "output_type": "execute_result"
    }
   ],
   "source": [
    "df.sort_values('zipf', ascending=False).head(2)"
   ]
  },
  {
   "cell_type": "markdown",
   "metadata": {},
   "source": [
    "# Wordnet coverage"
   ]
  },
  {
   "cell_type": "code",
   "execution_count": 24,
   "metadata": {},
   "outputs": [],
   "source": [
    "def coverage_of_wordnets_synsets(terms):\n",
    "    return len([wordnet.synsets(ss) for ss in terms if wordnet.synsets(ss)]) / len(terms)"
   ]
  },
  {
   "cell_type": "code",
   "execution_count": 38,
   "metadata": {},
   "outputs": [
    {
     "name": "stdout",
     "output_type": "stream",
     "text": [
      "ipod = 64.47%\n",
      "Diaper Champ = 71.07%\n",
      "norton = 62.83%\n",
      "Linksys Router = 60.76%\n",
      "MicroMP3 = 61.54%\n",
      "Canon S100 = 61.54%\n",
      "Canon PowerShot SD500 = 66.48%\n",
      "Nokia 6600 = 59.84%\n",
      "Hitachi router = 66.12%\n"
     ]
    }
   ],
   "source": [
    "for aspect_graph in ASPECTS_GRAPH_PATHS:\n",
    "    print(f'{Path(aspect_graph).parent.stem} = {coverage_of_wordnets_synsets(get_aspect_ranking_based_on_rst_and_pagerank(aspects_graph_path=aspect_graph, top_n=10000)) * 100:.2f}%')"
   ]
  },
  {
   "cell_type": "code",
   "execution_count": 74,
   "metadata": {},
   "outputs": [],
   "source": [
    "def get_synsets(terms):\n",
    "    return [wordnet.synsets(ss) for ss in terms]"
   ]
  },
  {
   "cell_type": "code",
   "execution_count": 75,
   "metadata": {},
   "outputs": [],
   "source": [
    "def more_nouns(counter):\n",
    "    n_nouns = counter['n']\n",
    "    counter.pop('n', None)\n",
    "    other_pos_sum = sum(counter.values())\n",
    "    if n_nouns > other_pos_sum:\n",
    "        return True\n",
    "    else:\n",
    "        return False"
   ]
  },
  {
   "cell_type": "code",
   "execution_count": 77,
   "metadata": {},
   "outputs": [],
   "source": [
    "def get_aspects_with_noun_bool(aspect_graph):\n",
    "    aspects = get_aspect_ranking_based_on_rst_and_pagerank(aspect_graph, top_n=100000)\n",
    "    return {\n",
    "        aspect: more_nouns(Counter([ss.pos() for ss in wordnet.synsets(aspect)]))\n",
    "        for aspect\n",
    "        in aspects\n",
    "    }"
   ]
  },
  {
   "cell_type": "code",
   "execution_count": 68,
   "metadata": {},
   "outputs": [],
   "source": []
  },
  {
   "cell_type": "code",
   "execution_count": 69,
   "metadata": {},
   "outputs": [
    {
     "data": {
      "text/plain": [
       "False"
      ]
     },
     "execution_count": 69,
     "metadata": {},
     "output_type": "execute_result"
    }
   ],
   "source": [
    "more_nouns(Counter(['a', 'a', 'n']))"
   ]
  },
  {
   "cell_type": "code",
   "execution_count": 70,
   "metadata": {},
   "outputs": [
    {
     "data": {
      "text/plain": [
       "False"
      ]
     },
     "execution_count": 70,
     "metadata": {},
     "output_type": "execute_result"
    }
   ],
   "source": [
    "more_nouns(Counter(['a', 'a', 'n', 'n']))"
   ]
  },
  {
   "cell_type": "code",
   "execution_count": 71,
   "metadata": {},
   "outputs": [
    {
     "data": {
      "text/plain": [
       "True"
      ]
     },
     "execution_count": 71,
     "metadata": {},
     "output_type": "execute_result"
    }
   ],
   "source": [
    "more_nouns(Counter(['a', 'a', 'n', 'n', 'n']))"
   ]
  },
  {
   "cell_type": "code",
   "execution_count": 78,
   "metadata": {},
   "outputs": [
    {
     "name": "stdout",
     "output_type": "stream",
     "text": [
      "/home/lukasz/github/phd/sentiment-backend/notebooks/datasets/../../results/ipod/aspects_graph.gpkl\n",
      "{'gb': True, 'ipod': True, 'apple': True, 'advice': True, 'player': True, 'battery': True, 'inbox accessory': False, 'finish': True, 'package': True, 'lot': True, 'thing': True, 'windows': True, 'fact': True, 'mac': True, 'complaint': True, 'second': True, 'wheel': True, 'pc': True, 'feature': True, 'problem': True, 'hour': True, 'album': True, 'service': True, 'tg': False, 'consumer review': False, 'song': True, 'flag': True, 'mp3 player': False, 'friend': True, 'process': False, 'music audio book library': False, 'battery life': False, 'microsoft': False, 'case': True, 'play': False, 'headphone': True, 'arm strap belt strap case': False, 'charge': False, 'generation': True, 'product': True, 'summary': False, 'storage': True, 'mini': False, 'choice list': False, 'program': True, 'device': True, 'menu lot': False, 'tomorrow': True, 'dissapointing': False, 'face': True, 'people': True, 'wheel click': False, 'area': True, 'conspiracy': True, 'contact file': False, 'document': True, 'reason': True, 'case company': False, 'creatives': False, 'ability': True, 'student': True, 'solution': True, 'downloading track': False, 'music': True, 'drive': False, 'alternative': False, 'fashion statement': False, 'concept': True, 'gb or': False, 'sense': True, 'adapter': True, 'purchase': True, 'sound': False, 'clickwheel': False, 'island': True, 'file': False, 'beast': True, 'worth': True, 'storage capacity': False, 'neoprene case': False, 'reviewer': True, 'marware': False, 'earphone': True, 'unit': True, 'luck': True, 'range': True, 'businessman': True, 'advantage': True, 'aesthetic': False, 'user': True, 'opportunity': True, 'car speaker': False, 'research': False, 'firewire & usb2': False, 'convertor': True, 'gen': True, 'part': True, 'pros': True, 'inch': True, 'ipods': True, 'attachment': True, 'machine': True, 'site': True, 'money': True, 'backlighting': True, 'software': True, 'click wheel': False, 'review': True, 'wma': False, 'cd': True, 'warning': False, 'word': True, 'the white earbud': False, 'version': True, 'button': True, 'warranty': True, 'stock headphone': False, 'maintainence': False, 'inattention': True, 'gig': True, 'linux': True, 'software accoutrement': False, 'set': False, 'music lover': False, 'auto converter': False, 'the creative zens': False, 've': False, 'memory stick slot': False, 'company': True, 'way': True, 'purchasing': False, 'suggestion': True, 'road': True, 'con': False, 'idea': True, 'age': True, 'plastic product': False, 'receiver volume': False, 'photo': True, 'playlist': True, 'music trivia option': False, 'concern': True, 'battery issue': False, 'price': True, 'middle': False, 'microsoft outlook': False, 'extremely': False, 'creative': False, 'pleas': True, 'car': True, 'radio': True, 'sound quality': False, 'sort': True, 'nitrus': False, 'plug play device': False, 'number': True, 'equalizer': True, 'the griffin itrip': False, 'foam cushion': False, 'continent': False, 'speaker': True, 'menus': True, 'music library': False, 'president': True, 'flaw': True, 'jukebox': True, 'audiophile': False, 'installation': True, 'fan': False, 'check': False, 'computer expertise': False, 'mess': True, 'port': False, 'battery problem': False, 'battery power': False, 'line': True, 'minimum': True, 'instruction booklet': False, 'nyhow': False, 'design': False, 'am / fm radio': False, 'experience': False, 'voice recording': False, 'recharge cycle': False, 'rate': True, 'attempt': False, 'surprise': False, 'music download': False, 'cd player': False, 'plastic': False, 'minute': True, 'touchpad': False, 'box': True, 'observation': True, 'mp3': False, 'cell phone': False, 'backlight': False, 'market': True, 'beater deal': False, 'brain power': False, 'dock': True, 'ipod for christmas': False, 'the creative labs zen micro': False, 'casio': False, 'the creative zen': False, 'extra': False, 'video photo game music': False, 'gmini': False, 'skin': True, 'wall': True, 'ac': True, 'favourite': True, 'the dbpoweramp music coverter': False, 'pod': True, 'amplifer': False, 'lithium battery': False, 'hassle': True, 'solder jockey': False, 'pain': True, 'cd song title': False, 'rest': False, 'pre': False, 'error message': False, 'features': True, 'night': True, 'upload': False, 'reputation': True, 'quarter': True, 'menu': True, 'track': True, 'artist genre album composer': False, 'discussion': True, 'www.apple.com/batterie': False, 'battery technology': False, 'case tomorow': False, 'heck': False, 'connector': True, 'pbus': False, 'splitter cable': False, 'receiver': True, 'durability': True, 'owner': True, 'song download': False, 'million': True, 'info': True, 'issue': True, 'weight': True, 'itune': False, 'person': True, 'color display': False, 'earbud': False, 'letter': True, 'cushion': True, 'sheath': True, 'outlook': True, 'surface': True, 'use': True, 'apple computer': False, 'choice': True, 'format': False, 'gigabyte': True, 'mac os x': False, 'memory': True, 'computer mp3 player': False, 'cd title thousand': False, 'wit': True, 'hundred': False, 'sell': False, 'the windows media player': False, 'charge adapter': False, 'addition': True, 'capacity': True, 'salesman': True, 'cycle': True, 'trouble': True, 'the rio karma': False, 'tuner': True, 'channel': True, 'hp': True, 'cousin': True, 'water': True, 'loading': False, 'image': True, 'shuffle function': False, 'unloading file': False, 'quality': True, 'pay check': False, 'adaptor firewire cable': False, 'bread': True, 'credit card': False, 'apples': True, 'dimension': True, 'music service': False, 'music file': False, 'health reason': False, 'incompatibility': True, 'finger': False, 'pocket': True, 'size': True, 'endurance issue': False, 'gym': True, 'popularity': True, 'average': False, 'cut': False, 'control': True, 'generation unit': False, 'pro': False, 'skill': True, 'dock station': False, 'storage space': False, 'model': True, 'pin': True, 'computer': True, 'datum': True, 'wmp': False, 'colour screen photo video': False, 'game': True, 'artist e.g. cover': False, 'house': True, 'room': True, 'composer': True, 'downside': True, 'step': True, 'itune music file': False, 'download': False, 'pda': True, 'shuffle': False, 'music player': False, 'creative labs': False, 'hold switch': False, 'website': True, 'list': False, 'difference': True, 'best buy': False, 'touch screen': False, 'sony': False, 'han!d': False, 'tc': True, 'caveat': True, 'word document': False, 'inch nail': False, 'competition': True, 'setting': False, 'titanium': True, 'deal': False, 'google': False, 'commute': False, 'broadcaster': True, 'caution': True, 'scratch': True, 'manual': False, 'signal': False, 'surprise surprise': False, 'guy': True, 'itune library': False, 'converter': True, 'plus': False, 'itunes': False, 'quality file': False, 'computer part': False, 'change': False, 'cd drive': False, 'doubt': False, 'fee': True, 'nitpick': False, 'usb': False, 'ok': False, 'the apple ipod or': False, 'manufacturer': True, 'napster': False, 'volume': True, 'technician': True, 'freakin': False, 'ear': True, 'type': True, 'autosync': False, 'brick': True, 'bud': False, 'game feature': False, 'world': True, 'talk': False, 'outlook file': False, 'treat': False, 'interface': True, 'news': True, 'docking station': False, 'one': False, 'zip drive': False, 'alot': False, 'quality equipment': False, 'feel': False, 'comment': False, 'toll fee': False, 'connotation': True, 'archos': False, 'wireless technology': False, 'media player': False, 'battery replacement': False, 'place': False, 'music trivia quiz': False, 'length': True, 'sembelance': False, 'screen': True, 'customer service': False, 'music provider': False, 'title': True, 'wma file': False, 'need': True, 'mind': True, 'search engine': False, 'minimialism': False, 'ipod warranty': False, 'aac': False, 'the creative and': False, 'adaptor': True, 'sheep': True, 'headache': True, 'listener': True, 'amazon': True, 'store': True, 'artist': True, 'release': True, 'river': True, 'view': True, 'compatability': False, 'care': True, 'period': True, 'amazon.com': False, 'damage': True, 'thousnd': False, 'audio': True, 'left': False, 'order': True, 'laptop': True, 'plane': True, 'wrong': False, 'accessory': True, 'web': True, 'ease': True, 'point': True, 'desktop': True, 'animal': False, 'book': True, 'audio quality': False, 'the creative zen touch': False, 'emergency': True, 'couple': True, 'fidelity': True, 'ipod star': False, 'mp3 format': False, 'freeware': True, 'competetor': False, 'space': True, 'look': False, 'value': True, 'fingertip': True, 'fun': True, 'situation': True, 'qulity music': False, 'ear bud': False, 'driver': True, 'rip': False, 'set fee': False, 'medicore': False, '320kpbs': False, 'web address': False, 'windows media audio': False, 'window': True, 'itrip': False, 'nuisance': True}\n",
      "/home/lukasz/github/phd/sentiment-backend/notebooks/datasets/../../results/Diaper Champ/aspects_graph.gpkl\n",
      "{'diaper': True, 'genie': True, 'the diaper champ': False, 'bag': True, 'champ': False, 'diaper pail': False, 'fact': True, 'catch': False, 'garbage bag': False, 'baby': True, 'diaper champ': False, 'refill': True, 'smell': False, 'module': True, 'the diaper genie': False, 'trash bag': False, 'diaper disposal': False, 'son': True, 'mess': True, 'child': True, 'tie garbage bag': False, 'handle': False, 'money': True, 'pail': True, 'advice': True, 'way': True, 'cloth diaper': False, 'daughter': True, 'formula': True, 'cloth land': False, 'streak': True, 'system': True, 'issue': True, 'attribute': False, 'kitchen trash bag': False, 'bag work': False, 'tie': False, 'odor': True, 'nose': True, 'replacement': True, 'store brand': False, 'toddler': True, 'hand': True, 'review': True, 'refill bag': False, 'nook': True, 'prospect': True, 'plunger': True, 'deal': False, 'insert': False, 'complaint': True, 'paraphernalia': True, 'bargain': False, 'problem': True, 'buying refill': False, 'unit': True, 'item': True, 'ordor': False, 'stink': False, 'trash': True, 'wipe': False, 'idea': True, 'reviewer': True, 'fingertip': True, 'oderless': False, 'abode': False, 'tub': True, 'nursery': True, 'floor': True, 'whiff': False, 'hand use': False, 'kitchen': True, 'thing': True, 'diaper genie': False, 'fact people': False, 'product': True, 'experience': False, 'pail everyday': False, 'toy': True, 'place': False, 'kitchen garbage bag': False, 'life': True, 'room': True, 'type': True, 'cost saving': False, 'someplace': False, 'dispose': False, 'foam': True, 'fun': True, 'grocery store': False, 'hinge': True, 'roll': False, 'cylinder': True, 'tip': False, 'gallon vanilla': False, 'lid': True, 'thelid': False, 'line review': False, 'worth': True, 'baby poop': False, 'thumb': False, 'parent': True, 'feedback': True, 'superstore': False, 'magic': True, 'diet change': False, 'tooth': True, 'becasue': False, 'american pediatric association': False, 'recommendation': True, 'job': True, 'need': True, 'foam pad': False, 'the diaper champ -': False, 'lot': True, 'user': True, 'hubby': True, 'soilid': False, 'edge': True, 'oderous': False, 'person': True, 'hang': False, 'garage bag': False, 'compatibility': True, 'kid': True, 'diaper trash bag': False, 'stock': True, 'leg': True, 'warning': False, 'the dollar store': False, 'finger': False, 'toddlerhood': False, 'road': True, 'registry': True, 'disinfectant': False, 'garbage': True, 'toddler diaper': False, 'sealing edge': False, 'table': True, 'arm': True, 'kitchen bag': False, 'use': True, 'second': True, 'wad': True, 'very': False, 'plastic': False, 'force': True, 'room deodorizer': False, 'friend': True, 'husband': False, 'brand': True, 'bulk': True, 'stick': False, 'inspection': True, 'pail portion': False, 'grocery': True, 'floor space': False, 'trouble': True, 'concept': True}\n",
      "/home/lukasz/github/phd/sentiment-backend/notebooks/datasets/../../results/norton/aspects_graph.gpkl\n",
      "{'product': True, 'problem': True, 'norton': False, 'installation': True, 'version': True, 'review': True, 'computer': True, 'company': True, 'intruction': False, 'support assistant': False, 'option': True, 'symantec': False, 'program': True, 'website': True, 'rebate': False, 'complaint': True, 'word explorer netscape acrobat reader photoshop': False, 'coming': False, 'hour': True, 'internet security': False, 'solution': True, 'drive': False, 'system': True, 'rnis.exe': False, 'disc': True, 'program file': False, 'support': False, 'registery': False, 'install problem': False, 'result': True, 'dial internet service': False, 'memory': True, 'component': True, 'nis': True, 'link': True, 'trouble': True, 'rip': False, 'warning': False, 'verisign': False, 'feature': True, 'annoyance': True, 'work': False, 'reason': True, 'site': True, 'processing agency': False, 'fact': True, 'inability': True, 'buggy': False, 'kind': False, 'way': True, 'conclusion': True, 'home version': False, 'laptop': True, 'trace': False, 'pain': True, 'hangup crash glitch': False, 've': False, 'reboot': False, 'norton internet': False, 'subscription service': False, 'spammer': True, 'purpose': True, 'clarity': True, 'luckly': False, 'home office support': False, 'home': True, 'support tab': False, 'virus definiation': False, 'minute': True, 'uninstall': False, 'subscription': True, 'windows xp': False, 'processing sloth': False, 'buyer': True, 'owner': True, 'bug': True, 'shutdown': True, 'winfax pro': False, 'norton corporate edition': False, 'number': True, 'mccaffee': False, 'any norton': False, 'liveupdate': False, 'test': False, 'cooler': False, 'junk software': False, 'set': False, 'step': True, 'window registery': False, 'category': True, 'question': True, 'pro': False, 'con': False, 'possibility': True, 'norton anti - virus': False, 'hmmmm': False, 'deal': False, 'extra': False, 'challenge': True, 'upgrade': True, 'reviewer': True, 'one': False, 'virus': True, 'suite': True, 'detractor': True, 'face': True, 'slap': False, 'line': True, 'program size': False, 'combination': True, 'corporate': False, 'edition': True, 'firewall': True, 'course': True, 'the firewall program': False, 'configuration': True, 'fix': False, 'norton internet security professional': False, 'efficiency': True, 'thing': True, 'av': True, 'mcaffee': False, 'norton internet security': False, 'tech customer service': False, 'hoop': True, 'eudora': False, 'antispam': False, 'message': False, 'customer service': False, 'scandisk': False, 'ms': True, 'father': True, 'bit': True, 'virus definition': False, 'defect': True, 'market': True, 'symantec software product': False, 'antispam function': False, 'security suite': False, 'date computer': False, 'wizard': True, 'tech support representative': False, 'ie': False, 'error message': False, 'microsoft': False, 'people': True, 'standard': True, 'error': True, 'norton i.s.': False, 'source': True, 'variety': True, 'installation problem': False, 'lot': True, 'systemworks': False, 'popup': False, 'ad blocker referrer blocker firewall intrusion detection': False, 'xp': False, 'mcafee': False, 'phone': True, 'research': False, 'store shelf': False, 'need': True, 'exe': False, 'file': False, 'outlook': True, 'norton antivirus': False, 'registry': True, 'software': True, 'internet': True, 'money': True, 'computer company': False, 'position': True, 'culprit': True, 'ms money': False, 'security': True, 'resource': True, 'folder': True, 'search': True, 'database': True, 'amazon': True, 'functionality': True, 'system works': False, 'mb memory': False, 'dell': True, 'bar': True, 'mb': True, 'firewall program': False, 'kick ass': False, 'day night download install': False, 'dial': True, 'browser window': False, 'driver preference': False, 'instruction': True, 'cd': True, 'cost': True, 'handling': False, 'email': False, 'shipping': False, 'machine': True, 'pc magazine': False, 'scratch': True, 'trial': True, 'mb rdram windows xp': False, 'profit': False, 'installation process': False, 'tech': True, 'window firewall': False, 'junk': True, 'processor': True, 'excel': False, 'techie friend': False, 'slowdown': True, 'past': False, 'dollar': True, 'the windows registry': False, 'application': True, 'nortron antivirus': False, 'com': False, 'hell': True, 'gb': True, 'ownership': True, 'symantecs': False, 'purchase': True, 'nortron': False, 'chance': True, 'pop control': False, 'lan': True, 'hand': True, 'answer': False, 'bundle': False, 'luck': True, 'intrusion': True, 'update': False, 'understatement': True, 'mountain': True, 'fuss': True, 'bare': False, 'star': True, 'designer': True, 'slooooooooow': False, 'hero': True, 'nortron security': False, 'pc': True, 'ad pop': False, 'rebate instruction': False, 'antivirus': False, 'meg 2000pro': False, 'sygate': False, 'crash': False, 'risk': True, 'function': True, 'headache': True, 'norton antispam & norton parental control': False, 'customer priority id number': False, 'pc internet': False, 'message board': False, 'gig': True, 'incident': False, 'goback': False, 'patch': True, 'world': True, 'spam': True, 'ish': False, 'disappointment': True, 'process': False, 'utility': True, 'choice article': False, 'mccafee': False, 'patience': True, 'priority id number': False, 'remnant': True, 'mcafee anti - virus': False, 'fault': True, 'broadband service': False, 'internet access': False, 'hold': False, 'order': True, 'vendor': True, 'public': False, 'experience': False, 'norton systemworks': False, 'pccillin': False, 'level': False, 'tech support number': False, 'the zone alarm': False, 'ram': True, 'install': False, 'lock': False, 'rep': True, 'combo package': False, 'installation instruction': False, 'proof': False, 'tech person line': False, 'screen print': False, 'blame': False, 'contrary': False, 'user interface': False, 'star rating': False, 'program scan feature': False, 'automation': True, 'word': True, 'beginning': False, 'copy': False, 'windows xp home': False}\n",
      "/home/lukasz/github/phd/sentiment-backend/notebooks/datasets/../../results/Linksys Router/aspects_graph.gpkl\n",
      "{'router': True, 'linksys': False, 'couple': True, 'product': True, 'setup': True, 'ty anyway': False, 'setting': False, 'item': True, 'website': True, 'network': True, 'configuration': True, 'thing': True, 'problem': True, 'file transfer': False, 'list': False, 'performance': True, 'consumer': True, 'site': True, 'cable modem': False, 'clarity': True, 'computer': True, 'cd': True, 'wireless hacks': False, 'hour': True, 'speed': False, 'customer support': False, 'installation cd': False, 'connection speed': False, 'version': True, 'badge': True, 'hacking world': False, 'honor': True, 'mac': True, 'review': True, 'issue': True, 'money': True, 'wrt54 g': False, 'security': True, 'stability': True, 'wonder': False, 'step': True, 'touch': False, 'wireless': True, 'lousy initial': False, 'method': True, 'platform': True, 'network game': False, 'kind': False, 'custom firmware': False, 'pptp vpn': False, 'server': True, 'web': True, 'way': True, 'information': True, 'support': False, 'fact': True, 'company': True, 'software': True, 'documentation': True, 'box': True, 'buy': False, 'connection': True, 'the linksys g - router': False, 'stage': True, 'port': False, 'hardware': True, 'internet': True, 'reference': True, 'speed issue': False, 'people': True, 'instruction': True, 'wizard': True, 'mb disk tranfer': False, 'mb': True, 'nastie': False, 'hacker': True, 'amazon': True, 'linux': True, 'source firmware': False, 'net': False, 'cisco': True, 'the linksys wireless b': False, 'package': True, 'feature': True, 'ite': False, 'faq': True, 'tech service help line': False, 'favour': True, 'distance': True, 'coverage': True, 'support site': False, 'not': False, 'moment': True, 'lucent': False, 'pio': False, 'internet connection': False, 'linksys wet11': False, 'sale': True, 'idea': True, 'that': False, 'luck': True, 'best buy': False, 'store': True, 'assistance': True, 'cable': True, 'device': True, 'pc': True, 'networking giant': False, 'client': True, 'user': True, 'range': True, 'minute': True, 'setup utility': False, 'interface': True, 'wrt54gs': False, 'computer stuff': False, 'need': True, 'multi port network': False, 'wirless network': False, 'system': True, 'help desk': False, 'penny': True, 'enterprise piece': False, 'config': False, 'wireless product': False, 'capability': True, 'wireless router': False, 'chance': True, 'friend': True, 'room': True, 'rock': True, 'processor': True, 'memory': True, 'card': True, 'address': False, 'market': True, 'broadband router': False, 'ease': True, 'copy': False, 'ms': True, 'patch site': False, 'isp comcast': False, 'wireless ethernet bridge': False, 'installation': True, 'screen': True, 'house': True, 'target': True, 'mail spoofer identity thief': False, 'surfing': False, 'option': True, 'behavior': True, 'tune': True, \"neil young 's\": False, 'song': True, 'driver': True, 'visitor': True, 'tech junkie': False, 'trojans': True, 'security protocol': False, 'goodness': True, 'tech support people': False, 'program': True, 'direction': True, 'night': True, 'manual': False, 'ell': True, 'floor': True, 'standard': True, 'customer service': False, 'wep': False, 'farthest room': False, 'route': False, 'operating system': False, 'dell inspiron notebook': False, 'call': False, 'star': True, 'network service provider': False, 'sense': True, 'min': True, 'setup program': False, 'link': True, 'horror story': False, 'microsoft': False, 'aol': False, 'earthlink': False, 'laptop': True, 'sony': False, 'future': False, 'knocked': False, 'advice': True, 'cordless phone': False, 'install wizard': False, 'web site address': False, 'start guide': False, 'phone': True, 'channel': True, 'isp': False, 'discount': True, 'person': True, 'exelent': False, 'author': True, 'base unit': False, 'expert': False, 'tactic': True, 'pc card': False, 'mean': False, 'opion': False, 'internet security': False, 'hassle': True, 'dhcp': False, 'modem': True, 'wire desktop': False, 'foot': True, 'ethernet cable': False, 'upnp': False, 'bitspirit': False, 'gain': False, 'hga7': False, 'solution': True, 'security patch': False, 'xp': False, 'environment': True, 'the buffalo wzr - rs - g54': False, 'tip': False, 'network specialist': False, 'input': True, 'a9': False, 'game': True, 'desktop': True, 'megabyte': True, 'dvd': True, 'satellite': True, 'tv': True, 'unit': True, 'refrigerator door': False, 'networking': False, 'the cd s': False, 'bug': True, 'area': True, 'ethernet standard': False, 'os': True, 'choice': True, 'buggy': False, 'broadband cable modem': False, 'download': False, 'install': False, 'provider account': False, 'business': True, 'line': True, 'info': True, 'file': False, 'dma': False, 'connect price': False, 'home': True, 'default': True, 'maximum': True, 'browser interface': False, 'google': False, 'search': True, 'piece': True, 'connection hasent': False, 'router configuration': False, 'vcr': True, 'drive image': False, 'use': True, 'wireless g': False, 'hall': True, 'networking knowledge': False, 'ram': True, 'tech person': False, 'argument': True, 'software firewall': False, 'half': False, 'lnksys': False, 'firmware': True, 'online': False, 'wireless network': False, 'price': True, 'the linksys instant usb wireless': False, 'speedboost': False, 'teenae computer geek': False, 'office': True, 'help': False, 'mbps': False, 'rival': False, 'buy the': False, 'place': False, 'research': False, 'mb flash': False, 'ntl': False, 'amazon.com': False, 'compatability': False, 'space': True, 'dlink di52': False, 'router cause': False, 'kilobytes': True, 'web site': False, 'broadband modem': False, 'size': True, 'service': True, 'privacy': True, 'broadcom': False, 'ton': True, 'belkin': False, 'cookbook recipe follower': False, 'uter': False, 'paragraph': False, 'point': True, 'process': False, 'control': True, 'security key': False, 'case': True, \"linksys wrt54 g 's\": False, 'installation problem': False, 'work': False, 'p2p': False, 'linksys instant wireless b': False, 'subscription': True, 'alot': False, 'thinkpad': False, 'breeze': False, 'step instruction': False, 'bandwidth': True, 'default setup': False, 'lookin': False, 'price antenna': False, 'book': True, 'tape': True, 'order': True, 'pc ship': False, 'ss': True, 'datum file': False, 'direcway': False, 'wrong': False, 'support tip': False, 'blood pressure': False, 'satellite hookup': False, 'peripheral': False, 'stock': True, 'opening': True, 'joe': False, 'adapter': True, 'firmware update': False, 'network configuration': False}\n",
      "/home/lukasz/github/phd/sentiment-backend/notebooks/datasets/../../results/MicroMP3/aspects_graph.gpkl\n",
      "{'player': True, 'line': True, 'ability': True, 'ipod': True, 'song': True, 'music': True, 'thing': True, 'problem': True, 'amazon': True, 'firmware': True, 'life': True, 'point': True, 'hand': True, 'apple': True, 'people': True, 'file': False, 'work': False, 'p.s. <': False, 'installation': True, 'device': True, 'the ipod mini': False, 'touchpad': False, 'feature': True, 'the zen micro': False, 'example': True, 'reason': True, 'stuff': False, 'array': True, 'zen micro': False, 'battery': True, 'computer': True, 'sound quality': False, 'napster': False, 'software': True, 'hour': True, 'creative': False, 'nomad': True, 'site': True, 'mp3': False, 'quality': True, 'headphone': True, 'use': True, 'interface': True, 'refund': True, 'option': True, 'track': True, 'mind': True, 'now': False, 'flash': True, 'store': True, 'ac adapter': False, 'advice': True, 'timing': False, 'dogon music': False, 'battery life': False, 'product': True, 'offense': True, 'pocket': True, 'notification': True, 'cd': True, 'marketing strategy': False, 'probability': True, 'troubleshooting': False, 'breeze': False, 'box': True, 'format': False, 'decision': True, 'datum': True, 'storage space': False, 'wma': False, 'genre': True, 'hesitation': True, 'mp3 player': False, 'market': True, 'hassle': True, 'term': True, 'cd player': False, 'vision': True, 'menu': True, 'try': False, 'list': False, 'picture': True, 'type': True, 'karma': True, 'unit': True, 'socket': True, 'hang': False, 'fm radio': False, 'reviewer': True, 'retailer': True, 'experience': False, 'drive': False, 'cent': True, 'person': True, 'music file': False, 'chance': True, 'design': False, 'clarity': True, 'home run': False, 'battery time': False, 'bit rate': False, 'compression format': False, 'feeling': False, 'value': True, 'excellent sound': False, 'disk': True, 'song capacity': False, 'star': True, 'rk': False, 'fail': False, 'taste': True, 'sound': False, 'very': False, 'research': False, 'cord': True, 'hundred': False, 'glow': True, 'fact': True, 'window pc': False, 'recourse': True, 'repair': False, 'member': True, 'reaction': True, 'arrow': True, 'mini': False, 'outlet': True, 'way': True, 'reading review': False, 'duty research': False, 'world': True, 'jack': True, 'silicon cover': False, 'audio': True, 'rma number': False, 'subscription service': False, 'user interface': False, 'pc software': False, 'user review': False, 'multitude': True, 'kind': False, 'one': False, 'design flaw': False, 'result': True, 'program': True, 'customer support': False, 'email': False, 'touch': False, 'micro': False, 'hour period': False, 'money': True, 'review': True, 'challenging': False, 'company': True, 'usb': False, 'itune': False, 'alternative mp3 player': False, 'bag': True, 'microphone': True, 'creative labs': False, 'ton': True, 'radio option': False, 'cd song': False, 'manufacturer': True, 'miniture screwdriver': False, 'braindead consumer': False, 'manual': False, 'file transfer menu': False, 'pda': True, 'mp3 ,': False, 'desk': True, 'blend': False, 'perfection': True, 'windows media player': False, 'night': True, 'hardcase': False, 'pair': False, 'pc': True, 'friend': True, 'website': True, 'ogg': False, 'gig drive': False, 'service': True, 'odd': False, 'secs': True, 'looking': False, 'use device': False, 'experiance': False, 'microsoft': False, 'support': False, 'minute': True, 'cd info': False, 'the creative': False, 'recharge cord': False, 'fraction': True, 'job': True, 'radio': True, 'space': True, 'sound music quality': False, 'clip property': False, 'wma pro': False, 'wma lossless': False, 'snag': True, 'usb port': False, 'folk': True, 'element': True, 'price': True, 'shipping': False, 'handling': False, \"lp 's\": False, 'ipod sound': False, 'detail': True, 'compression rate': False, 'sound card': False, 'audigy zs': False, 'day warranty': False, 'yahoo': True, 'test': False, 'product decision': False, '^ utility its': False, 'lot': True, 'charger': True, 'pack': False, 'smoke': True, 'maze': True, 'second': True, 'bunch': True, 'thread': False, 'ecord memo': False, '-doesn': False, 'audiophile audio system': False, 'baby': True, 'player scheme': False, 'competition': True, 'orthodox': False, 'marketing channel': False, 'abuse': False, 'rattling humming': False, 'follower': True, 'mass': True, 'fly play list creation address book': False, 'storage drive capability': False, 'recorder': True, 'kbps': False, 'card size': False, 'deck': True, 'loyalty': True, 'halo effect': False, 'stretch': False, 'rechargable': False, 'storage size': False, 'geek': True, 'plus': False, 'mp3 device': False, 'spare': False, 'touch pad': False, 'series': True, 'enthusiast': True, 'hit': False, 'wma file': False, 'software conflict': False, 'media library software': False, 'search wheel': False, 'case': True, 'durability': True, 'setting': False, 'month service': False, 'playback': True, 'piece': True, 'the archos jukebox': False, 'the intel pocket concert': False, 'accessory': True, 'play': False, 'bug': True, 'stock earbud': False, 'virus scan': False, 'building': False, 'press record': False, \"sennheiser mx-400 's\": False, 'sony': False, 'error': True, 'earbuds': False, 'computer savvy': False, 'suggestion': True, 'sensitivity': True, 'windows': True, 'car adapter': False, 'trial': True, 'bottomline': False, 'number': True, 'question': True, 'ft': True, 'size': True, 'choice': True, 'instruction': True, 'page': True, 'reliability': True, 'misfortune': True, 've': False, 'the limited edition': False, 'calendar': True, 'package': True, \"microsoft outlook 's\": False, 'sd flash card drive': False, 'moment': True, 'origianl review': False, 'becouse': False, 'joke': True, 'r&d department': False, 'technology': True, 'idea': True, 'help': False, 'turnover': True, 'look': False, 'playforsure': False, 'charge': False, 'message': False, 'site test drive': False, 'functionality menu': False, 'order': True, 'radio reception': False, 'purchase': True, 'heart surgery': False, 'equivalent': True, 'history': True, 'dollor': False, 'other': False, 'shirt cloth': False, 'walk': False, 'hip youngster': False, 'customer service': False, 'run': False, 'minimum': True, 'dime': True, 'profiteering nickle': False, 'maker': True, 'ease': True, 'alternative': False, 'model': True, 'mp3 player circus': False, 'left': False, 'rest': False, 'source': True, 'vacuum': True, 'contact': True, 'organization': True, 'relaxation music': False, 'windows xp': False, 'wall socket': False, 'sibling': True, 'transfer': False, 'custom': True, 'gig': True, 'message board': False, 'head': True, 'buy': False, 'bus': True, 'tv program': False, 'bargain': False, 'business card': False, 'ipods': True, 'location': True, 'installation cd': False, 'storage': True, 'reality': True, 'cell phone tower': False, 'junk': True, 'music service': False, 'email download reboot purge': False, 'age': True, 'depth': True, 'reception': True, 'thing work': False, 'outset': True, 'warranty': True, 'stand': False, 'design problem': False, 'press': False, 'bit': True, 'aftermarket headphone': False, 'the pencil sharpener': False, 'signal': False, 'right': False, 'windows media': False, 'home': True, 'competitor': True, 'subscription music service': False, 'power': True, 'word': True, 'right mp3 player': False, 'host': True, 'metaphor': True, 'sounding mini player': False, 'goody': True, 'essential': False, 'addition': True, 'magazine': True, 'task': False, 'belkin': False, 'awful': False, 'course': True, 'playing': False, 'light': False, 'attempt': False, 'npr': False, 'allofmp3.com': False, 'collection': True, 'radio tuner voice recorder calendar': False, 'panasonic': False, 'nyc': False, 'hop': False, 'touch pad system': False, 'player stereo earbud headphone': False, 'sense': True, 'review copy': False, 'share': False, 'zen': True, 'paper': True, 'user': True, 'mini disc player': False, 'enjoyement': False, 'mp3 format': False, 'issue': True, 'the zen touch': False, 'alarm clock': False, 'album': True, 'the creative nomad jukebox': False, 'web site': False, 'rock': True, 'loading software': False, 'beta testing': False, 'adapter usb cable': False, 'nokia': False, 'feature cc': False, 'start guide': False, 'user friendliness': False, 'audiophile': False, 'help menu': False, 'the creative zen micro': False, 'past': False, 'sync': False, 'contact list': False, 'creatif website': False, 'subway': True, 'music player': False, 'button': True, 'level': False, 'scrathe': False, 'life span': False, 'beta version': False, 'simulcast': True, 'music unlimited': False, 'subscription': True, 'gb': True, 'creative media source': False, 'download': False, 'port': False, 'action': True, 'lock up shut down': False, 'car': True, 'eye': True, 'fee': True, 'drive spin': False, 'ipod theft': False, 'forum': True, 'window medium play': False, 'buck': True, 'upgrade': True, 'marketing hype': False, 'public': False, 'version': True, 'opinion sound': False, 'care': True, 'terrible': False, 'backup': True, 'set': False, 'market share': False, 'meeting': False, 'waste': False, 'compatibility': True, 'blues , country': False, 'opening': True, 'cycling window shopping': False, 'walkman': True, 'finger': False, 'label': False, 'nightmare sound problem': False, 'volume control': False, 'creative nomad iic': False, 'lithium ion battery': False, 'motherboard': False, 'boy': True, 'original review december': False, 'transferring': False, 'wall socket recharging cord': False, 'diversion': True, 'driver': True, 'mp3 player suck': False, 'reminder': True, 'speaker': True, 'yahoo music unlimited': False, 'management decision': False, 'catch': False, 'calender': False, 'tiny': False, 'power adapter usb': False, 'hardshell': False, 'trick': True, 'cloth pouch': False, 'cable belt clip stand': False, 'movement': True, 'hoop': True, 'hype': False, 'quote': False, 'performance': True, 'online': False, 'treadmill concert': False, 'acquisition': True, \"creative mediasource audio converter '\": False, 'ebay': False, 'wav': False, 'gym': True, 'windows explorer': False, 'low': False, 'statement': True, 'fm': True, 'workaround': False, 'owner': True, 'creative , inc.': False, 'beta': False, 'mouth': True, 'theme': True, 'architecture': True, 'tech support': False, 'play list': False, 'bose quietcomfort': False, 'folder': True, 'firmware download': False, 'hrs': True, 'music subscription service': False, 'dice': False, 'pause': False, 'usb cable': False, 'dance': True, 'afro - cuban': False, 'warranty seal': False, 'plastic store bag': False}\n",
      "/home/lukasz/github/phd/sentiment-backend/notebooks/datasets/../../results/Canon S100/aspects_graph.gpkl\n",
      "{'camera': True, 'canon': True, 'picture': True, 'lithium battery': False, 'mode': True, 'way': True, 'mm': True, 'example': True, 'auto mode': False, 'house': True, 'exposure': True, 'ability': True, 'money': True, 'battery': True, 'thing': True, 'mm camera': False, 'job': True, 'standout choice': False, 's100 digital elph': False, 'amazon': True, 'believer': True, 'body': True, 'overkill': True, 'snapshot': True, 'desk': True, 'work': False, 'compact': False, 'elp2 aps': False, 'country': True, 'printer': True, 'design': False, 'problem': True, 'software': True, 's100': False, 'middle': False, 'image quality rate': False, 'class': True, 'toy': True, 'mylife': False, 'legacy photographer': False, 'default resolution': False, 'mb card store': False, 'memory expansion': False, 'point': True, 'case': True, 'marketplace': True, 'memory card': False, 'option': True, 'sunlight': True, 'luck': True, 'photographer': True, 'file size': False, 'focus': True, 'pocket': True, 'card': True, 'mb': True, 'size': True, 're photo': False, 've': False, 'mbyte': False, 'cd': True, 'image': True, 'aps': False, 'behold': False, 'piece shutter': False, 'lo': False, 'lens': True, 'picture quality': False, 'practice': False, 'print': True, 'kodak dc240': False, 'cap': True, 'pouch': False, 'turkey': True, 'trip': True, 'light': False, 'color': True, 'vacation': True, 'challenge': True, 'review': True, 'bit': True, 'compartment': True, 'world': True, 'compact flash': False, 'result': True, 'very': False, 'ss': True, 'circle': True, 'housing': True, 'icon': True, 'metal cover': False, 'room': True, 'single - lens reflex': False, 'increment': True, 'adobe': True, 'exposure compensation': False, 'apple quicktake': False, 'baby picture': False, 'resolution': True, 'lens retract': False, 'button': True, 'compression mode': False, 'balance flash': False, 'control': True, '1600x1200': False, 'usb software': False, 'sooo': False, 'filmstrip': False, 'computer': True, 'meg': True, 'mosque': True, 'tile': True, 'price': True, 'convergence': True, 'use': True, 'ease': True, 'car': True, 'maine': True, 'kayaking': False, 'travel camera': False, 'film': True, 'default exposure': False, 'eye person': False, 'battery pack': False, 'travel': False, 'gas station': False, 'equipment': True, 'finger tip': False, 'battery saver': False, 'flash redeye reduction': False, 'profile': True, 'look': False, 'flash': True, 'camera software': False, 'pixel image': False, 'photo quality paper': False, 'communitysince': False, 'elph s100': False, 'cruise': False, 'background flash': False, 'wife': True, 'kid': True, 'document': True, 'jvc': False, 'moment': True, 'lcd viewfinder': False, 'cf card': False, 'lcd': True, 'lcd viewing': False, 'zoombrowser ex': False, 'the digital elph': False, 'carrying case': False, 'xp': False, 'upward': False, 'nova scotia': False, 'allway': False, 'subject': True, 'medium': True, 'friend': True, '3x zoom': False, 'memory': True, 'battery charge': False, 'flash card': False, 'pc': True, 'pound': True, 'priority': True, 'place': False, 'credit card': False, '35-mm': False, 'eye': True, 'cf': True, 'point shoot': False, 'shot': False, 'mind': True, 'pic': True, 'shist pocket': False, 'glass': True, 'amatuer': False, 'quality': True, 'idea': True, 'wallet': True, 'slr': False, 'center point': False, 'recommendation': True, 'concern': True, 'camera body': False, 'hiking skiing boating': False, '35-mm film camera': False, 'king': True, 'lens cap': False, 'email': False, 'confusion': True, 'tft': False, 'screen': True, 'impression': True}\n",
      "/home/lukasz/github/phd/sentiment-backend/notebooks/datasets/../../results/Canon PowerShot SD500/aspects_graph.gpkl\n",
      "{'camera': True, 'camera owner': False, 'mode': True, 'sd500': False, 'picture': True, 'purchase': True, 'damage': True, 'day camera': False, 'exterior design': False, 'thing': True, 'picture quality': False, 'lense': True, 'feature': True, 'pocket camera': False, 'way': True, 'pic': True, 'fact': True, 'hand': True, 'point': True, 'person': True, 'aperture priority mode': False, 'shutter': True, 'image processing system': False, 've': False, 'curve': False, 'trauma': True, 'image': True, 'canon': True, 'wow': False, 'plenty': True, 'shot': False, 'charge': False, 'speed program': False, 'overide': False, 'people': True, 'cnet': False, 'sound': False, 'nothin': False, 'review': True, 'anybody': False, 'dcresource': False, 'jtl': False, 'ultra sd': False, 'card': True, 'life quality': False, 'crystal': True, 'ps': True, 'warning light': False, 'clip': True, 'video': True, 'pocket': True, 'difference': True, 'performance': True, 'light condition': False, 'size': True, 'site': True, 'host': True, 'spoilt': False, 'job': True, 'dpreview': False, 'service center': False, 'cnet steve': False, 'cost': True, 'lcd': True, 'picture second': False, 'price': True, 'video clip': False, 'flash': True, 'compact camera': False, 'experience': False, 'adjustment': True, 'quality clip': False, 'colleague alot': False, 'quality picture': False, 'juice': True, 'warning': False, 'auto': True, 'balance': True, 'photographer': True, 'speed': False, 'colour detail': False, 'powerup': False, 'setting': False, 'photo': True, 'detail': True, 'fps video': False, 'owner': True, 'rate': True, 'reviewer': True, 'power': True, 'ability': True, 'control': True, 'wrong': False, 'view finder': False, 'market': True, 'video quality': False, 'lot': True, 'quality': True, 'bang': False, 'buck': True, 'sense': True, 'girl': True, 'buddys': True, 'loss': True, 'autofocus': True, 'video playback': False, 'video comression': False, 'hair': True, 'light': False, 'object': True, 'problem': True, 'center': True, 'documentation': True, 'hi-8': False, 'price tag': False, 'response': True, 'camera upright': False, 'digital': False, 'jean': True, 'dealbreaker': False, 'surface': True, 'self timer': False, 'instruction manual': False, 'sd card': False, 'situation': True, 'replacement': True, 'quality photo': False, 'video camera': False, 'investment': True, 'home': True, 'testing': False, 'force': True, 'auto mode': False, 'side': True, 'night': True, 'zoom': False, 'manual': False, 'quality camera': False, 'desk': True, 'gig card': False, 'choice': True, 'evening': False, 'canon camera': False, 'spec': True, 'gb': True, 'battery': True, 'spite': True, 'compact': False, 'mode quality': False, 'lack': False, 'bias': False, 'looking': False, 'turnaround': True, 'lcd screen': False, 'line': True, 'baby': True, 'menu button': False, 'form': True, 'function': True, 'smaler viedo file': False, 'max min': False, 'stream': False, 'computer': True, 'diferent feature': False, 'color': True, 'money': True, 'opinion': True, 'time camera': False, 'fit': False, 'instant': False, 'beginning': False, 'home office': False, 'dslrs': False, 'pressure': True, 's70': False, 'sd': True}\n",
      "/home/lukasz/github/phd/sentiment-backend/notebooks/datasets/../../results/Nokia 6600/aspects_graph.gpkl\n",
      "{'phone': True, 'feature': True, 'nokia': False, 'hour': True, 'phone card access number': False, 'advice': True, 'thing': True, 'contact': True, 'user interface': False, 'country': True, 'camera': True, 'volume speaker': False, 'person': True, 'fact': True, 'tw': False, 'sale representative': False, 'bluetooth': False, 'card': True, 'function': True, 'technician': True, 'use': True, 'operation': True, 'bluetooth server': False, 'address book': False, 'zoom': False, 'frustration': True, 'tft': False, 'color': True, 'display': True, 'cell phone company': False, 'shape': True, 'service': True, 'nokias': False, 'world phone': False, 'sense': True, 'magnifying glass': False, 'ring tone': False, 'memory card': False, 'way': True, 'number': True, 'message': False, 'lot': True, 'mb mmc card': False, 'warranty': True, 'second': True, 'expandability': False, 'game choice': False, 'ton': True, 'star': True, 'linux': True, 'camera quality': False, 'interface': True, 'size': True, 'quality': True, 'process': False, 'flip phone': False, 'gprs': False, 'net': False, 'pda': True, 'key': True, 'luck': True, 'trial': True, 'stand': False, 'package': True, 'letter': True, '6600': False, 'board': True, 'price amazon': False, 'touch tone': False, 'phone card contact': False, 'book': True, 'screen': True, 'video recorder bit': False, 'at&t wireless': False, 'service area': False, 'bmw': False, 'number key': False, 've': False, 'meaning': False, 'bit': True, 'buck': True, 'suggestion': True, 'functionality monster': False, 'sound': False, 'case': True, 'os': True, 'download': False, 'factory default': False, 'mind': True, 'keypad': True, 'repair': False, 'amazon': True, 'email movie time news': False, 'website': True, 'delight': False, 'mp3 file': False, 'palm': True, 'feature wich': False, 'photo': True, 'tri band': False, 'whiz bang': False, 'pain exp': False, 'ability': True, 'australia': True, 'one': False, 'issue': True, 'bill': True, 'lol': False, 'log': True, '1st': False, 'new zealand': False, 'video': True, 'mmc': False, 'memory': True, 'must': True, 'cell': True, 'dail': True, 'american': True, 'speed': False, 'reviewer': True, 'direction': True, 'quality picture': False, 'postmark date': False, 'timing': False, 'love': True, 'program': True, 'mac osx': False, 'bundle': False, 'condition': True, 'bluetooth device': False, 'mailbox': True, 'car': True, 'contact button': False, 'multi slide': False, 'truth': True, 'thousand': False, 'multimedia': True, 'piece': True, 'problem': True, 'bluetooth sync': False, 'microsoft outlook': False, 'platform': True, 'application': True, 'recollection': True, 'support': False, 'speaker phone web browser': False, 'computer': True, 'cell phone': False, 'dad': True, 'script': True, '3650': False, 'game': True, 'bar': True, 'cellphone': True, 'overseer': True, 'bluejacking vunerability': False, 'modem': True, 'mobile': False, 'party application': False, 'storage': True, 'amenetie': False, 'connection': True, 'mb': True, 'datum': True, 'stuff': False, 'carrier': True, 'pavement': True, \"n't the\": False, 'linux user': False, 'phone card': False, '660': False, 'menu': True, 'file transfer': False, 'floor': True, 'family friend': False, 'gadget': True, 'money': True, 'java': True, 'device': True, 'globe': True, 'playback': True, 'cell phone game': False, 'realone': False, 'player': True, 'video clip': False, 'streaming': False, 'realmedia': False, 'video recorder': False, 'need': True, 'tech': True, 'tier-3 technician': False, \"t - mobile 's\": False, 'south africa': False, 'support technician': False, 'people': True, 'sonyericsson phone': False, 'state': True, 'crashing': False, 'frigging vga camera': False, 'degree': True, 'control': True, 'version': True, 'memory leak': False, 'isync': False, 't - mobile': False, 'miracle': True, 'mini computer': False, 'attempt': False, 'friend': True, 'security system': False, 'file': False, 'samsung': False, 'sony': False, 'moment': True, 'client': True, 'market': True, 'model': True, 'line': True, 'quality construction': False, 'gps': True, 'tr': False, 'mp3-player movie viewer voice recorder': False, 'gaming machine camcorder': False, 'controller': True, 'secretary gps map browser book multifunction': False, 'middle': False, 'battery': True, 'cell network company': False, 'consumer': True, 'tier-2 technician': False, 'startup': True, 'phone functionality': False, 'theory': True, 'camera user': False, 'wrong': False, 'jabra': False, 'reset code': False, 'use phone': False, 'pic': True, 'cingular': False, 'motorola': False, 'wav': False, 'use delight': False, 'operating system': False, 'tie in': False, 'desktop': True, 'tzone': False, 'rush': False, 'screen size': False, 'retailer': True, 'ringtone': False, 'outlook': True, 'curve': False, 'text messaging': False, 'konqueror': True, 'insurace': False, 'image': True, 'supervisor': True, 'variety': True, 'software': True, 'girlfriend': True, 'deal': False, 'reservation': True, 'flight time': False, 'ease': True, 'tier-1': False, 'picture': True, 'coverage': True, 'speakerphone quality': False, 'time day': False, 'us': True, 'video picture': False, 'wifi': True, 'area': True, 'scratch': True, 'laptop': True, 'proof': False, 'delay': False, 'mp3s': False, 'accessory': True, 'customer care': False, 'purchase': True, 'secs': True, 'headset audio quality': False, 'option select': False, 'hell': True, 'group': True, 'combination': True, 'blackberry phone': False, 'idea': True, 'shipment': True, 'internet': True, 'highway': True, 'the states': False, 'possibility': True, 'phone memory': False, 'pocket pc': False, 'example': True, 'shareware': True, 'work': False, 'text message': False, 'speakerphone': True, 'bluetooth usb connector': False, 'cable': True, 'symbian os': False, 'cost': True, 'wife': True, 'headset': True, 'card memory': False, 'compatiable': False, 'palm pda': False, 'sync contact': False, 'usb': False, 'call': False, 'phone people': False, 'joystick design': False, 'brochure': True, 'graphic': False, 'setup': True, 'att': False, 'city': True, 'credit complication': False, 'europe': True, 'power cycle': False, 'newer phone': False, 'adapter': True, 'engineering company': False, 'distinction': True, 'pop': False, 'the t - mobile': False, 'pc': True, 'pin card': False, 'teenager': True, 'kentucky': True, 'aeroplane': True, 'apps boot': False, 'purse': True, 'technology': True, 'motorrola': False, 'consistant reception': False, 'hand': True, 'mail account': False, 'stick shift': False, 'email': False, 'toy': True, 'wonder': False, 'sonyericsson': False, 'explanation': True, 'rebate form': False, 'ebay': False, 'recording': False, 'day use': False, 'ringer': True, 'option': True, 'mountain': True, 'price': True, 'plenty': True, 'joystick': True, 'audio': True, 'gsm': False, 'belkin': False, 'stop': False, 'intergration': False, 'calendar': True, 'primitve phone': False, 'reception': True}\n",
      "/home/lukasz/github/phd/sentiment-backend/notebooks/datasets/../../results/Hitachi router/aspects_graph.gpkl\n",
      "{'router': True, 'table': True, 'power': True, 'shank': True, 'tool': False, 'bit': True, 'custom': True, 'weight': True, 'setup': True, 'hp': True, 'diameter': True, 'grip': True, 'dewalt': False, 'porter - cable': False, 'wrench': False, 'use': True, 'woodworking': True, 'motor': False, 'panel door month': False, 'ear': True, 'melamine board': False, 'people': True, 'hand': True, 'depth scale': False, 'gratitude': True, 'woodworking friend': False, 'help': False, 'accessory': True, 'edge': True, 'speed': False, 'steal': False, 'money': True, 'thing': True, 'shop': False, 'thing bit': False, 'combination': True, 'freud': True, 'operation': True, 'base plate': False, 'face': True, 'reliant shaper': False, 'hp plunge router': False, 'router table': False, 'craftman': False, 'tank': True, 'home brew table': False, 'price': True, 'router raizer kit': False, 'quality product': False, 'workhorse': True, 'person': True, 'plunge rod': False, 'buff lube': False, 'door shop': False, 'window': True, 'luck': True, 'hade': False, 'spindle lock': False, 'knee': True, 'bend': False, 'service': True, 'base': True, 'hitachi': False, 'beast': True, 'lot': True, 'start': False, 'sleeve': True, 'router time': False, 'opinion': True, 'internet woodworking book': False, 'store': True, 'koa': False, 'speed router': False, 'cherry': True, 'maple': True, 'fan': False, 'homework': True, 'column': True, 'slop': True, 'power switch': False, 'plunge lock': False, 'decision': True, 'line': True, 'hand crank': False, 'height adjustment knob': False, 'depth adjustment': False, 'fit': False, 'sub base': False, 'dado': True, 'dust collector': False, 'heavy': False, 'trim': False, 'machine': True, 'finish': True, 'test': False, 'ability': True, 'adapter': True, 'arena': True, 'speed control': False, 'deal': False, 'knob': True, 'buddy': True, 'issue': True, 'experience': False, 'panel': True, 'oak': True, 'lock': False, 'cmt': False, 'much': False, 'muscle': True, 'order': True, 'mortise': False, 'inch bit': False, 'way': True, 'drill': False, 'bosch': True, 'problem': True, 'collet': True, 'party guide': False, '3rd - party': False, 'length carbide flute': False, 'guide template guide template adapter': False, 'thumb': False, 'index finger': False, 'bargain': False, 'mdf': False, 'rail': False, 'performance': True, 'junk': True, 'accuracy': True, 'toy junk': False, 'brand': True, 'plunge router': False, 'miter saw': False, 'cabinet shop': False, 'hand routing': False, 'material': False, 'screwdriver': True, 'freehand': False, 'butter': True, 'specie': True, 'dowel rod': False, 'diameter bit': False, 'the gold box': False, 'woodpeckers plungelift': False, 'son': True, 'splintering': False, 'template guide': False, 'table saw': False, 'choice': True, 'merit': True, 'pass': False, 'stability': True, 'equipment': True, 'tilt': True, 'waste': False, 'pc guide bushing': False, 'asset': True, 'm12v': False, 'company': True, 'wood': True, 'champ': False, 'service center': False, 'distinction': True, 'malasyia': False, 'burning': False, 'cut': False, 'place': False, 'jig': True, 'installation': True, 'trimmer guide': False, 'metal base': False, 'handful': True, 'guide': True, 'mm wrench': False, 'plywood': True, 'table insert': False, 'router lift': False, 'quality result': False, 'beef': True, 'form': True, 'spring': True, 'amazon': True}\n"
     ]
    }
   ],
   "source": [
    "for aspect_graph in ASPECTS_GRAPH_PATHS:\n",
    "    print(aspect_graph)\n",
    "    print(get_aspects_with_noun_bool(aspect_graph))"
   ]
  },
  {
   "cell_type": "code",
   "execution_count": null,
   "metadata": {},
   "outputs": [],
   "source": []
  }
 ],
 "metadata": {
  "kernelspec": {
   "display_name": "Python 3",
   "language": "python",
   "name": "python3"
  },
  "language_info": {
   "codemirror_mode": {
    "name": "ipython",
    "version": 3
   },
   "file_extension": ".py",
   "mimetype": "text/x-python",
   "name": "python",
   "nbconvert_exporter": "python",
   "pygments_lexer": "ipython3",
   "version": "3.6.2"
  }
 },
 "nbformat": 4,
 "nbformat_minor": 2
}
