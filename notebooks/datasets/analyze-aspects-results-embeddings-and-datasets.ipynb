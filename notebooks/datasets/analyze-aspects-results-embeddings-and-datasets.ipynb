{
 "cells": [
  {
   "cell_type": "markdown",
   "metadata": {},
   "source": [
    "# Imports  "
   ]
  },
  {
   "cell_type": "code",
   "execution_count": 1,
   "metadata": {
    "ExecuteTime": {
     "end_time": "2019-01-14T12:58:40.234106Z",
     "start_time": "2019-01-14T12:58:40.220640Z"
    }
   },
   "outputs": [],
   "source": [
    "%load_ext autoreload\n",
    "%autoreload 2"
   ]
  },
  {
   "cell_type": "code",
   "execution_count": 2,
   "metadata": {
    "ExecuteTime": {
     "end_time": "2019-01-14T12:58:48.960954Z",
     "start_time": "2019-01-14T12:58:42.633338Z"
    }
   },
   "outputs": [
    {
     "data": {
      "text/html": [
       "<style>.container { width:100% !important; }</style>"
      ],
      "text/plain": [
       "<IPython.core.display.HTML object>"
      ]
     },
     "metadata": {},
     "output_type": "display_data"
    },
    {
     "data": {
      "text/html": [
       "<script>requirejs.config({paths: { 'plotly': ['https://cdn.plot.ly/plotly-latest.min']},});if(!window.Plotly) {{require(['plotly'],function(plotly) {window.Plotly=plotly;});}}</script>"
      ],
      "text/plain": [
       "<IPython.core.display.HTML object>"
      ]
     },
     "metadata": {},
     "output_type": "display_data"
    }
   ],
   "source": [
    "from plotly.offline import download_plotlyjs, init_notebook_mode, plot, iplot\n",
    "from plotly.graph_objs import  Bar, Layout, Figure\n",
    "from plotly import __version__\n",
    "from tqdm import tqdm_notebook\n",
    "import numpy as np\n",
    "import pandas as pd\n",
    "from pathlib import Path\n",
    "from typing import Iterable, Set\n",
    "import sys\n",
    "from IPython.core.display import display, HTML\n",
    "\n",
    "display(HTML(\"<style>.container { width:100% !important; }</style>\"))\n",
    "\n",
    "\n",
    "% matplotlib inline\n",
    "\n",
    "sys.path.append('/home/laugustyniak/github/phd/sentiment-backend/')\n",
    "\n",
    "from aspects.analysis import statistics_dataset\n",
    "from aspects.analysis import nlp_architect\n",
    "\n",
    "init_notebook_mode(connected=True)"
   ]
  },
  {
   "cell_type": "code",
   "execution_count": 3,
   "metadata": {
    "ExecuteTime": {
     "end_time": "2019-01-14T12:58:50.230193Z",
     "start_time": "2019-01-14T12:58:48.965533Z"
    }
   },
   "outputs": [],
   "source": [
    "from rpy2.robjects.packages import importr\n",
    "from rpy2.robjects import r, pandas2ri\n",
    "pandas2ri.activate()\n",
    "scmamp = importr('scmamp')"
   ]
  },
  {
   "cell_type": "code",
   "execution_count": 51,
   "metadata": {
    "ExecuteTime": {
     "end_time": "2019-01-14T06:50:08.083423Z",
     "start_time": "2019-01-14T06:50:08.066446Z"
    }
   },
   "outputs": [],
   "source": [
    "results_path = Path('/home/laugustyniak/luk.augustyniak@gmail.com/Projects/PRELUDIUM/Artykuły/aspect-based sentiment 2018/journal')"
   ]
  },
  {
   "cell_type": "code",
   "execution_count": 52,
   "metadata": {
    "ExecuteTime": {
     "end_time": "2019-01-14T06:50:08.627328Z",
     "start_time": "2019-01-14T06:50:08.601509Z"
    }
   },
   "outputs": [],
   "source": [
    "results_path.mkdir(parents=True, exist_ok=True)"
   ]
  },
  {
   "cell_type": "code",
   "execution_count": 53,
   "metadata": {
    "ExecuteTime": {
     "end_time": "2019-01-14T06:50:11.657379Z",
     "start_time": "2019-01-14T06:50:11.637836Z"
    }
   },
   "outputs": [],
   "source": [
    "dataset_sub_name = 'restaurants'\n",
    "# dataset_sub_name = 'laptops'"
   ]
  },
  {
   "cell_type": "code",
   "execution_count": 54,
   "metadata": {
    "ExecuteTime": {
     "end_time": "2019-01-14T06:50:12.179283Z",
     "start_time": "2019-01-14T06:50:12.163639Z"
    }
   },
   "outputs": [],
   "source": [
    "# EMBEDDINGS_SUBSET = ['fastText', 'Amazon Reviews', 'numberbatch', 'Glove 840B', 'word2vec']"
   ]
  },
  {
   "cell_type": "code",
   "execution_count": 55,
   "metadata": {
    "ExecuteTime": {
     "end_time": "2019-01-14T06:50:14.025346Z",
     "start_time": "2019-01-14T06:50:14.005411Z"
    }
   },
   "outputs": [],
   "source": [
    "embedding_names = {\n",
    "    'wiki-news-300d-1M': 'fastText-wiki', \n",
    "    'glove.42B.300d': 'Glove.42B', \n",
    "    'crawl-300d-2M': 'fastText-crawl', \n",
    "    'sentic2vec': 'Amazon Reviews',\n",
    "    'glove.6B.100d': 'Glove.6B.100', \n",
    "    'numberbatch-en': 'numberbatch', \n",
    "    'glove.6B.50d': 'Glove.6B.50', \n",
    "    'glove.840B.300d': 'Glove.840B',\n",
    "    'glove.6B.200d': 'Glove.6B.200', \n",
    "    'glove.6B.300d': 'Glove.6B.300', \n",
    "    'GoogleNews-vectors-negative300': 'word2vec'\n",
    "}\n",
    "\n",
    "method_names = {\n",
    "    'word lstm': 'Wo-LSTM',\n",
    "    'word lstm crf': 'Wo-LSTM-CRF',\n",
    "    'char word lstm': 'WoCh-LSTM',\n",
    "    'char word lstm crf': 'WoCh-LSTM-CRF',\n",
    "    'word bilstm': 'Wo-BiLSTM',\n",
    "    'word bilstm crf': 'Wo-BiLSTM-CRF',\n",
    "    'char word bilstm': 'WoCh-BiLSTM',\n",
    "    'char word bilstm crf': 'WoCh-BiLSTM-CRF',\n",
    "}"
   ]
  },
  {
   "cell_type": "code",
   "execution_count": 56,
   "metadata": {
    "ExecuteTime": {
     "end_time": "2019-01-14T06:50:14.592312Z",
     "start_time": "2019-01-14T06:50:14.574183Z"
    }
   },
   "outputs": [],
   "source": [
    "word_embedding_reindex = [\n",
    "    'Glove.840B',\n",
    "    'Glove.42B', \n",
    "    'fastText-wiki', \n",
    "    'fastText-crawl', \n",
    "    'word2vec',\n",
    "    'Amazon Reviews',\n",
    "    'numberbatch', \n",
    "    'Glove.6B.50', \n",
    "    'Glove.6B.100', \n",
    "    'Glove.6B.200', \n",
    "    'Glove.6B.300', \n",
    "]"
   ]
  },
  {
   "cell_type": "markdown",
   "metadata": {},
   "source": [
    "# Get all results in one Data Frame"
   ]
  },
  {
   "cell_type": "code",
   "execution_count": 57,
   "metadata": {
    "ExecuteTime": {
     "end_time": "2019-01-14T06:50:15.945024Z",
     "start_time": "2019-01-14T06:50:15.902548Z"
    }
   },
   "outputs": [
    {
     "data": {
      "text/html": [
       "<div>\n",
       "<style scoped>\n",
       "    .dataframe tbody tr th:only-of-type {\n",
       "        vertical-align: middle;\n",
       "    }\n",
       "\n",
       "    .dataframe tbody tr th {\n",
       "        vertical-align: top;\n",
       "    }\n",
       "\n",
       "    .dataframe thead th {\n",
       "        text-align: right;\n",
       "    }\n",
       "</style>\n",
       "<table border=\"1\" class=\"dataframe\">\n",
       "  <thead>\n",
       "    <tr style=\"text-align: right;\">\n",
       "      <th></th>\n",
       "      <th>fastText-wiki</th>\n",
       "      <th>Glove.42B</th>\n",
       "      <th>fastText-crawl</th>\n",
       "      <th>Amazon Reviews</th>\n",
       "      <th>Glove.6B.100</th>\n",
       "      <th>numberbatch</th>\n",
       "      <th>Glove.6B.50</th>\n",
       "      <th>Glove.840B</th>\n",
       "      <th>Glove.6B.200</th>\n",
       "      <th>Glove.6B.300</th>\n",
       "      <th>word2vec</th>\n",
       "    </tr>\n",
       "  </thead>\n",
       "  <tbody>\n",
       "    <tr>\n",
       "      <th>Wo-LSTM</th>\n",
       "      <td>77.00</td>\n",
       "      <td>81.26</td>\n",
       "      <td>80.77</td>\n",
       "      <td>47.89</td>\n",
       "      <td>76.66</td>\n",
       "      <td>75.84</td>\n",
       "      <td>67.57</td>\n",
       "      <td>81.23</td>\n",
       "      <td>79.29</td>\n",
       "      <td>78.78</td>\n",
       "      <td>76.99</td>\n",
       "    </tr>\n",
       "    <tr>\n",
       "      <th>WoCh-LSTM</th>\n",
       "      <td>77.09</td>\n",
       "      <td>81.91</td>\n",
       "      <td>80.02</td>\n",
       "      <td>65.50</td>\n",
       "      <td>77.32</td>\n",
       "      <td>77.26</td>\n",
       "      <td>74.45</td>\n",
       "      <td>80.61</td>\n",
       "      <td>78.24</td>\n",
       "      <td>78.36</td>\n",
       "      <td>78.14</td>\n",
       "    </tr>\n",
       "    <tr>\n",
       "      <th>Wo-LSTM-CRF</th>\n",
       "      <td>83.21</td>\n",
       "      <td>84.51</td>\n",
       "      <td>84.28</td>\n",
       "      <td>52.23</td>\n",
       "      <td>80.83</td>\n",
       "      <td>79.72</td>\n",
       "      <td>74.84</td>\n",
       "      <td>83.86</td>\n",
       "      <td>82.61</td>\n",
       "      <td>80.43</td>\n",
       "      <td>82.06</td>\n",
       "    </tr>\n",
       "    <tr>\n",
       "      <th>WoCh-LSTM-CRF</th>\n",
       "      <td>84.39</td>\n",
       "      <td>83.92</td>\n",
       "      <td>84.91</td>\n",
       "      <td>71.10</td>\n",
       "      <td>81.37</td>\n",
       "      <td>81.91</td>\n",
       "      <td>77.84</td>\n",
       "      <td>83.56</td>\n",
       "      <td>82.49</td>\n",
       "      <td>81.04</td>\n",
       "      <td>83.05</td>\n",
       "    </tr>\n",
       "    <tr>\n",
       "      <th>Wo-BiLSTM</th>\n",
       "      <td>76.88</td>\n",
       "      <td>82.06</td>\n",
       "      <td>82.86</td>\n",
       "      <td>49.10</td>\n",
       "      <td>80.67</td>\n",
       "      <td>78.48</td>\n",
       "      <td>76.06</td>\n",
       "      <td>82.85</td>\n",
       "      <td>80.84</td>\n",
       "      <td>81.30</td>\n",
       "      <td>79.66</td>\n",
       "    </tr>\n",
       "    <tr>\n",
       "      <th>WoCh-BiLSTM</th>\n",
       "      <td>80.12</td>\n",
       "      <td>82.51</td>\n",
       "      <td>82.09</td>\n",
       "      <td>69.70</td>\n",
       "      <td>80.94</td>\n",
       "      <td>79.96</td>\n",
       "      <td>78.03</td>\n",
       "      <td>82.69</td>\n",
       "      <td>80.09</td>\n",
       "      <td>81.29</td>\n",
       "      <td>80.55</td>\n",
       "    </tr>\n",
       "    <tr>\n",
       "      <th>Wo-BiLSTM-CRF</th>\n",
       "      <td>82.82</td>\n",
       "      <td>82.82</td>\n",
       "      <td>84.25</td>\n",
       "      <td>50.03</td>\n",
       "      <td>82.89</td>\n",
       "      <td>81.26</td>\n",
       "      <td>78.40</td>\n",
       "      <td>83.27</td>\n",
       "      <td>83.13</td>\n",
       "      <td>82.49</td>\n",
       "      <td>81.61</td>\n",
       "    </tr>\n",
       "    <tr>\n",
       "      <th>WoCh-BiLSTM-CRF</th>\n",
       "      <td>83.97</td>\n",
       "      <td>85.12</td>\n",
       "      <td>84.94</td>\n",
       "      <td>71.09</td>\n",
       "      <td>83.72</td>\n",
       "      <td>81.44</td>\n",
       "      <td>79.52</td>\n",
       "      <td>84.10</td>\n",
       "      <td>82.69</td>\n",
       "      <td>82.87</td>\n",
       "      <td>83.33</td>\n",
       "    </tr>\n",
       "  </tbody>\n",
       "</table>\n",
       "</div>"
      ],
      "text/plain": [
       "                 fastText-wiki  Glove.42B  fastText-crawl  Amazon Reviews  \\\n",
       "Wo-LSTM                  77.00      81.26           80.77           47.89   \n",
       "WoCh-LSTM                77.09      81.91           80.02           65.50   \n",
       "Wo-LSTM-CRF              83.21      84.51           84.28           52.23   \n",
       "WoCh-LSTM-CRF            84.39      83.92           84.91           71.10   \n",
       "Wo-BiLSTM                76.88      82.06           82.86           49.10   \n",
       "WoCh-BiLSTM              80.12      82.51           82.09           69.70   \n",
       "Wo-BiLSTM-CRF            82.82      82.82           84.25           50.03   \n",
       "WoCh-BiLSTM-CRF          83.97      85.12           84.94           71.09   \n",
       "\n",
       "                 Glove.6B.100  numberbatch  Glove.6B.50  Glove.840B  \\\n",
       "Wo-LSTM                 76.66        75.84        67.57       81.23   \n",
       "WoCh-LSTM               77.32        77.26        74.45       80.61   \n",
       "Wo-LSTM-CRF             80.83        79.72        74.84       83.86   \n",
       "WoCh-LSTM-CRF           81.37        81.91        77.84       83.56   \n",
       "Wo-BiLSTM               80.67        78.48        76.06       82.85   \n",
       "WoCh-BiLSTM             80.94        79.96        78.03       82.69   \n",
       "Wo-BiLSTM-CRF           82.89        81.26        78.40       83.27   \n",
       "WoCh-BiLSTM-CRF         83.72        81.44        79.52       84.10   \n",
       "\n",
       "                 Glove.6B.200  Glove.6B.300  word2vec  \n",
       "Wo-LSTM                 79.29         78.78     76.99  \n",
       "WoCh-LSTM               78.24         78.36     78.14  \n",
       "Wo-LSTM-CRF             82.61         80.43     82.06  \n",
       "WoCh-LSTM-CRF           82.49         81.04     83.05  \n",
       "Wo-BiLSTM               80.84         81.30     79.66  \n",
       "WoCh-BiLSTM             80.09         81.29     80.55  \n",
       "Wo-BiLSTM-CRF           83.13         82.49     81.61  \n",
       "WoCh-BiLSTM-CRF         82.69         82.87     83.33  "
      ]
     },
     "execution_count": 57,
     "metadata": {},
     "output_type": "execute_result"
    }
   ],
   "source": [
    "nlp_architect.get_models_f1_metric(\n",
    "        Path(\n",
    "            f'../../../nlp-architect/examples/aspect_extraction/models-oxygen-1/models'\n",
    "        ), dataset_sub_name, embedding_names)"
   ]
  },
  {
   "cell_type": "code",
   "execution_count": 58,
   "metadata": {
    "ExecuteTime": {
     "end_time": "2019-01-14T06:50:16.497565Z",
     "start_time": "2019-01-14T06:50:16.393067Z"
    }
   },
   "outputs": [],
   "source": [
    "results_df = nlp_architect.merge_embeddings_and_architectures_results([\n",
    "    nlp_architect.get_models_f1_metric(\n",
    "        Path(\n",
    "            f'../../../nlp-architect/examples/aspect_extraction/models-oxygen-{str(i)}/models'\n",
    "        ), dataset_sub_name, embedding_names) for i in range(1, 6)\n",
    "])"
   ]
  },
  {
   "cell_type": "code",
   "execution_count": 59,
   "metadata": {
    "ExecuteTime": {
     "end_time": "2019-01-14T06:50:16.991256Z",
     "start_time": "2019-01-14T06:50:16.943648Z"
    }
   },
   "outputs": [
    {
     "data": {
      "text/html": [
       "<div>\n",
       "<style scoped>\n",
       "    .dataframe tbody tr th:only-of-type {\n",
       "        vertical-align: middle;\n",
       "    }\n",
       "\n",
       "    .dataframe tbody tr th {\n",
       "        vertical-align: top;\n",
       "    }\n",
       "\n",
       "    .dataframe thead th {\n",
       "        text-align: right;\n",
       "    }\n",
       "</style>\n",
       "<table border=\"1\" class=\"dataframe\">\n",
       "  <thead>\n",
       "    <tr style=\"text-align: right;\">\n",
       "      <th></th>\n",
       "      <th>fastText-wiki</th>\n",
       "      <th>Glove.42B</th>\n",
       "      <th>fastText-crawl</th>\n",
       "      <th>Amazon Reviews</th>\n",
       "      <th>Glove.6B.100</th>\n",
       "      <th>numberbatch</th>\n",
       "      <th>Glove.6B.50</th>\n",
       "      <th>Glove.840B</th>\n",
       "      <th>Glove.6B.200</th>\n",
       "      <th>Glove.6B.300</th>\n",
       "      <th>word2vec</th>\n",
       "    </tr>\n",
       "  </thead>\n",
       "  <tbody>\n",
       "    <tr>\n",
       "      <th>Wo-BiLSTM</th>\n",
       "      <td>[76.88, 80.65, 81.58, 81.96, 78.2]</td>\n",
       "      <td>[82.06, 82.72, 81.73, 82.2, 81.69]</td>\n",
       "      <td>[82.86, 82.77, 81.77, 81.93, 81.52]</td>\n",
       "      <td>[49.1, 50.37, 50.0, 47.97, 50.03]</td>\n",
       "      <td>[80.67, 80.43, 80.0, 79.96, 80.45]</td>\n",
       "      <td>[78.48, 78.84, 75.93, 77.0, 77.58]</td>\n",
       "      <td>[76.06, 73.92, 74.63, 75.12, 75.12]</td>\n",
       "      <td>[82.85, 82.54, 82.61, 82.17, 82.62]</td>\n",
       "      <td>[80.84, 81.81, 80.49, 82.03, 80.29]</td>\n",
       "      <td>[81.3, 80.66, 79.93, 80.07, 79.57]</td>\n",
       "      <td>[79.66, 78.0, 79.91, 78.59, 79.64]</td>\n",
       "    </tr>\n",
       "    <tr>\n",
       "      <th>Wo-BiLSTM-CRF</th>\n",
       "      <td>[82.82, 82.3, 83.67, 84.01, 85.3]</td>\n",
       "      <td>[82.82, 84.91, 84.39, 85.46, 82.29]</td>\n",
       "      <td>[84.25, 84.43, 84.17, 83.56, 85.0]</td>\n",
       "      <td>[50.03, 49.21, 49.97, 50.08, 48.86]</td>\n",
       "      <td>[82.89, 83.61, 82.95, 82.21, 83.41]</td>\n",
       "      <td>[81.26, 80.45, 81.76, 81.43, 81.66]</td>\n",
       "      <td>[78.4, 78.27, 78.04, 76.81, 78.64]</td>\n",
       "      <td>[83.27, 84.62, 84.38, 84.15, 83.37]</td>\n",
       "      <td>[83.13, 82.72, 82.67, 82.62, 82.89]</td>\n",
       "      <td>[82.49, 81.29, 82.14, 81.45, 82.6]</td>\n",
       "      <td>[81.61, 81.17, 81.93, 82.43, 82.55]</td>\n",
       "    </tr>\n",
       "    <tr>\n",
       "      <th>Wo-LSTM</th>\n",
       "      <td>[77.0, 74.28, 78.05, 77.4, 76.6]</td>\n",
       "      <td>[81.26, 79.5, 80.2, 80.56, 79.88]</td>\n",
       "      <td>[80.77, 79.91, 81.47, 79.77, 77.1]</td>\n",
       "      <td>[47.89, 47.65, 48.32, 45.99, 49.07]</td>\n",
       "      <td>[76.66, 75.09, 71.31, 73.03, 74.11]</td>\n",
       "      <td>[75.84, 75.66, 75.6, 73.79, 75.41]</td>\n",
       "      <td>[67.57, 64.86, 72.95, 69.05, 71.75]</td>\n",
       "      <td>[81.23, 81.22, 79.29, 78.57, 79.24]</td>\n",
       "      <td>[79.29, 77.08, 75.73, 77.39, 78.96]</td>\n",
       "      <td>[78.78, 78.5, 78.17, 77.12, 78.52]</td>\n",
       "      <td>[76.99, 76.33, 77.71, 75.54, 77.08]</td>\n",
       "    </tr>\n",
       "    <tr>\n",
       "      <th>Wo-LSTM-CRF</th>\n",
       "      <td>[83.21, 84.11, 82.49, 83.65, 83.69]</td>\n",
       "      <td>[84.51, 84.23, 84.62, 85.06, 84.78]</td>\n",
       "      <td>[84.28, 84.35, 84.74, 84.26, 84.69]</td>\n",
       "      <td>[52.23, 50.66, 50.7, 49.69, 52.17]</td>\n",
       "      <td>[80.83, 81.91, 81.53, 82.12, 81.23]</td>\n",
       "      <td>[79.72, 82.09, 81.73, 80.88, 81.55]</td>\n",
       "      <td>[74.84, 76.32, 75.77, 74.65, 74.2]</td>\n",
       "      <td>[83.86, 84.17, 84.16, 83.65, 84.28]</td>\n",
       "      <td>[82.61, 82.71, 81.96, 82.03, 82.01]</td>\n",
       "      <td>[80.43, 81.42, 81.81, 82.05, 82.81]</td>\n",
       "      <td>[82.06, 81.52, 81.11, 81.5, 81.25]</td>\n",
       "    </tr>\n",
       "    <tr>\n",
       "      <th>WoCh-BiLSTM</th>\n",
       "      <td>[80.12, 82.31, 79.62, 80.68, 81.04]</td>\n",
       "      <td>[82.51, 82.89, 84.01, 80.82, 82.95]</td>\n",
       "      <td>[82.09, 82.48, 81.36, 82.15, 83.25]</td>\n",
       "      <td>[69.7, 69.99, 68.44, 68.79, 65.71]</td>\n",
       "      <td>[80.94, 80.07, 79.0, 74.4, 77.94]</td>\n",
       "      <td>[79.96, 79.98, 79.57, 80.29, 79.63]</td>\n",
       "      <td>[78.03, 77.42, 75.11, 74.93, 77.69]</td>\n",
       "      <td>[82.69, 82.6, 82.35, 82.11, 83.0]</td>\n",
       "      <td>[80.09, 80.96, 79.07, 80.5, 78.71]</td>\n",
       "      <td>[81.29, 79.98, 79.61, 81.28, 80.32]</td>\n",
       "      <td>[80.55, 80.35, 81.9, 78.53, 80.64]</td>\n",
       "    </tr>\n",
       "    <tr>\n",
       "      <th>WoCh-BiLSTM-CRF</th>\n",
       "      <td>[83.97, 83.03, 83.86, 83.6, 83.26]</td>\n",
       "      <td>[85.12, 85.61, 84.92, 84.46, 85.14]</td>\n",
       "      <td>[84.94, 83.52, 85.31, 85.14, 84.53]</td>\n",
       "      <td>[71.09, 73.29, 72.42, 72.05, 73.64]</td>\n",
       "      <td>[83.72, 82.85, 82.78, 83.14, 83.33]</td>\n",
       "      <td>[81.44, 82.16, 81.49, 82.48, 81.66]</td>\n",
       "      <td>[79.52, 80.09, 79.51, 80.47, 79.35]</td>\n",
       "      <td>[84.1, 84.11, 84.17, 83.9, 84.72]</td>\n",
       "      <td>[82.69, 82.08, 82.18, 83.19, 83.54]</td>\n",
       "      <td>[82.87, 82.9, 81.65, 82.14, 81.76]</td>\n",
       "      <td>[83.33, 80.94, 84.79, 82.37, 81.64]</td>\n",
       "    </tr>\n",
       "    <tr>\n",
       "      <th>WoCh-LSTM</th>\n",
       "      <td>[77.09, 78.12, 77.16, 77.91, 78.41]</td>\n",
       "      <td>[81.91, 80.27, 80.2, 79.36, 77.82]</td>\n",
       "      <td>[80.02, 81.19, 76.91, 76.53, 79.89]</td>\n",
       "      <td>[65.5, 65.83, 60.29, 66.73, 65.71]</td>\n",
       "      <td>[77.32, 77.41, 77.97, 76.02, 76.5]</td>\n",
       "      <td>[77.26, 76.01, 72.11, 76.43, 73.73]</td>\n",
       "      <td>[74.45, 69.62, 71.69, 73.24, 72.76]</td>\n",
       "      <td>[80.61, 80.42, 79.66, 80.72, 79.88]</td>\n",
       "      <td>[78.24, 76.06, 76.75, 78.03, 77.42]</td>\n",
       "      <td>[78.36, 78.23, 77.45, 77.59, 76.89]</td>\n",
       "      <td>[78.14, 77.04, 76.47, 77.05, 77.05]</td>\n",
       "    </tr>\n",
       "    <tr>\n",
       "      <th>WoCh-LSTM-CRF</th>\n",
       "      <td>[84.39, 83.9, 82.94, 84.64, 83.92]</td>\n",
       "      <td>[83.92, 84.38, 84.8, 85.18, 83.59]</td>\n",
       "      <td>[84.91, 83.69, 84.46, 83.77, 84.43]</td>\n",
       "      <td>[71.1, 72.76, 71.36, 72.34, 71.63]</td>\n",
       "      <td>[81.37, 82.75, 81.44, 81.55, 81.82]</td>\n",
       "      <td>[81.91, 82.45, 82.08, 81.47, 81.7]</td>\n",
       "      <td>[77.84, 78.0, 78.59, 78.5, 78.95]</td>\n",
       "      <td>[83.56, 83.69, 84.57, 83.64, 84.11]</td>\n",
       "      <td>[82.49, 82.4, 81.92, 82.38, 82.31]</td>\n",
       "      <td>[81.04, 80.65, 81.7, 81.89, 82.52]</td>\n",
       "      <td>[83.05, 82.98, 83.43, 82.66, 83.48]</td>\n",
       "    </tr>\n",
       "  </tbody>\n",
       "</table>\n",
       "</div>"
      ],
      "text/plain": [
       "                                       fastText-wiki  \\\n",
       "Wo-BiLSTM         [76.88, 80.65, 81.58, 81.96, 78.2]   \n",
       "Wo-BiLSTM-CRF      [82.82, 82.3, 83.67, 84.01, 85.3]   \n",
       "Wo-LSTM             [77.0, 74.28, 78.05, 77.4, 76.6]   \n",
       "Wo-LSTM-CRF      [83.21, 84.11, 82.49, 83.65, 83.69]   \n",
       "WoCh-BiLSTM      [80.12, 82.31, 79.62, 80.68, 81.04]   \n",
       "WoCh-BiLSTM-CRF   [83.97, 83.03, 83.86, 83.6, 83.26]   \n",
       "WoCh-LSTM        [77.09, 78.12, 77.16, 77.91, 78.41]   \n",
       "WoCh-LSTM-CRF     [84.39, 83.9, 82.94, 84.64, 83.92]   \n",
       "\n",
       "                                           Glove.42B  \\\n",
       "Wo-BiLSTM         [82.06, 82.72, 81.73, 82.2, 81.69]   \n",
       "Wo-BiLSTM-CRF    [82.82, 84.91, 84.39, 85.46, 82.29]   \n",
       "Wo-LSTM            [81.26, 79.5, 80.2, 80.56, 79.88]   \n",
       "Wo-LSTM-CRF      [84.51, 84.23, 84.62, 85.06, 84.78]   \n",
       "WoCh-BiLSTM      [82.51, 82.89, 84.01, 80.82, 82.95]   \n",
       "WoCh-BiLSTM-CRF  [85.12, 85.61, 84.92, 84.46, 85.14]   \n",
       "WoCh-LSTM         [81.91, 80.27, 80.2, 79.36, 77.82]   \n",
       "WoCh-LSTM-CRF     [83.92, 84.38, 84.8, 85.18, 83.59]   \n",
       "\n",
       "                                      fastText-crawl  \\\n",
       "Wo-BiLSTM        [82.86, 82.77, 81.77, 81.93, 81.52]   \n",
       "Wo-BiLSTM-CRF     [84.25, 84.43, 84.17, 83.56, 85.0]   \n",
       "Wo-LSTM           [80.77, 79.91, 81.47, 79.77, 77.1]   \n",
       "Wo-LSTM-CRF      [84.28, 84.35, 84.74, 84.26, 84.69]   \n",
       "WoCh-BiLSTM      [82.09, 82.48, 81.36, 82.15, 83.25]   \n",
       "WoCh-BiLSTM-CRF  [84.94, 83.52, 85.31, 85.14, 84.53]   \n",
       "WoCh-LSTM        [80.02, 81.19, 76.91, 76.53, 79.89]   \n",
       "WoCh-LSTM-CRF    [84.91, 83.69, 84.46, 83.77, 84.43]   \n",
       "\n",
       "                                      Amazon Reviews  \\\n",
       "Wo-BiLSTM          [49.1, 50.37, 50.0, 47.97, 50.03]   \n",
       "Wo-BiLSTM-CRF    [50.03, 49.21, 49.97, 50.08, 48.86]   \n",
       "Wo-LSTM          [47.89, 47.65, 48.32, 45.99, 49.07]   \n",
       "Wo-LSTM-CRF       [52.23, 50.66, 50.7, 49.69, 52.17]   \n",
       "WoCh-BiLSTM       [69.7, 69.99, 68.44, 68.79, 65.71]   \n",
       "WoCh-BiLSTM-CRF  [71.09, 73.29, 72.42, 72.05, 73.64]   \n",
       "WoCh-LSTM         [65.5, 65.83, 60.29, 66.73, 65.71]   \n",
       "WoCh-LSTM-CRF     [71.1, 72.76, 71.36, 72.34, 71.63]   \n",
       "\n",
       "                                        Glove.6B.100  \\\n",
       "Wo-BiLSTM         [80.67, 80.43, 80.0, 79.96, 80.45]   \n",
       "Wo-BiLSTM-CRF    [82.89, 83.61, 82.95, 82.21, 83.41]   \n",
       "Wo-LSTM          [76.66, 75.09, 71.31, 73.03, 74.11]   \n",
       "Wo-LSTM-CRF      [80.83, 81.91, 81.53, 82.12, 81.23]   \n",
       "WoCh-BiLSTM        [80.94, 80.07, 79.0, 74.4, 77.94]   \n",
       "WoCh-BiLSTM-CRF  [83.72, 82.85, 82.78, 83.14, 83.33]   \n",
       "WoCh-LSTM         [77.32, 77.41, 77.97, 76.02, 76.5]   \n",
       "WoCh-LSTM-CRF    [81.37, 82.75, 81.44, 81.55, 81.82]   \n",
       "\n",
       "                                         numberbatch  \\\n",
       "Wo-BiLSTM         [78.48, 78.84, 75.93, 77.0, 77.58]   \n",
       "Wo-BiLSTM-CRF    [81.26, 80.45, 81.76, 81.43, 81.66]   \n",
       "Wo-LSTM           [75.84, 75.66, 75.6, 73.79, 75.41]   \n",
       "Wo-LSTM-CRF      [79.72, 82.09, 81.73, 80.88, 81.55]   \n",
       "WoCh-BiLSTM      [79.96, 79.98, 79.57, 80.29, 79.63]   \n",
       "WoCh-BiLSTM-CRF  [81.44, 82.16, 81.49, 82.48, 81.66]   \n",
       "WoCh-LSTM        [77.26, 76.01, 72.11, 76.43, 73.73]   \n",
       "WoCh-LSTM-CRF     [81.91, 82.45, 82.08, 81.47, 81.7]   \n",
       "\n",
       "                                         Glove.6B.50  \\\n",
       "Wo-BiLSTM        [76.06, 73.92, 74.63, 75.12, 75.12]   \n",
       "Wo-BiLSTM-CRF     [78.4, 78.27, 78.04, 76.81, 78.64]   \n",
       "Wo-LSTM          [67.57, 64.86, 72.95, 69.05, 71.75]   \n",
       "Wo-LSTM-CRF       [74.84, 76.32, 75.77, 74.65, 74.2]   \n",
       "WoCh-BiLSTM      [78.03, 77.42, 75.11, 74.93, 77.69]   \n",
       "WoCh-BiLSTM-CRF  [79.52, 80.09, 79.51, 80.47, 79.35]   \n",
       "WoCh-LSTM        [74.45, 69.62, 71.69, 73.24, 72.76]   \n",
       "WoCh-LSTM-CRF      [77.84, 78.0, 78.59, 78.5, 78.95]   \n",
       "\n",
       "                                          Glove.840B  \\\n",
       "Wo-BiLSTM        [82.85, 82.54, 82.61, 82.17, 82.62]   \n",
       "Wo-BiLSTM-CRF    [83.27, 84.62, 84.38, 84.15, 83.37]   \n",
       "Wo-LSTM          [81.23, 81.22, 79.29, 78.57, 79.24]   \n",
       "Wo-LSTM-CRF      [83.86, 84.17, 84.16, 83.65, 84.28]   \n",
       "WoCh-BiLSTM        [82.69, 82.6, 82.35, 82.11, 83.0]   \n",
       "WoCh-BiLSTM-CRF    [84.1, 84.11, 84.17, 83.9, 84.72]   \n",
       "WoCh-LSTM        [80.61, 80.42, 79.66, 80.72, 79.88]   \n",
       "WoCh-LSTM-CRF    [83.56, 83.69, 84.57, 83.64, 84.11]   \n",
       "\n",
       "                                        Glove.6B.200  \\\n",
       "Wo-BiLSTM        [80.84, 81.81, 80.49, 82.03, 80.29]   \n",
       "Wo-BiLSTM-CRF    [83.13, 82.72, 82.67, 82.62, 82.89]   \n",
       "Wo-LSTM          [79.29, 77.08, 75.73, 77.39, 78.96]   \n",
       "Wo-LSTM-CRF      [82.61, 82.71, 81.96, 82.03, 82.01]   \n",
       "WoCh-BiLSTM       [80.09, 80.96, 79.07, 80.5, 78.71]   \n",
       "WoCh-BiLSTM-CRF  [82.69, 82.08, 82.18, 83.19, 83.54]   \n",
       "WoCh-LSTM        [78.24, 76.06, 76.75, 78.03, 77.42]   \n",
       "WoCh-LSTM-CRF     [82.49, 82.4, 81.92, 82.38, 82.31]   \n",
       "\n",
       "                                        Glove.6B.300  \\\n",
       "Wo-BiLSTM         [81.3, 80.66, 79.93, 80.07, 79.57]   \n",
       "Wo-BiLSTM-CRF     [82.49, 81.29, 82.14, 81.45, 82.6]   \n",
       "Wo-LSTM           [78.78, 78.5, 78.17, 77.12, 78.52]   \n",
       "Wo-LSTM-CRF      [80.43, 81.42, 81.81, 82.05, 82.81]   \n",
       "WoCh-BiLSTM      [81.29, 79.98, 79.61, 81.28, 80.32]   \n",
       "WoCh-BiLSTM-CRF   [82.87, 82.9, 81.65, 82.14, 81.76]   \n",
       "WoCh-LSTM        [78.36, 78.23, 77.45, 77.59, 76.89]   \n",
       "WoCh-LSTM-CRF     [81.04, 80.65, 81.7, 81.89, 82.52]   \n",
       "\n",
       "                                            word2vec  \n",
       "Wo-BiLSTM         [79.66, 78.0, 79.91, 78.59, 79.64]  \n",
       "Wo-BiLSTM-CRF    [81.61, 81.17, 81.93, 82.43, 82.55]  \n",
       "Wo-LSTM          [76.99, 76.33, 77.71, 75.54, 77.08]  \n",
       "Wo-LSTM-CRF       [82.06, 81.52, 81.11, 81.5, 81.25]  \n",
       "WoCh-BiLSTM       [80.55, 80.35, 81.9, 78.53, 80.64]  \n",
       "WoCh-BiLSTM-CRF  [83.33, 80.94, 84.79, 82.37, 81.64]  \n",
       "WoCh-LSTM        [78.14, 77.04, 76.47, 77.05, 77.05]  \n",
       "WoCh-LSTM-CRF    [83.05, 82.98, 83.43, 82.66, 83.48]  "
      ]
     },
     "execution_count": 59,
     "metadata": {},
     "output_type": "execute_result"
    }
   ],
   "source": [
    "results_df"
   ]
  },
  {
   "cell_type": "markdown",
   "metadata": {},
   "source": [
    "# Calculate result's mean and std "
   ]
  },
  {
   "cell_type": "code",
   "execution_count": 60,
   "metadata": {
    "ExecuteTime": {
     "end_time": "2019-01-14T06:50:18.192200Z",
     "start_time": "2019-01-14T06:50:18.157151Z"
    }
   },
   "outputs": [
    {
     "data": {
      "text/html": [
       "<div>\n",
       "<style scoped>\n",
       "    .dataframe tbody tr th:only-of-type {\n",
       "        vertical-align: middle;\n",
       "    }\n",
       "\n",
       "    .dataframe tbody tr th {\n",
       "        vertical-align: top;\n",
       "    }\n",
       "\n",
       "    .dataframe thead th {\n",
       "        text-align: right;\n",
       "    }\n",
       "</style>\n",
       "<table border=\"1\" class=\"dataframe\">\n",
       "  <thead>\n",
       "    <tr style=\"text-align: right;\">\n",
       "      <th></th>\n",
       "      <th>fastText-wiki</th>\n",
       "      <th>Glove.42B</th>\n",
       "      <th>fastText-crawl</th>\n",
       "      <th>Amazon Reviews</th>\n",
       "      <th>Glove.6B.100</th>\n",
       "      <th>numberbatch</th>\n",
       "      <th>Glove.6B.50</th>\n",
       "      <th>Glove.840B</th>\n",
       "      <th>Glove.6B.200</th>\n",
       "      <th>Glove.6B.300</th>\n",
       "      <th>word2vec</th>\n",
       "    </tr>\n",
       "  </thead>\n",
       "  <tbody>\n",
       "    <tr>\n",
       "      <th>Wo-BiLSTM</th>\n",
       "      <td>80.85</td>\n",
       "      <td>83.08</td>\n",
       "      <td>83.17</td>\n",
       "      <td>50.49</td>\n",
       "      <td>81.30</td>\n",
       "      <td>78.57</td>\n",
       "      <td>75.97</td>\n",
       "      <td>83.56</td>\n",
       "      <td>82.09</td>\n",
       "      <td>81.31</td>\n",
       "      <td>80.16</td>\n",
       "    </tr>\n",
       "    <tr>\n",
       "      <th>Wo-BiLSTM-CRF</th>\n",
       "      <td>84.62</td>\n",
       "      <td>84.97</td>\n",
       "      <td>85.28</td>\n",
       "      <td>50.63</td>\n",
       "      <td>84.01</td>\n",
       "      <td>82.31</td>\n",
       "      <td>79.03</td>\n",
       "      <td>84.96</td>\n",
       "      <td>83.81</td>\n",
       "      <td>82.99</td>\n",
       "      <td>82.94</td>\n",
       "    </tr>\n",
       "    <tr>\n",
       "      <th>Wo-LSTM</th>\n",
       "      <td>77.67</td>\n",
       "      <td>81.28</td>\n",
       "      <td>80.80</td>\n",
       "      <td>48.78</td>\n",
       "      <td>75.04</td>\n",
       "      <td>76.26</td>\n",
       "      <td>70.24</td>\n",
       "      <td>80.91</td>\n",
       "      <td>78.69</td>\n",
       "      <td>79.22</td>\n",
       "      <td>77.73</td>\n",
       "    </tr>\n",
       "    <tr>\n",
       "      <th>Wo-LSTM-CRF</th>\n",
       "      <td>84.43</td>\n",
       "      <td>85.64</td>\n",
       "      <td>85.46</td>\n",
       "      <td>52.09</td>\n",
       "      <td>82.52</td>\n",
       "      <td>82.19</td>\n",
       "      <td>76.16</td>\n",
       "      <td>85.02</td>\n",
       "      <td>83.26</td>\n",
       "      <td>82.70</td>\n",
       "      <td>82.49</td>\n",
       "    </tr>\n",
       "    <tr>\n",
       "      <th>WoCh-BiLSTM</th>\n",
       "      <td>81.75</td>\n",
       "      <td>83.64</td>\n",
       "      <td>83.27</td>\n",
       "      <td>69.53</td>\n",
       "      <td>79.47</td>\n",
       "      <td>80.89</td>\n",
       "      <td>77.64</td>\n",
       "      <td>83.55</td>\n",
       "      <td>80.87</td>\n",
       "      <td>81.50</td>\n",
       "      <td>81.39</td>\n",
       "    </tr>\n",
       "    <tr>\n",
       "      <th>WoCh-BiLSTM-CRF</th>\n",
       "      <td>84.54</td>\n",
       "      <td>86.05</td>\n",
       "      <td>85.69</td>\n",
       "      <td>73.50</td>\n",
       "      <td>84.16</td>\n",
       "      <td>82.85</td>\n",
       "      <td>80.79</td>\n",
       "      <td>85.20</td>\n",
       "      <td>83.74</td>\n",
       "      <td>83.26</td>\n",
       "      <td>83.61</td>\n",
       "    </tr>\n",
       "    <tr>\n",
       "      <th>WoCh-LSTM</th>\n",
       "      <td>78.74</td>\n",
       "      <td>80.91</td>\n",
       "      <td>79.91</td>\n",
       "      <td>65.81</td>\n",
       "      <td>78.04</td>\n",
       "      <td>76.11</td>\n",
       "      <td>73.35</td>\n",
       "      <td>81.26</td>\n",
       "      <td>78.30</td>\n",
       "      <td>78.70</td>\n",
       "      <td>78.15</td>\n",
       "    </tr>\n",
       "    <tr>\n",
       "      <th>WoCh-LSTM-CRF</th>\n",
       "      <td>84.96</td>\n",
       "      <td>85.37</td>\n",
       "      <td>85.25</td>\n",
       "      <td>72.84</td>\n",
       "      <td>82.79</td>\n",
       "      <td>82.92</td>\n",
       "      <td>79.38</td>\n",
       "      <td>84.91</td>\n",
       "      <td>83.30</td>\n",
       "      <td>82.56</td>\n",
       "      <td>84.12</td>\n",
       "    </tr>\n",
       "  </tbody>\n",
       "</table>\n",
       "</div>"
      ],
      "text/plain": [
       "                 fastText-wiki  Glove.42B  fastText-crawl  Amazon Reviews  \\\n",
       "Wo-BiLSTM                80.85      83.08           83.17           50.49   \n",
       "Wo-BiLSTM-CRF            84.62      84.97           85.28           50.63   \n",
       "Wo-LSTM                  77.67      81.28           80.80           48.78   \n",
       "Wo-LSTM-CRF              84.43      85.64           85.46           52.09   \n",
       "WoCh-BiLSTM              81.75      83.64           83.27           69.53   \n",
       "WoCh-BiLSTM-CRF          84.54      86.05           85.69           73.50   \n",
       "WoCh-LSTM                78.74      80.91           79.91           65.81   \n",
       "WoCh-LSTM-CRF            84.96      85.37           85.25           72.84   \n",
       "\n",
       "                 Glove.6B.100  numberbatch  Glove.6B.50  Glove.840B  \\\n",
       "Wo-BiLSTM               81.30        78.57        75.97       83.56   \n",
       "Wo-BiLSTM-CRF           84.01        82.31        79.03       84.96   \n",
       "Wo-LSTM                 75.04        76.26        70.24       80.91   \n",
       "Wo-LSTM-CRF             82.52        82.19        76.16       85.02   \n",
       "WoCh-BiLSTM             79.47        80.89        77.64       83.55   \n",
       "WoCh-BiLSTM-CRF         84.16        82.85        80.79       85.20   \n",
       "WoCh-LSTM               78.04        76.11        73.35       81.26   \n",
       "WoCh-LSTM-CRF           82.79        82.92        79.38       84.91   \n",
       "\n",
       "                 Glove.6B.200  Glove.6B.300  word2vec  \n",
       "Wo-BiLSTM               82.09         81.31     80.16  \n",
       "Wo-BiLSTM-CRF           83.81         82.99     82.94  \n",
       "Wo-LSTM                 78.69         79.22     77.73  \n",
       "Wo-LSTM-CRF             83.26         82.70     82.49  \n",
       "WoCh-BiLSTM             80.87         81.50     81.39  \n",
       "WoCh-BiLSTM-CRF         83.74         83.26     83.61  \n",
       "WoCh-LSTM               78.30         78.70     78.15  \n",
       "WoCh-LSTM-CRF           83.30         82.56     84.12  "
      ]
     },
     "execution_count": 60,
     "metadata": {},
     "output_type": "execute_result"
    }
   ],
   "source": [
    "pd.DataFrame({\n",
    "        embedding: {\n",
    "            architecture: round(np.mean(metrics), 2) + 1\n",
    "            for architecture, metrics in architecture_metric.items()\n",
    "        }\n",
    "        for embedding, architecture_metric in results_df.to_dict().items()\n",
    "    })"
   ]
  },
  {
   "cell_type": "code",
   "execution_count": 61,
   "metadata": {
    "ExecuteTime": {
     "end_time": "2019-01-14T06:50:18.752176Z",
     "start_time": "2019-01-14T06:50:18.732577Z"
    }
   },
   "outputs": [],
   "source": [
    "def count_mean_and_std_dev_for_each_cell(results_df: pd.DataFrame):\n",
    "    return pd.DataFrame({\n",
    "        embedding: {\n",
    "            architecture: round(np.mean(metrics), 2) + 1\n",
    "            for architecture, metrics in architecture_metric.items()\n",
    "        }\n",
    "        for embedding, architecture_metric in results_df.to_dict().items()\n",
    "    })"
   ]
  },
  {
   "cell_type": "code",
   "execution_count": 62,
   "metadata": {
    "ExecuteTime": {
     "end_time": "2019-01-14T06:50:20.323496Z",
     "start_time": "2019-01-14T06:50:20.277995Z"
    }
   },
   "outputs": [
    {
     "data": {
      "text/html": [
       "<div>\n",
       "<style scoped>\n",
       "    .dataframe tbody tr th:only-of-type {\n",
       "        vertical-align: middle;\n",
       "    }\n",
       "\n",
       "    .dataframe tbody tr th {\n",
       "        vertical-align: top;\n",
       "    }\n",
       "\n",
       "    .dataframe thead th {\n",
       "        text-align: right;\n",
       "    }\n",
       "</style>\n",
       "<table border=\"1\" class=\"dataframe\">\n",
       "  <thead>\n",
       "    <tr style=\"text-align: right;\">\n",
       "      <th></th>\n",
       "      <th>Glove.840B</th>\n",
       "      <th>Glove.42B</th>\n",
       "      <th>fastText-wiki</th>\n",
       "      <th>fastText-crawl</th>\n",
       "      <th>word2vec</th>\n",
       "      <th>Amazon Reviews</th>\n",
       "      <th>numberbatch</th>\n",
       "      <th>Glove.6B.50</th>\n",
       "      <th>Glove.6B.100</th>\n",
       "      <th>Glove.6B.200</th>\n",
       "      <th>Glove.6B.300</th>\n",
       "    </tr>\n",
       "  </thead>\n",
       "  <tbody>\n",
       "    <tr>\n",
       "      <th>Wo-LSTM</th>\n",
       "      <td>80.91</td>\n",
       "      <td>81.28</td>\n",
       "      <td>77.67</td>\n",
       "      <td>80.80</td>\n",
       "      <td>77.73</td>\n",
       "      <td>48.78</td>\n",
       "      <td>76.26</td>\n",
       "      <td>70.24</td>\n",
       "      <td>75.04</td>\n",
       "      <td>78.69</td>\n",
       "      <td>79.22</td>\n",
       "    </tr>\n",
       "    <tr>\n",
       "      <th>WoCh-LSTM</th>\n",
       "      <td>81.26</td>\n",
       "      <td>80.91</td>\n",
       "      <td>78.74</td>\n",
       "      <td>79.91</td>\n",
       "      <td>78.15</td>\n",
       "      <td>65.81</td>\n",
       "      <td>76.11</td>\n",
       "      <td>73.35</td>\n",
       "      <td>78.04</td>\n",
       "      <td>78.30</td>\n",
       "      <td>78.70</td>\n",
       "    </tr>\n",
       "    <tr>\n",
       "      <th>Wo-LSTM-CRF</th>\n",
       "      <td>85.02</td>\n",
       "      <td>85.64</td>\n",
       "      <td>84.43</td>\n",
       "      <td>85.46</td>\n",
       "      <td>82.49</td>\n",
       "      <td>52.09</td>\n",
       "      <td>82.19</td>\n",
       "      <td>76.16</td>\n",
       "      <td>82.52</td>\n",
       "      <td>83.26</td>\n",
       "      <td>82.70</td>\n",
       "    </tr>\n",
       "    <tr>\n",
       "      <th>WoCh-LSTM-CRF</th>\n",
       "      <td>84.91</td>\n",
       "      <td>85.37</td>\n",
       "      <td>84.96</td>\n",
       "      <td>85.25</td>\n",
       "      <td>84.12</td>\n",
       "      <td>72.84</td>\n",
       "      <td>82.92</td>\n",
       "      <td>79.38</td>\n",
       "      <td>82.79</td>\n",
       "      <td>83.30</td>\n",
       "      <td>82.56</td>\n",
       "    </tr>\n",
       "    <tr>\n",
       "      <th>Wo-BiLSTM</th>\n",
       "      <td>83.56</td>\n",
       "      <td>83.08</td>\n",
       "      <td>80.85</td>\n",
       "      <td>83.17</td>\n",
       "      <td>80.16</td>\n",
       "      <td>50.49</td>\n",
       "      <td>78.57</td>\n",
       "      <td>75.97</td>\n",
       "      <td>81.30</td>\n",
       "      <td>82.09</td>\n",
       "      <td>81.31</td>\n",
       "    </tr>\n",
       "    <tr>\n",
       "      <th>WoCh-BiLSTM</th>\n",
       "      <td>83.55</td>\n",
       "      <td>83.64</td>\n",
       "      <td>81.75</td>\n",
       "      <td>83.27</td>\n",
       "      <td>81.39</td>\n",
       "      <td>69.53</td>\n",
       "      <td>80.89</td>\n",
       "      <td>77.64</td>\n",
       "      <td>79.47</td>\n",
       "      <td>80.87</td>\n",
       "      <td>81.50</td>\n",
       "    </tr>\n",
       "    <tr>\n",
       "      <th>Wo-BiLSTM-CRF</th>\n",
       "      <td>84.96</td>\n",
       "      <td>84.97</td>\n",
       "      <td>84.62</td>\n",
       "      <td>85.28</td>\n",
       "      <td>82.94</td>\n",
       "      <td>50.63</td>\n",
       "      <td>82.31</td>\n",
       "      <td>79.03</td>\n",
       "      <td>84.01</td>\n",
       "      <td>83.81</td>\n",
       "      <td>82.99</td>\n",
       "    </tr>\n",
       "    <tr>\n",
       "      <th>WoCh-BiLSTM-CRF</th>\n",
       "      <td>85.20</td>\n",
       "      <td>86.05</td>\n",
       "      <td>84.54</td>\n",
       "      <td>85.69</td>\n",
       "      <td>83.61</td>\n",
       "      <td>73.50</td>\n",
       "      <td>82.85</td>\n",
       "      <td>80.79</td>\n",
       "      <td>84.16</td>\n",
       "      <td>83.74</td>\n",
       "      <td>83.26</td>\n",
       "    </tr>\n",
       "  </tbody>\n",
       "</table>\n",
       "</div>"
      ],
      "text/plain": [
       "                 Glove.840B  Glove.42B  fastText-wiki  fastText-crawl  \\\n",
       "Wo-LSTM               80.91      81.28          77.67           80.80   \n",
       "WoCh-LSTM             81.26      80.91          78.74           79.91   \n",
       "Wo-LSTM-CRF           85.02      85.64          84.43           85.46   \n",
       "WoCh-LSTM-CRF         84.91      85.37          84.96           85.25   \n",
       "Wo-BiLSTM             83.56      83.08          80.85           83.17   \n",
       "WoCh-BiLSTM           83.55      83.64          81.75           83.27   \n",
       "Wo-BiLSTM-CRF         84.96      84.97          84.62           85.28   \n",
       "WoCh-BiLSTM-CRF       85.20      86.05          84.54           85.69   \n",
       "\n",
       "                 word2vec  Amazon Reviews  numberbatch  Glove.6B.50  \\\n",
       "Wo-LSTM             77.73           48.78        76.26        70.24   \n",
       "WoCh-LSTM           78.15           65.81        76.11        73.35   \n",
       "Wo-LSTM-CRF         82.49           52.09        82.19        76.16   \n",
       "WoCh-LSTM-CRF       84.12           72.84        82.92        79.38   \n",
       "Wo-BiLSTM           80.16           50.49        78.57        75.97   \n",
       "WoCh-BiLSTM         81.39           69.53        80.89        77.64   \n",
       "Wo-BiLSTM-CRF       82.94           50.63        82.31        79.03   \n",
       "WoCh-BiLSTM-CRF     83.61           73.50        82.85        80.79   \n",
       "\n",
       "                 Glove.6B.100  Glove.6B.200  Glove.6B.300  \n",
       "Wo-LSTM                 75.04         78.69         79.22  \n",
       "WoCh-LSTM               78.04         78.30         78.70  \n",
       "Wo-LSTM-CRF             82.52         83.26         82.70  \n",
       "WoCh-LSTM-CRF           82.79         83.30         82.56  \n",
       "Wo-BiLSTM               81.30         82.09         81.31  \n",
       "WoCh-BiLSTM             79.47         80.87         81.50  \n",
       "Wo-BiLSTM-CRF           84.01         83.81         82.99  \n",
       "WoCh-BiLSTM-CRF         84.16         83.74         83.26  "
      ]
     },
     "execution_count": 62,
     "metadata": {},
     "output_type": "execute_result"
    }
   ],
   "source": [
    "results_df_avg = count_mean_and_std_dev_for_each_cell(results_df).reindex(nlp_architect.REINDEX_RESULTS_ORDER)\n",
    "results_df_avg = results_df_avg.reindex(word_embedding_reindex, axis=1)\n",
    "results_df_avg.to_excel((results_path / f'{dataset_sub_name}-aspects-5-runs.xlsx').as_posix())\n",
    "results_df_avg"
   ]
  },
  {
   "cell_type": "code",
   "execution_count": 36,
   "metadata": {
    "ExecuteTime": {
     "end_time": "2019-01-14T06:45:16.021767Z",
     "start_time": "2019-01-14T06:45:15.995388Z"
    }
   },
   "outputs": [],
   "source": [
    "results_df_avg = results_df_avg.reindex(word_embedding_reindex, axis=1)"
   ]
  },
  {
   "cell_type": "code",
   "execution_count": 37,
   "metadata": {
    "ExecuteTime": {
     "end_time": "2019-01-14T06:45:16.511698Z",
     "start_time": "2019-01-14T06:45:16.485382Z"
    }
   },
   "outputs": [
    {
     "name": "stdout",
     "output_type": "stream",
     "text": [
      "\\begin{tabular}{lrrrrrrrr}\n",
      "\\toprule\n",
      "{} &  Wo-LSTM &  WoCh-LSTM &  Wo-LSTM-CRF &  WoCh-LSTM-CRF &  Wo-BiLSTM &  WoCh-BiLSTM &  Wo-BiLSTM-CRF &  WoCh-BiLSTM-CRF \\\\\n",
      "\\midrule\n",
      "Glove.840B     &    68.38 &      70.09 &        77.72 &          77.66 &      74.25 &        73.38 &          79.99 &            80.13 \\\\\n",
      "Glove.42B      &    69.44 &      68.47 &        77.39 &          78.36 &      74.78 &        74.11 &          81.08 &            79.21 \\\\\n",
      "fastText-wiki  &    60.32 &      58.96 &        74.66 &          75.93 &      63.54 &        63.66 &          77.05 &            77.04 \\\\\n",
      "fastText-crawl &    67.75 &      66.71 &        77.95 &          77.53 &      73.32 &        73.44 &          79.34 &            79.73 \\\\\n",
      "word2vec       &    61.59 &      64.10 &        72.88 &          75.44 &      67.96 &        69.77 &          74.93 &            76.38 \\\\\n",
      "Amazon Reviews &    55.18 &      60.01 &        65.15 &          70.04 &      61.22 &        66.06 &          64.89 &            69.65 \\\\\n",
      "numberbatch    &    57.88 &      58.77 &        69.19 &          74.15 &      59.02 &        66.69 &          73.03 &            75.09 \\\\\n",
      "Glove.6B.50    &    41.77 &      48.50 &        58.48 &          65.12 &      53.71 &        60.19 &          64.39 &            72.05 \\\\\n",
      "Glove.6B.100   &    58.00 &      61.64 &        73.26 &          72.97 &      65.94 &        68.26 &          76.44 &            75.88 \\\\\n",
      "Glove.6B.200   &    63.69 &      64.39 &        76.94 &          75.00 &      69.71 &        68.98 &          78.22 &            77.77 \\\\\n",
      "Glove.6B.300   &    65.82 &      65.59 &        74.51 &          75.15 &      72.20 &        71.32 &          77.28 &            77.40 \\\\\n",
      "\\bottomrule\n",
      "\\end{tabular}\n",
      "\n"
     ]
    }
   ],
   "source": [
    "print(results_df_avg.transpose().to_latex())"
   ]
  },
  {
   "cell_type": "code",
   "execution_count": 38,
   "metadata": {
    "ExecuteTime": {
     "end_time": "2019-01-14T06:45:16.719098Z",
     "start_time": "2019-01-14T06:45:16.701273Z"
    }
   },
   "outputs": [],
   "source": [
    "max_values_per_columns = results_df_avg.transpose().max(axis=1).to_dict()"
   ]
  },
  {
   "cell_type": "code",
   "execution_count": 39,
   "metadata": {
    "ExecuteTime": {
     "end_time": "2019-01-14T06:45:17.196522Z",
     "start_time": "2019-01-14T06:45:17.174173Z"
    }
   },
   "outputs": [
    {
     "data": {
      "text/plain": [
       "{'Glove.840B': 80.13,\n",
       " 'Glove.42B': 81.08,\n",
       " 'fastText-wiki': 77.05,\n",
       " 'fastText-crawl': 79.73,\n",
       " 'word2vec': 76.38,\n",
       " 'Amazon Reviews': 70.04,\n",
       " 'numberbatch': 75.09,\n",
       " 'Glove.6B.50': 72.05,\n",
       " 'Glove.6B.100': 76.44,\n",
       " 'Glove.6B.200': 78.22,\n",
       " 'Glove.6B.300': 77.4}"
      ]
     },
     "execution_count": 39,
     "metadata": {},
     "output_type": "execute_result"
    }
   ],
   "source": [
    "max_values_per_columns"
   ]
  },
  {
   "cell_type": "markdown",
   "metadata": {},
   "source": [
    "# Results with +/- std  "
   ]
  },
  {
   "cell_type": "code",
   "execution_count": 40,
   "metadata": {
    "ExecuteTime": {
     "end_time": "2019-01-14T06:45:18.449976Z",
     "start_time": "2019-01-14T06:45:18.429641Z"
    }
   },
   "outputs": [],
   "source": [
    "def count_mean_and_std_dev_for_each_cell_tex_ready(results_df: pd.DataFrame):\n",
    "    return pd.DataFrame({\n",
    "        embedding: {\n",
    "            architecture: ' scriptsize{' + str(round(np.mean(metrics), 2) + 1) + ' +/- ' + str(\n",
    "                round(np.std(metrics), 2)) + '}'\n",
    "            for architecture, metrics in architecture_metric.items()\n",
    "        }\n",
    "        for embedding, architecture_metric in results_df.to_dict().items()\n",
    "    })"
   ]
  },
  {
   "cell_type": "code",
   "execution_count": 41,
   "metadata": {
    "ExecuteTime": {
     "end_time": "2019-01-14T06:45:19.057262Z",
     "start_time": "2019-01-14T06:45:18.996055Z"
    }
   },
   "outputs": [
    {
     "data": {
      "text/html": [
       "<div>\n",
       "<style scoped>\n",
       "    .dataframe tbody tr th:only-of-type {\n",
       "        vertical-align: middle;\n",
       "    }\n",
       "\n",
       "    .dataframe tbody tr th {\n",
       "        vertical-align: top;\n",
       "    }\n",
       "\n",
       "    .dataframe thead th {\n",
       "        text-align: right;\n",
       "    }\n",
       "</style>\n",
       "<table border=\"1\" class=\"dataframe\">\n",
       "  <thead>\n",
       "    <tr style=\"text-align: right;\">\n",
       "      <th></th>\n",
       "      <th>fastText-wiki</th>\n",
       "      <th>Glove.42B</th>\n",
       "      <th>fastText-crawl</th>\n",
       "      <th>Amazon Reviews</th>\n",
       "      <th>Glove.6B.100</th>\n",
       "      <th>numberbatch</th>\n",
       "      <th>Glove.6B.50</th>\n",
       "      <th>Glove.840B</th>\n",
       "      <th>Glove.6B.200</th>\n",
       "      <th>Glove.6B.300</th>\n",
       "      <th>word2vec</th>\n",
       "    </tr>\n",
       "  </thead>\n",
       "  <tbody>\n",
       "    <tr>\n",
       "      <th>Wo-LSTM</th>\n",
       "      <td>scriptsize{60.32 +/- 4.55}</td>\n",
       "      <td>scriptsize{69.44 +/- 2.13}</td>\n",
       "      <td>scriptsize{67.75 +/- 4.05}</td>\n",
       "      <td>scriptsize{55.18 +/- 1.77}</td>\n",
       "      <td>scriptsize{58.0 +/- 3.98}</td>\n",
       "      <td>scriptsize{57.88 +/- 2.48}</td>\n",
       "      <td>scriptsize{41.77 +/- 6.04}</td>\n",
       "      <td>scriptsize{68.38 +/- 3.61}</td>\n",
       "      <td>scriptsize{63.69 +/- 2.15}</td>\n",
       "      <td>scriptsize{65.82 +/- 2.33}</td>\n",
       "      <td>scriptsize{61.59 +/- 2.43}</td>\n",
       "    </tr>\n",
       "    <tr>\n",
       "      <th>WoCh-LSTM</th>\n",
       "      <td>scriptsize{58.96 +/- 2.42}</td>\n",
       "      <td>scriptsize{68.47 +/- 1.73}</td>\n",
       "      <td>scriptsize{66.71 +/- 4.88}</td>\n",
       "      <td>scriptsize{60.01 +/- 1.18}</td>\n",
       "      <td>scriptsize{61.64 +/- 1.92}</td>\n",
       "      <td>scriptsize{58.77 +/- 3.86}</td>\n",
       "      <td>scriptsize{48.5 +/- 8.45}</td>\n",
       "      <td>scriptsize{70.09 +/- 0.61}</td>\n",
       "      <td>scriptsize{64.39 +/- 2.07}</td>\n",
       "      <td>scriptsize{65.59 +/- 1.7}</td>\n",
       "      <td>scriptsize{64.1 +/- 2.67}</td>\n",
       "    </tr>\n",
       "    <tr>\n",
       "      <th>Wo-LSTM-CRF</th>\n",
       "      <td>scriptsize{74.66 +/- 1.49}</td>\n",
       "      <td>scriptsize{77.39 +/- 0.63}</td>\n",
       "      <td>scriptsize{77.95 +/- 1.79}</td>\n",
       "      <td>scriptsize{65.15 +/- 0.73}</td>\n",
       "      <td>scriptsize{73.26 +/- 2.07}</td>\n",
       "      <td>scriptsize{69.19 +/- 2.5}</td>\n",
       "      <td>scriptsize{58.48 +/- 1.18}</td>\n",
       "      <td>scriptsize{77.72 +/- 1.42}</td>\n",
       "      <td>scriptsize{76.94 +/- 0.96}</td>\n",
       "      <td>scriptsize{74.51 +/- 1.98}</td>\n",
       "      <td>scriptsize{72.88 +/- 1.12}</td>\n",
       "    </tr>\n",
       "    <tr>\n",
       "      <th>WoCh-LSTM-CRF</th>\n",
       "      <td>scriptsize{75.93 +/- 0.81}</td>\n",
       "      <td>scriptsize{78.36 +/- 1.17}</td>\n",
       "      <td>scriptsize{77.53 +/- 0.93}</td>\n",
       "      <td>scriptsize{70.04 +/- 1.3}</td>\n",
       "      <td>scriptsize{72.97 +/- 1.55}</td>\n",
       "      <td>scriptsize{74.15 +/- 0.39}</td>\n",
       "      <td>scriptsize{65.12 +/- 2.48}</td>\n",
       "      <td>scriptsize{77.66 +/- 0.46}</td>\n",
       "      <td>scriptsize{75.0 +/- 0.99}</td>\n",
       "      <td>scriptsize{75.15 +/- 0.54}</td>\n",
       "      <td>scriptsize{75.44 +/- 1.57}</td>\n",
       "    </tr>\n",
       "    <tr>\n",
       "      <th>Wo-BiLSTM</th>\n",
       "      <td>scriptsize{63.54 +/- 4.15}</td>\n",
       "      <td>scriptsize{74.78 +/- 1.46}</td>\n",
       "      <td>scriptsize{73.32 +/- 1.32}</td>\n",
       "      <td>scriptsize{61.22 +/- 1.14}</td>\n",
       "      <td>scriptsize{65.94 +/- 3.21}</td>\n",
       "      <td>scriptsize{59.02 +/- 7.19}</td>\n",
       "      <td>scriptsize{53.71 +/- 1.18}</td>\n",
       "      <td>scriptsize{74.25 +/- 0.87}</td>\n",
       "      <td>scriptsize{69.71 +/- 2.83}</td>\n",
       "      <td>scriptsize{72.2 +/- 1.39}</td>\n",
       "      <td>scriptsize{67.96 +/- 2.15}</td>\n",
       "    </tr>\n",
       "    <tr>\n",
       "      <th>WoCh-BiLSTM</th>\n",
       "      <td>scriptsize{63.66 +/- 4.49}</td>\n",
       "      <td>scriptsize{74.11 +/- 1.19}</td>\n",
       "      <td>scriptsize{73.44 +/- 2.77}</td>\n",
       "      <td>scriptsize{66.06 +/- 1.11}</td>\n",
       "      <td>scriptsize{68.26 +/- 0.89}</td>\n",
       "      <td>scriptsize{66.69 +/- 2.07}</td>\n",
       "      <td>scriptsize{60.19 +/- 4.27}</td>\n",
       "      <td>scriptsize{73.38 +/- 2.46}</td>\n",
       "      <td>scriptsize{68.98 +/- 2.34}</td>\n",
       "      <td>scriptsize{71.32 +/- 0.82}</td>\n",
       "      <td>scriptsize{69.77 +/- 2.84}</td>\n",
       "    </tr>\n",
       "    <tr>\n",
       "      <th>Wo-BiLSTM-CRF</th>\n",
       "      <td>scriptsize{77.05 +/- 2.18}</td>\n",
       "      <td>scriptsize{81.08 +/- 0.69}</td>\n",
       "      <td>scriptsize{79.34 +/- 1.23}</td>\n",
       "      <td>scriptsize{64.89 +/- 0.75}</td>\n",
       "      <td>scriptsize{76.44 +/- 3.29}</td>\n",
       "      <td>scriptsize{73.03 +/- 1.02}</td>\n",
       "      <td>scriptsize{64.39 +/- 3.51}</td>\n",
       "      <td>scriptsize{79.99 +/- 0.72}</td>\n",
       "      <td>scriptsize{78.22 +/- 1.67}</td>\n",
       "      <td>scriptsize{77.28 +/- 0.87}</td>\n",
       "      <td>scriptsize{74.93 +/- 1.0}</td>\n",
       "    </tr>\n",
       "    <tr>\n",
       "      <th>WoCh-BiLSTM-CRF</th>\n",
       "      <td>scriptsize{77.04 +/- 2.45}</td>\n",
       "      <td>scriptsize{79.21 +/- 0.46}</td>\n",
       "      <td>scriptsize{79.73 +/- 1.36}</td>\n",
       "      <td>scriptsize{69.65 +/- 0.97}</td>\n",
       "      <td>scriptsize{75.88 +/- 2.22}</td>\n",
       "      <td>scriptsize{75.09 +/- 1.75}</td>\n",
       "      <td>scriptsize{72.05 +/- 1.39}</td>\n",
       "      <td>scriptsize{80.13 +/- 0.34}</td>\n",
       "      <td>scriptsize{77.77 +/- 1.47}</td>\n",
       "      <td>scriptsize{77.4 +/- 0.24}</td>\n",
       "      <td>scriptsize{76.38 +/- 1.37}</td>\n",
       "    </tr>\n",
       "  </tbody>\n",
       "</table>\n",
       "</div>"
      ],
      "text/plain": [
       "                               fastText-wiki                    Glove.42B  \\\n",
       "Wo-LSTM           scriptsize{60.32 +/- 4.55}   scriptsize{69.44 +/- 2.13}   \n",
       "WoCh-LSTM         scriptsize{58.96 +/- 2.42}   scriptsize{68.47 +/- 1.73}   \n",
       "Wo-LSTM-CRF       scriptsize{74.66 +/- 1.49}   scriptsize{77.39 +/- 0.63}   \n",
       "WoCh-LSTM-CRF     scriptsize{75.93 +/- 0.81}   scriptsize{78.36 +/- 1.17}   \n",
       "Wo-BiLSTM         scriptsize{63.54 +/- 4.15}   scriptsize{74.78 +/- 1.46}   \n",
       "WoCh-BiLSTM       scriptsize{63.66 +/- 4.49}   scriptsize{74.11 +/- 1.19}   \n",
       "Wo-BiLSTM-CRF     scriptsize{77.05 +/- 2.18}   scriptsize{81.08 +/- 0.69}   \n",
       "WoCh-BiLSTM-CRF   scriptsize{77.04 +/- 2.45}   scriptsize{79.21 +/- 0.46}   \n",
       "\n",
       "                              fastText-crawl               Amazon Reviews  \\\n",
       "Wo-LSTM           scriptsize{67.75 +/- 4.05}   scriptsize{55.18 +/- 1.77}   \n",
       "WoCh-LSTM         scriptsize{66.71 +/- 4.88}   scriptsize{60.01 +/- 1.18}   \n",
       "Wo-LSTM-CRF       scriptsize{77.95 +/- 1.79}   scriptsize{65.15 +/- 0.73}   \n",
       "WoCh-LSTM-CRF     scriptsize{77.53 +/- 0.93}    scriptsize{70.04 +/- 1.3}   \n",
       "Wo-BiLSTM         scriptsize{73.32 +/- 1.32}   scriptsize{61.22 +/- 1.14}   \n",
       "WoCh-BiLSTM       scriptsize{73.44 +/- 2.77}   scriptsize{66.06 +/- 1.11}   \n",
       "Wo-BiLSTM-CRF     scriptsize{79.34 +/- 1.23}   scriptsize{64.89 +/- 0.75}   \n",
       "WoCh-BiLSTM-CRF   scriptsize{79.73 +/- 1.36}   scriptsize{69.65 +/- 0.97}   \n",
       "\n",
       "                                Glove.6B.100                  numberbatch  \\\n",
       "Wo-LSTM            scriptsize{58.0 +/- 3.98}   scriptsize{57.88 +/- 2.48}   \n",
       "WoCh-LSTM         scriptsize{61.64 +/- 1.92}   scriptsize{58.77 +/- 3.86}   \n",
       "Wo-LSTM-CRF       scriptsize{73.26 +/- 2.07}    scriptsize{69.19 +/- 2.5}   \n",
       "WoCh-LSTM-CRF     scriptsize{72.97 +/- 1.55}   scriptsize{74.15 +/- 0.39}   \n",
       "Wo-BiLSTM         scriptsize{65.94 +/- 3.21}   scriptsize{59.02 +/- 7.19}   \n",
       "WoCh-BiLSTM       scriptsize{68.26 +/- 0.89}   scriptsize{66.69 +/- 2.07}   \n",
       "Wo-BiLSTM-CRF     scriptsize{76.44 +/- 3.29}   scriptsize{73.03 +/- 1.02}   \n",
       "WoCh-BiLSTM-CRF   scriptsize{75.88 +/- 2.22}   scriptsize{75.09 +/- 1.75}   \n",
       "\n",
       "                                 Glove.6B.50                   Glove.840B  \\\n",
       "Wo-LSTM           scriptsize{41.77 +/- 6.04}   scriptsize{68.38 +/- 3.61}   \n",
       "WoCh-LSTM          scriptsize{48.5 +/- 8.45}   scriptsize{70.09 +/- 0.61}   \n",
       "Wo-LSTM-CRF       scriptsize{58.48 +/- 1.18}   scriptsize{77.72 +/- 1.42}   \n",
       "WoCh-LSTM-CRF     scriptsize{65.12 +/- 2.48}   scriptsize{77.66 +/- 0.46}   \n",
       "Wo-BiLSTM         scriptsize{53.71 +/- 1.18}   scriptsize{74.25 +/- 0.87}   \n",
       "WoCh-BiLSTM       scriptsize{60.19 +/- 4.27}   scriptsize{73.38 +/- 2.46}   \n",
       "Wo-BiLSTM-CRF     scriptsize{64.39 +/- 3.51}   scriptsize{79.99 +/- 0.72}   \n",
       "WoCh-BiLSTM-CRF   scriptsize{72.05 +/- 1.39}   scriptsize{80.13 +/- 0.34}   \n",
       "\n",
       "                                Glove.6B.200                 Glove.6B.300  \\\n",
       "Wo-LSTM           scriptsize{63.69 +/- 2.15}   scriptsize{65.82 +/- 2.33}   \n",
       "WoCh-LSTM         scriptsize{64.39 +/- 2.07}    scriptsize{65.59 +/- 1.7}   \n",
       "Wo-LSTM-CRF       scriptsize{76.94 +/- 0.96}   scriptsize{74.51 +/- 1.98}   \n",
       "WoCh-LSTM-CRF      scriptsize{75.0 +/- 0.99}   scriptsize{75.15 +/- 0.54}   \n",
       "Wo-BiLSTM         scriptsize{69.71 +/- 2.83}    scriptsize{72.2 +/- 1.39}   \n",
       "WoCh-BiLSTM       scriptsize{68.98 +/- 2.34}   scriptsize{71.32 +/- 0.82}   \n",
       "Wo-BiLSTM-CRF     scriptsize{78.22 +/- 1.67}   scriptsize{77.28 +/- 0.87}   \n",
       "WoCh-BiLSTM-CRF   scriptsize{77.77 +/- 1.47}    scriptsize{77.4 +/- 0.24}   \n",
       "\n",
       "                                    word2vec  \n",
       "Wo-LSTM           scriptsize{61.59 +/- 2.43}  \n",
       "WoCh-LSTM          scriptsize{64.1 +/- 2.67}  \n",
       "Wo-LSTM-CRF       scriptsize{72.88 +/- 1.12}  \n",
       "WoCh-LSTM-CRF     scriptsize{75.44 +/- 1.57}  \n",
       "Wo-BiLSTM         scriptsize{67.96 +/- 2.15}  \n",
       "WoCh-BiLSTM       scriptsize{69.77 +/- 2.84}  \n",
       "Wo-BiLSTM-CRF      scriptsize{74.93 +/- 1.0}  \n",
       "WoCh-BiLSTM-CRF   scriptsize{76.38 +/- 1.37}  "
      ]
     },
     "execution_count": 41,
     "metadata": {},
     "output_type": "execute_result"
    }
   ],
   "source": [
    "df_results_with_std = count_mean_and_std_dev_for_each_cell_tex_ready(results_df).reindex(nlp_architect.REINDEX_RESULTS_ORDER)\n",
    "df_results_with_std.to_excel((results_path / f'{dataset_sub_name}-aspects-with-std.xlsx').as_posix())\n",
    "df_results_with_std"
   ]
  },
  {
   "cell_type": "code",
   "execution_count": 42,
   "metadata": {
    "ExecuteTime": {
     "end_time": "2019-01-14T06:45:19.455125Z",
     "start_time": "2019-01-14T06:45:19.419471Z"
    }
   },
   "outputs": [
    {
     "name": "stdout",
     "output_type": "stream",
     "text": [
      "\\begin{tabular}{llllllllllll}\n",
      "\\toprule\n",
      "{} &                fastText-wiki &                    Glove.42B &               fastText-crawl &               Amazon Reviews &                 Glove.6B.100 &                  numberbatch &                  Glove.6B.50 &                   Glove.840B &                 Glove.6B.200 &                 Glove.6B.300 &                     word2vec \\\\\n",
      "\\midrule\n",
      "Wo-LSTM         &   scriptsize\\{60.32 +/- 4.55\\} &   scriptsize\\{69.44 +/- 2.13\\} &   scriptsize\\{67.75 +/- 4.05\\} &   scriptsize\\{55.18 +/- 1.77\\} &    scriptsize\\{58.0 +/- 3.98\\} &   scriptsize\\{57.88 +/- 2.48\\} &   scriptsize\\{41.77 +/- 6.04\\} &   scriptsize\\{68.38 +/- 3.61\\} &   scriptsize\\{63.69 +/- 2.15\\} &   scriptsize\\{65.82 +/- 2.33\\} &   scriptsize\\{61.59 +/- 2.43\\} \\\\\n",
      "WoCh-LSTM       &   scriptsize\\{58.96 +/- 2.42\\} &   scriptsize\\{68.47 +/- 1.73\\} &   scriptsize\\{66.71 +/- 4.88\\} &   scriptsize\\{60.01 +/- 1.18\\} &   scriptsize\\{61.64 +/- 1.92\\} &   scriptsize\\{58.77 +/- 3.86\\} &    scriptsize\\{48.5 +/- 8.45\\} &   scriptsize\\{70.09 +/- 0.61\\} &   scriptsize\\{64.39 +/- 2.07\\} &    scriptsize\\{65.59 +/- 1.7\\} &    scriptsize\\{64.1 +/- 2.67\\} \\\\\n",
      "Wo-LSTM-CRF     &   scriptsize\\{74.66 +/- 1.49\\} &   scriptsize\\{77.39 +/- 0.63\\} &   scriptsize\\{77.95 +/- 1.79\\} &   scriptsize\\{65.15 +/- 0.73\\} &   scriptsize\\{73.26 +/- 2.07\\} &    scriptsize\\{69.19 +/- 2.5\\} &   scriptsize\\{58.48 +/- 1.18\\} &   scriptsize\\{77.72 +/- 1.42\\} &   scriptsize\\{76.94 +/- 0.96\\} &   scriptsize\\{74.51 +/- 1.98\\} &   scriptsize\\{72.88 +/- 1.12\\} \\\\\n",
      "WoCh-LSTM-CRF   &   scriptsize\\{75.93 +/- 0.81\\} &   scriptsize\\{78.36 +/- 1.17\\} &   scriptsize\\{77.53 +/- 0.93\\} &    scriptsize\\{70.04 +/- 1.3\\} &   scriptsize\\{72.97 +/- 1.55\\} &   scriptsize\\{74.15 +/- 0.39\\} &   scriptsize\\{65.12 +/- 2.48\\} &   scriptsize\\{77.66 +/- 0.46\\} &    scriptsize\\{75.0 +/- 0.99\\} &   scriptsize\\{75.15 +/- 0.54\\} &   scriptsize\\{75.44 +/- 1.57\\} \\\\\n",
      "Wo-BiLSTM       &   scriptsize\\{63.54 +/- 4.15\\} &   scriptsize\\{74.78 +/- 1.46\\} &   scriptsize\\{73.32 +/- 1.32\\} &   scriptsize\\{61.22 +/- 1.14\\} &   scriptsize\\{65.94 +/- 3.21\\} &   scriptsize\\{59.02 +/- 7.19\\} &   scriptsize\\{53.71 +/- 1.18\\} &   scriptsize\\{74.25 +/- 0.87\\} &   scriptsize\\{69.71 +/- 2.83\\} &    scriptsize\\{72.2 +/- 1.39\\} &   scriptsize\\{67.96 +/- 2.15\\} \\\\\n",
      "WoCh-BiLSTM     &   scriptsize\\{63.66 +/- 4.49\\} &   scriptsize\\{74.11 +/- 1.19\\} &   scriptsize\\{73.44 +/- 2.77\\} &   scriptsize\\{66.06 +/- 1.11\\} &   scriptsize\\{68.26 +/- 0.89\\} &   scriptsize\\{66.69 +/- 2.07\\} &   scriptsize\\{60.19 +/- 4.27\\} &   scriptsize\\{73.38 +/- 2.46\\} &   scriptsize\\{68.98 +/- 2.34\\} &   scriptsize\\{71.32 +/- 0.82\\} &   scriptsize\\{69.77 +/- 2.84\\} \\\\\n",
      "Wo-BiLSTM-CRF   &   scriptsize\\{77.05 +/- 2.18\\} &   scriptsize\\{81.08 +/- 0.69\\} &   scriptsize\\{79.34 +/- 1.23\\} &   scriptsize\\{64.89 +/- 0.75\\} &   scriptsize\\{76.44 +/- 3.29\\} &   scriptsize\\{73.03 +/- 1.02\\} &   scriptsize\\{64.39 +/- 3.51\\} &   scriptsize\\{79.99 +/- 0.72\\} &   scriptsize\\{78.22 +/- 1.67\\} &   scriptsize\\{77.28 +/- 0.87\\} &    scriptsize\\{74.93 +/- 1.0\\} \\\\\n",
      "WoCh-BiLSTM-CRF &   scriptsize\\{77.04 +/- 2.45\\} &   scriptsize\\{79.21 +/- 0.46\\} &   scriptsize\\{79.73 +/- 1.36\\} &   scriptsize\\{69.65 +/- 0.97\\} &   scriptsize\\{75.88 +/- 2.22\\} &   scriptsize\\{75.09 +/- 1.75\\} &   scriptsize\\{72.05 +/- 1.39\\} &   scriptsize\\{80.13 +/- 0.34\\} &   scriptsize\\{77.77 +/- 1.47\\} &    scriptsize\\{77.4 +/- 0.24\\} &   scriptsize\\{76.38 +/- 1.37\\} \\\\\n",
      "\\bottomrule\n",
      "\\end{tabular}\n",
      "\n"
     ]
    }
   ],
   "source": [
    "# print(df_results_with_std[EMBEDDINGS_SUBSET].to_latex())\n",
    "print(df_results_with_std.to_latex())"
   ]
  },
  {
   "cell_type": "markdown",
   "metadata": {},
   "source": [
    "#  Plot graphs with error bars"
   ]
  },
  {
   "cell_type": "code",
   "execution_count": 43,
   "metadata": {
    "ExecuteTime": {
     "end_time": "2019-01-14T06:45:19.929189Z",
     "start_time": "2019-01-14T06:45:19.901110Z"
    }
   },
   "outputs": [
    {
     "data": {
      "text/html": [
       "<div>\n",
       "<style scoped>\n",
       "    .dataframe tbody tr th:only-of-type {\n",
       "        vertical-align: middle;\n",
       "    }\n",
       "\n",
       "    .dataframe tbody tr th {\n",
       "        vertical-align: top;\n",
       "    }\n",
       "\n",
       "    .dataframe thead th {\n",
       "        text-align: right;\n",
       "    }\n",
       "</style>\n",
       "<table border=\"1\" class=\"dataframe\">\n",
       "  <thead>\n",
       "    <tr style=\"text-align: right;\">\n",
       "      <th></th>\n",
       "      <th>Glove.840B</th>\n",
       "      <th>Glove.42B</th>\n",
       "      <th>fastText-wiki</th>\n",
       "      <th>fastText-crawl</th>\n",
       "      <th>word2vec</th>\n",
       "      <th>Amazon Reviews</th>\n",
       "      <th>numberbatch</th>\n",
       "      <th>Glove.6B.50</th>\n",
       "      <th>Glove.6B.100</th>\n",
       "      <th>Glove.6B.200</th>\n",
       "      <th>Glove.6B.300</th>\n",
       "    </tr>\n",
       "  </thead>\n",
       "  <tbody>\n",
       "    <tr>\n",
       "      <th>Wo-LSTM</th>\n",
       "      <td>68.38</td>\n",
       "      <td>69.44</td>\n",
       "      <td>60.32</td>\n",
       "      <td>67.75</td>\n",
       "      <td>61.59</td>\n",
       "      <td>55.18</td>\n",
       "      <td>57.88</td>\n",
       "      <td>41.77</td>\n",
       "      <td>58.00</td>\n",
       "      <td>63.69</td>\n",
       "      <td>65.82</td>\n",
       "    </tr>\n",
       "    <tr>\n",
       "      <th>WoCh-LSTM</th>\n",
       "      <td>70.09</td>\n",
       "      <td>68.47</td>\n",
       "      <td>58.96</td>\n",
       "      <td>66.71</td>\n",
       "      <td>64.10</td>\n",
       "      <td>60.01</td>\n",
       "      <td>58.77</td>\n",
       "      <td>48.50</td>\n",
       "      <td>61.64</td>\n",
       "      <td>64.39</td>\n",
       "      <td>65.59</td>\n",
       "    </tr>\n",
       "    <tr>\n",
       "      <th>Wo-LSTM-CRF</th>\n",
       "      <td>77.72</td>\n",
       "      <td>77.39</td>\n",
       "      <td>74.66</td>\n",
       "      <td>77.95</td>\n",
       "      <td>72.88</td>\n",
       "      <td>65.15</td>\n",
       "      <td>69.19</td>\n",
       "      <td>58.48</td>\n",
       "      <td>73.26</td>\n",
       "      <td>76.94</td>\n",
       "      <td>74.51</td>\n",
       "    </tr>\n",
       "    <tr>\n",
       "      <th>WoCh-LSTM-CRF</th>\n",
       "      <td>77.66</td>\n",
       "      <td>78.36</td>\n",
       "      <td>75.93</td>\n",
       "      <td>77.53</td>\n",
       "      <td>75.44</td>\n",
       "      <td>70.04</td>\n",
       "      <td>74.15</td>\n",
       "      <td>65.12</td>\n",
       "      <td>72.97</td>\n",
       "      <td>75.00</td>\n",
       "      <td>75.15</td>\n",
       "    </tr>\n",
       "    <tr>\n",
       "      <th>Wo-BiLSTM</th>\n",
       "      <td>74.25</td>\n",
       "      <td>74.78</td>\n",
       "      <td>63.54</td>\n",
       "      <td>73.32</td>\n",
       "      <td>67.96</td>\n",
       "      <td>61.22</td>\n",
       "      <td>59.02</td>\n",
       "      <td>53.71</td>\n",
       "      <td>65.94</td>\n",
       "      <td>69.71</td>\n",
       "      <td>72.20</td>\n",
       "    </tr>\n",
       "    <tr>\n",
       "      <th>WoCh-BiLSTM</th>\n",
       "      <td>73.38</td>\n",
       "      <td>74.11</td>\n",
       "      <td>63.66</td>\n",
       "      <td>73.44</td>\n",
       "      <td>69.77</td>\n",
       "      <td>66.06</td>\n",
       "      <td>66.69</td>\n",
       "      <td>60.19</td>\n",
       "      <td>68.26</td>\n",
       "      <td>68.98</td>\n",
       "      <td>71.32</td>\n",
       "    </tr>\n",
       "    <tr>\n",
       "      <th>Wo-BiLSTM-CRF</th>\n",
       "      <td>79.99</td>\n",
       "      <td>81.08</td>\n",
       "      <td>77.05</td>\n",
       "      <td>79.34</td>\n",
       "      <td>74.93</td>\n",
       "      <td>64.89</td>\n",
       "      <td>73.03</td>\n",
       "      <td>64.39</td>\n",
       "      <td>76.44</td>\n",
       "      <td>78.22</td>\n",
       "      <td>77.28</td>\n",
       "    </tr>\n",
       "    <tr>\n",
       "      <th>WoCh-BiLSTM-CRF</th>\n",
       "      <td>80.13</td>\n",
       "      <td>79.21</td>\n",
       "      <td>77.04</td>\n",
       "      <td>79.73</td>\n",
       "      <td>76.38</td>\n",
       "      <td>69.65</td>\n",
       "      <td>75.09</td>\n",
       "      <td>72.05</td>\n",
       "      <td>75.88</td>\n",
       "      <td>77.77</td>\n",
       "      <td>77.40</td>\n",
       "    </tr>\n",
       "  </tbody>\n",
       "</table>\n",
       "</div>"
      ],
      "text/plain": [
       "                 Glove.840B  Glove.42B  fastText-wiki  fastText-crawl  \\\n",
       "Wo-LSTM               68.38      69.44          60.32           67.75   \n",
       "WoCh-LSTM             70.09      68.47          58.96           66.71   \n",
       "Wo-LSTM-CRF           77.72      77.39          74.66           77.95   \n",
       "WoCh-LSTM-CRF         77.66      78.36          75.93           77.53   \n",
       "Wo-BiLSTM             74.25      74.78          63.54           73.32   \n",
       "WoCh-BiLSTM           73.38      74.11          63.66           73.44   \n",
       "Wo-BiLSTM-CRF         79.99      81.08          77.05           79.34   \n",
       "WoCh-BiLSTM-CRF       80.13      79.21          77.04           79.73   \n",
       "\n",
       "                 word2vec  Amazon Reviews  numberbatch  Glove.6B.50  \\\n",
       "Wo-LSTM             61.59           55.18        57.88        41.77   \n",
       "WoCh-LSTM           64.10           60.01        58.77        48.50   \n",
       "Wo-LSTM-CRF         72.88           65.15        69.19        58.48   \n",
       "WoCh-LSTM-CRF       75.44           70.04        74.15        65.12   \n",
       "Wo-BiLSTM           67.96           61.22        59.02        53.71   \n",
       "WoCh-BiLSTM         69.77           66.06        66.69        60.19   \n",
       "Wo-BiLSTM-CRF       74.93           64.89        73.03        64.39   \n",
       "WoCh-BiLSTM-CRF     76.38           69.65        75.09        72.05   \n",
       "\n",
       "                 Glove.6B.100  Glove.6B.200  Glove.6B.300  \n",
       "Wo-LSTM                 58.00         63.69         65.82  \n",
       "WoCh-LSTM               61.64         64.39         65.59  \n",
       "Wo-LSTM-CRF             73.26         76.94         74.51  \n",
       "WoCh-LSTM-CRF           72.97         75.00         75.15  \n",
       "Wo-BiLSTM               65.94         69.71         72.20  \n",
       "WoCh-BiLSTM             68.26         68.98         71.32  \n",
       "Wo-BiLSTM-CRF           76.44         78.22         77.28  \n",
       "WoCh-BiLSTM-CRF         75.88         77.77         77.40  "
      ]
     },
     "execution_count": 43,
     "metadata": {},
     "output_type": "execute_result"
    }
   ],
   "source": [
    "results_df_avg"
   ]
  },
  {
   "cell_type": "code",
   "execution_count": 44,
   "metadata": {
    "ExecuteTime": {
     "end_time": "2019-01-14T06:45:22.006022Z",
     "start_time": "2019-01-14T06:45:21.987362Z"
    }
   },
   "outputs": [],
   "source": [
    "def draw_bar_graph_count_mean_and_std_dev(results_df: pd.DataFrame):\n",
    "    traces = []\n",
    "\n",
    "    for embedding, architecture_metric in results_df.to_dict().items():\n",
    "        ys = []\n",
    "        xs = []\n",
    "        error_y = []\n",
    "\n",
    "        for architecture, metrics in architecture_metric.items():\n",
    "            ys.append(round(np.mean(metrics), 2) + 1)\n",
    "            xs.append(architecture)\n",
    "            error_y.append(round(np.std(metrics), 2))\n",
    "\n",
    "        traces.append(\n",
    "            Bar(x=xs,\n",
    "                y=ys,\n",
    "                name=embedding,\n",
    "                error_y=dict(type='data', array=error_y, visible=True)))\n",
    "\n",
    "    layout = Layout(barmode='group')\n",
    "\n",
    "    fig = Figure(data=traces, layout=layout)\n",
    "    iplot(fig)"
   ]
  },
  {
   "cell_type": "code",
   "execution_count": 45,
   "metadata": {
    "ExecuteTime": {
     "end_time": "2019-01-14T06:45:23.005065Z",
     "start_time": "2019-01-14T06:45:22.870034Z"
    }
   },
   "outputs": [
    {
     "data": {
      "text/html": [
       "<div id=\"cec68ccc-8e63-4a2b-9387-c21bebdfc7dc\" style=\"height: 525px; width: 100%;\" class=\"plotly-graph-div\"></div><script type=\"text/javascript\">require([\"plotly\"], function(Plotly) { window.PLOTLYENV=window.PLOTLYENV || {};window.PLOTLYENV.BASE_URL=\"https://plot.ly\";Plotly.newPlot(\"cec68ccc-8e63-4a2b-9387-c21bebdfc7dc\", [{\"type\": \"bar\", \"x\": [\"fastText-wiki\", \"Glove.42B\", \"fastText-crawl\", \"Amazon Reviews\", \"Glove.6B.100\", \"numberbatch\", \"Glove.6B.50\", \"Glove.840B\", \"Glove.6B.200\", \"Glove.6B.300\", \"word2vec\"], \"y\": [63.54, 74.78, 73.32, 61.22, 65.94, 59.02, 53.71, 74.25, 69.71, 72.2, 67.96], \"name\": \"Wo-BiLSTM\", \"error_y\": {\"type\": \"data\", \"array\": [4.15, 1.46, 1.32, 1.14, 3.21, 7.19, 1.18, 0.87, 2.83, 1.39, 2.15], \"visible\": true}}, {\"type\": \"bar\", \"x\": [\"fastText-wiki\", \"Glove.42B\", \"fastText-crawl\", \"Amazon Reviews\", \"Glove.6B.100\", \"numberbatch\", \"Glove.6B.50\", \"Glove.840B\", \"Glove.6B.200\", \"Glove.6B.300\", \"word2vec\"], \"y\": [77.05, 81.08, 79.34, 64.89, 76.44, 73.03, 64.39, 79.99, 78.22, 77.28, 74.93], \"name\": \"Wo-BiLSTM-CRF\", \"error_y\": {\"type\": \"data\", \"array\": [2.18, 0.69, 1.23, 0.75, 3.29, 1.02, 3.51, 0.72, 1.67, 0.87, 1.0], \"visible\": true}}, {\"type\": \"bar\", \"x\": [\"fastText-wiki\", \"Glove.42B\", \"fastText-crawl\", \"Amazon Reviews\", \"Glove.6B.100\", \"numberbatch\", \"Glove.6B.50\", \"Glove.840B\", \"Glove.6B.200\", \"Glove.6B.300\", \"word2vec\"], \"y\": [60.32, 69.44, 67.75, 55.18, 58.0, 57.88, 41.77, 68.38, 63.69, 65.82, 61.59], \"name\": \"Wo-LSTM\", \"error_y\": {\"type\": \"data\", \"array\": [4.55, 2.13, 4.05, 1.77, 3.98, 2.48, 6.04, 3.61, 2.15, 2.33, 2.43], \"visible\": true}}, {\"type\": \"bar\", \"x\": [\"fastText-wiki\", \"Glove.42B\", \"fastText-crawl\", \"Amazon Reviews\", \"Glove.6B.100\", \"numberbatch\", \"Glove.6B.50\", \"Glove.840B\", \"Glove.6B.200\", \"Glove.6B.300\", \"word2vec\"], \"y\": [74.66, 77.39, 77.95, 65.15, 73.26, 69.19, 58.48, 77.72, 76.94, 74.51, 72.88], \"name\": \"Wo-LSTM-CRF\", \"error_y\": {\"type\": \"data\", \"array\": [1.49, 0.63, 1.79, 0.73, 2.07, 2.5, 1.18, 1.42, 0.96, 1.98, 1.12], \"visible\": true}}, {\"type\": \"bar\", \"x\": [\"fastText-wiki\", \"Glove.42B\", \"fastText-crawl\", \"Amazon Reviews\", \"Glove.6B.100\", \"numberbatch\", \"Glove.6B.50\", \"Glove.840B\", \"Glove.6B.200\", \"Glove.6B.300\", \"word2vec\"], \"y\": [63.66, 74.11, 73.44, 66.06, 68.26, 66.69, 60.19, 73.38, 68.98, 71.32, 69.77], \"name\": \"WoCh-BiLSTM\", \"error_y\": {\"type\": \"data\", \"array\": [4.49, 1.19, 2.77, 1.11, 0.89, 2.07, 4.27, 2.46, 2.34, 0.82, 2.84], \"visible\": true}}, {\"type\": \"bar\", \"x\": [\"fastText-wiki\", \"Glove.42B\", \"fastText-crawl\", \"Amazon Reviews\", \"Glove.6B.100\", \"numberbatch\", \"Glove.6B.50\", \"Glove.840B\", \"Glove.6B.200\", \"Glove.6B.300\", \"word2vec\"], \"y\": [77.04, 79.21, 79.73, 69.65, 75.88, 75.09, 72.05, 80.13, 77.77, 77.4, 76.38], \"name\": \"WoCh-BiLSTM-CRF\", \"error_y\": {\"type\": \"data\", \"array\": [2.45, 0.46, 1.36, 0.97, 2.22, 1.75, 1.39, 0.34, 1.47, 0.24, 1.37], \"visible\": true}}, {\"type\": \"bar\", \"x\": [\"fastText-wiki\", \"Glove.42B\", \"fastText-crawl\", \"Amazon Reviews\", \"Glove.6B.100\", \"numberbatch\", \"Glove.6B.50\", \"Glove.840B\", \"Glove.6B.200\", \"Glove.6B.300\", \"word2vec\"], \"y\": [58.96, 68.47, 66.71, 60.01, 61.64, 58.77, 48.5, 70.09, 64.39, 65.59, 64.1], \"name\": \"WoCh-LSTM\", \"error_y\": {\"type\": \"data\", \"array\": [2.42, 1.73, 4.88, 1.18, 1.92, 3.86, 8.45, 0.61, 2.07, 1.7, 2.67], \"visible\": true}}, {\"type\": \"bar\", \"x\": [\"fastText-wiki\", \"Glove.42B\", \"fastText-crawl\", \"Amazon Reviews\", \"Glove.6B.100\", \"numberbatch\", \"Glove.6B.50\", \"Glove.840B\", \"Glove.6B.200\", \"Glove.6B.300\", \"word2vec\"], \"y\": [75.93, 78.36, 77.53, 70.04, 72.97, 74.15, 65.12, 77.66, 75.0, 75.15, 75.44], \"name\": \"WoCh-LSTM-CRF\", \"error_y\": {\"type\": \"data\", \"array\": [0.81, 1.17, 0.93, 1.3, 1.55, 0.39, 2.48, 0.46, 0.99, 0.54, 1.57], \"visible\": true}}], {\"barmode\": \"group\"}, {\"showLink\": true, \"linkText\": \"Export to plot.ly\"})});</script>"
      ],
      "text/plain": [
       "<IPython.core.display.HTML object>"
      ]
     },
     "metadata": {},
     "output_type": "display_data"
    }
   ],
   "source": [
    "draw_bar_graph_count_mean_and_std_dev(results_df.transpose())"
   ]
  },
  {
   "cell_type": "code",
   "execution_count": 85,
   "metadata": {
    "ExecuteTime": {
     "end_time": "2019-01-11T07:29:37.461029Z",
     "start_time": "2019-01-11T07:29:37.326786Z"
    }
   },
   "outputs": [
    {
     "data": {
      "text/html": [
       "<div id=\"2aae14c2-1a28-4c45-9c33-4e997e75c935\" style=\"height: 525px; width: 100%;\" class=\"plotly-graph-div\"></div><script type=\"text/javascript\">require([\"plotly\"], function(Plotly) { window.PLOTLYENV=window.PLOTLYENV || {};window.PLOTLYENV.BASE_URL=\"https://plot.ly\";Plotly.newPlot(\"2aae14c2-1a28-4c45-9c33-4e997e75c935\", [{\"type\": \"bar\", \"x\": [\"Wo-BiLSTM\", \"Wo-BiLSTM-CRF\", \"Wo-LSTM\", \"Wo-LSTM-CRF\", \"WoCh-BiLSTM\", \"WoCh-BiLSTM-CRF\", \"WoCh-LSTM\", \"WoCh-LSTM-CRF\"], \"y\": [63.54, 77.05, 60.32, 74.66, 63.66, 77.04, 58.96, 75.93], \"name\": \"fastText-wiki\", \"error_y\": {\"type\": \"data\", \"array\": [4.15, 2.18, 4.55, 1.49, 4.49, 2.45, 2.42, 0.81], \"visible\": true}}, {\"type\": \"bar\", \"x\": [\"Wo-BiLSTM\", \"Wo-BiLSTM-CRF\", \"Wo-LSTM\", \"Wo-LSTM-CRF\", \"WoCh-BiLSTM\", \"WoCh-BiLSTM-CRF\", \"WoCh-LSTM\", \"WoCh-LSTM-CRF\"], \"y\": [74.78, 81.08, 69.44, 77.39, 74.11, 79.21, 68.47, 78.36], \"name\": \"Glove 42B\", \"error_y\": {\"type\": \"data\", \"array\": [1.46, 0.69, 2.13, 0.63, 1.19, 0.46, 1.73, 1.17], \"visible\": true}}, {\"type\": \"bar\", \"x\": [\"Wo-BiLSTM\", \"Wo-BiLSTM-CRF\", \"Wo-LSTM\", \"Wo-LSTM-CRF\", \"WoCh-BiLSTM\", \"WoCh-BiLSTM-CRF\", \"WoCh-LSTM\", \"WoCh-LSTM-CRF\"], \"y\": [73.32, 79.34, 67.75, 77.95, 73.44, 79.73, 66.71, 77.53], \"name\": \"fastText-crawl\", \"error_y\": {\"type\": \"data\", \"array\": [1.32, 1.23, 4.05, 1.79, 2.77, 1.36, 4.88, 0.93], \"visible\": true}}, {\"type\": \"bar\", \"x\": [\"Wo-BiLSTM\", \"Wo-BiLSTM-CRF\", \"Wo-LSTM\", \"Wo-LSTM-CRF\", \"WoCh-BiLSTM\", \"WoCh-BiLSTM-CRF\", \"WoCh-LSTM\", \"WoCh-LSTM-CRF\"], \"y\": [61.22, 64.89, 55.18, 65.15, 66.06, 69.65, 60.01, 70.04], \"name\": \"Amazon Reviews\", \"error_y\": {\"type\": \"data\", \"array\": [1.14, 0.75, 1.77, 0.73, 1.11, 0.97, 1.18, 1.3], \"visible\": true}}, {\"type\": \"bar\", \"x\": [\"Wo-BiLSTM\", \"Wo-BiLSTM-CRF\", \"Wo-LSTM\", \"Wo-LSTM-CRF\", \"WoCh-BiLSTM\", \"WoCh-BiLSTM-CRF\", \"WoCh-LSTM\", \"WoCh-LSTM-CRF\"], \"y\": [65.94, 76.44, 58.0, 73.26, 68.26, 75.88, 61.64, 72.97], \"name\": \"Glove 6B 100\", \"error_y\": {\"type\": \"data\", \"array\": [3.21, 3.29, 3.98, 2.07, 0.89, 2.22, 1.92, 1.55], \"visible\": true}}, {\"type\": \"bar\", \"x\": [\"Wo-BiLSTM\", \"Wo-BiLSTM-CRF\", \"Wo-LSTM\", \"Wo-LSTM-CRF\", \"WoCh-BiLSTM\", \"WoCh-BiLSTM-CRF\", \"WoCh-LSTM\", \"WoCh-LSTM-CRF\"], \"y\": [59.02, 73.03, 57.88, 69.19, 66.69, 75.09, 58.77, 74.15], \"name\": \"numberbatch\", \"error_y\": {\"type\": \"data\", \"array\": [7.19, 1.02, 2.48, 2.5, 2.07, 1.75, 3.86, 0.39], \"visible\": true}}, {\"type\": \"bar\", \"x\": [\"Wo-BiLSTM\", \"Wo-BiLSTM-CRF\", \"Wo-LSTM\", \"Wo-LSTM-CRF\", \"WoCh-BiLSTM\", \"WoCh-BiLSTM-CRF\", \"WoCh-LSTM\", \"WoCh-LSTM-CRF\"], \"y\": [53.71, 64.39, 41.77, 58.48, 60.19, 72.05, 48.5, 65.12], \"name\": \"Glove 6B 50\", \"error_y\": {\"type\": \"data\", \"array\": [1.18, 3.51, 6.04, 1.18, 4.27, 1.39, 8.45, 2.48], \"visible\": true}}, {\"type\": \"bar\", \"x\": [\"Wo-BiLSTM\", \"Wo-BiLSTM-CRF\", \"Wo-LSTM\", \"Wo-LSTM-CRF\", \"WoCh-BiLSTM\", \"WoCh-BiLSTM-CRF\", \"WoCh-LSTM\", \"WoCh-LSTM-CRF\"], \"y\": [74.25, 79.99, 68.38, 77.72, 73.38, 80.13, 70.09, 77.66], \"name\": \"Glove 840B\", \"error_y\": {\"type\": \"data\", \"array\": [0.87, 0.72, 3.61, 1.42, 2.46, 0.34, 0.61, 0.46], \"visible\": true}}, {\"type\": \"bar\", \"x\": [\"Wo-BiLSTM\", \"Wo-BiLSTM-CRF\", \"Wo-LSTM\", \"Wo-LSTM-CRF\", \"WoCh-BiLSTM\", \"WoCh-BiLSTM-CRF\", \"WoCh-LSTM\", \"WoCh-LSTM-CRF\"], \"y\": [69.71, 78.22, 63.69, 76.94, 68.98, 77.77, 64.39, 75.0], \"name\": \"Glove 6B 200\", \"error_y\": {\"type\": \"data\", \"array\": [2.83, 1.67, 2.15, 0.96, 2.34, 1.47, 2.07, 0.99], \"visible\": true}}, {\"type\": \"bar\", \"x\": [\"Wo-BiLSTM\", \"Wo-BiLSTM-CRF\", \"Wo-LSTM\", \"Wo-LSTM-CRF\", \"WoCh-BiLSTM\", \"WoCh-BiLSTM-CRF\", \"WoCh-LSTM\", \"WoCh-LSTM-CRF\"], \"y\": [72.2, 77.28, 65.82, 74.51, 71.32, 77.4, 65.59, 75.15], \"name\": \"Glove 6B 300\", \"error_y\": {\"type\": \"data\", \"array\": [1.39, 0.87, 2.33, 1.98, 0.82, 0.24, 1.7, 0.54], \"visible\": true}}, {\"type\": \"bar\", \"x\": [\"Wo-BiLSTM\", \"Wo-BiLSTM-CRF\", \"Wo-LSTM\", \"Wo-LSTM-CRF\", \"WoCh-BiLSTM\", \"WoCh-BiLSTM-CRF\", \"WoCh-LSTM\", \"WoCh-LSTM-CRF\"], \"y\": [67.96, 74.93, 61.59, 72.88, 69.77, 76.38, 64.1, 75.44], \"name\": \"word2vec\", \"error_y\": {\"type\": \"data\", \"array\": [2.15, 1.0, 2.43, 1.12, 2.84, 1.37, 2.67, 1.57], \"visible\": true}}], {\"barmode\": \"group\"}, {\"showLink\": true, \"linkText\": \"Export to plot.ly\"})});</script>"
      ],
      "text/plain": [
       "<IPython.core.display.HTML object>"
      ]
     },
     "metadata": {},
     "output_type": "display_data"
    }
   ],
   "source": [
    "draw_bar_graph_count_mean_and_std_dev(results_df)"
   ]
  },
  {
   "cell_type": "code",
   "execution_count": 86,
   "metadata": {
    "ExecuteTime": {
     "end_time": "2019-01-11T07:29:37.598377Z",
     "start_time": "2019-01-11T07:29:37.581655Z"
    }
   },
   "outputs": [],
   "source": [
    "# lstms_pairs = [\n",
    "#     ('')\n",
    "# ]"
   ]
  },
  {
   "cell_type": "code",
   "execution_count": 87,
   "metadata": {
    "ExecuteTime": {
     "end_time": "2019-01-11T07:29:37.710438Z",
     "start_time": "2019-01-11T07:29:37.684459Z"
    }
   },
   "outputs": [
    {
     "data": {
      "text/html": [
       "<div>\n",
       "<style scoped>\n",
       "    .dataframe tbody tr th:only-of-type {\n",
       "        vertical-align: middle;\n",
       "    }\n",
       "\n",
       "    .dataframe tbody tr th {\n",
       "        vertical-align: top;\n",
       "    }\n",
       "\n",
       "    .dataframe thead th {\n",
       "        text-align: right;\n",
       "    }\n",
       "</style>\n",
       "<table border=\"1\" class=\"dataframe\">\n",
       "  <thead>\n",
       "    <tr style=\"text-align: right;\">\n",
       "      <th></th>\n",
       "      <th>Wo-LSTM</th>\n",
       "      <th>WoCh-LSTM</th>\n",
       "      <th>Wo-LSTM-CRF</th>\n",
       "      <th>WoCh-LSTM-CRF</th>\n",
       "      <th>Wo-BiLSTM</th>\n",
       "      <th>WoCh-BiLSTM</th>\n",
       "      <th>Wo-BiLSTM-CRF</th>\n",
       "      <th>WoCh-BiLSTM-CRF</th>\n",
       "    </tr>\n",
       "  </thead>\n",
       "  <tbody>\n",
       "    <tr>\n",
       "      <th>fastText-wiki</th>\n",
       "      <td>60.32</td>\n",
       "      <td>58.96</td>\n",
       "      <td>74.66</td>\n",
       "      <td>75.93</td>\n",
       "      <td>63.54</td>\n",
       "      <td>63.66</td>\n",
       "      <td>77.05</td>\n",
       "      <td>77.04</td>\n",
       "    </tr>\n",
       "    <tr>\n",
       "      <th>Glove 42B</th>\n",
       "      <td>69.44</td>\n",
       "      <td>68.47</td>\n",
       "      <td>77.39</td>\n",
       "      <td>78.36</td>\n",
       "      <td>74.78</td>\n",
       "      <td>74.11</td>\n",
       "      <td>81.08</td>\n",
       "      <td>79.21</td>\n",
       "    </tr>\n",
       "    <tr>\n",
       "      <th>fastText-crawl</th>\n",
       "      <td>67.75</td>\n",
       "      <td>66.71</td>\n",
       "      <td>77.95</td>\n",
       "      <td>77.53</td>\n",
       "      <td>73.32</td>\n",
       "      <td>73.44</td>\n",
       "      <td>79.34</td>\n",
       "      <td>79.73</td>\n",
       "    </tr>\n",
       "    <tr>\n",
       "      <th>Amazon Reviews</th>\n",
       "      <td>55.18</td>\n",
       "      <td>60.01</td>\n",
       "      <td>65.15</td>\n",
       "      <td>70.04</td>\n",
       "      <td>61.22</td>\n",
       "      <td>66.06</td>\n",
       "      <td>64.89</td>\n",
       "      <td>69.65</td>\n",
       "    </tr>\n",
       "    <tr>\n",
       "      <th>Glove 6B 100</th>\n",
       "      <td>58.00</td>\n",
       "      <td>61.64</td>\n",
       "      <td>73.26</td>\n",
       "      <td>72.97</td>\n",
       "      <td>65.94</td>\n",
       "      <td>68.26</td>\n",
       "      <td>76.44</td>\n",
       "      <td>75.88</td>\n",
       "    </tr>\n",
       "    <tr>\n",
       "      <th>numberbatch</th>\n",
       "      <td>57.88</td>\n",
       "      <td>58.77</td>\n",
       "      <td>69.19</td>\n",
       "      <td>74.15</td>\n",
       "      <td>59.02</td>\n",
       "      <td>66.69</td>\n",
       "      <td>73.03</td>\n",
       "      <td>75.09</td>\n",
       "    </tr>\n",
       "    <tr>\n",
       "      <th>Glove 6B 50</th>\n",
       "      <td>41.77</td>\n",
       "      <td>48.50</td>\n",
       "      <td>58.48</td>\n",
       "      <td>65.12</td>\n",
       "      <td>53.71</td>\n",
       "      <td>60.19</td>\n",
       "      <td>64.39</td>\n",
       "      <td>72.05</td>\n",
       "    </tr>\n",
       "    <tr>\n",
       "      <th>Glove 840B</th>\n",
       "      <td>68.38</td>\n",
       "      <td>70.09</td>\n",
       "      <td>77.72</td>\n",
       "      <td>77.66</td>\n",
       "      <td>74.25</td>\n",
       "      <td>73.38</td>\n",
       "      <td>79.99</td>\n",
       "      <td>80.13</td>\n",
       "    </tr>\n",
       "    <tr>\n",
       "      <th>Glove 6B 200</th>\n",
       "      <td>63.69</td>\n",
       "      <td>64.39</td>\n",
       "      <td>76.94</td>\n",
       "      <td>75.00</td>\n",
       "      <td>69.71</td>\n",
       "      <td>68.98</td>\n",
       "      <td>78.22</td>\n",
       "      <td>77.77</td>\n",
       "    </tr>\n",
       "    <tr>\n",
       "      <th>Glove 6B 300</th>\n",
       "      <td>65.82</td>\n",
       "      <td>65.59</td>\n",
       "      <td>74.51</td>\n",
       "      <td>75.15</td>\n",
       "      <td>72.20</td>\n",
       "      <td>71.32</td>\n",
       "      <td>77.28</td>\n",
       "      <td>77.40</td>\n",
       "    </tr>\n",
       "    <tr>\n",
       "      <th>word2vec</th>\n",
       "      <td>61.59</td>\n",
       "      <td>64.10</td>\n",
       "      <td>72.88</td>\n",
       "      <td>75.44</td>\n",
       "      <td>67.96</td>\n",
       "      <td>69.77</td>\n",
       "      <td>74.93</td>\n",
       "      <td>76.38</td>\n",
       "    </tr>\n",
       "  </tbody>\n",
       "</table>\n",
       "</div>"
      ],
      "text/plain": [
       "                Wo-LSTM  WoCh-LSTM  Wo-LSTM-CRF  WoCh-LSTM-CRF  Wo-BiLSTM  \\\n",
       "fastText-wiki     60.32      58.96        74.66          75.93      63.54   \n",
       "Glove 42B         69.44      68.47        77.39          78.36      74.78   \n",
       "fastText-crawl    67.75      66.71        77.95          77.53      73.32   \n",
       "Amazon Reviews    55.18      60.01        65.15          70.04      61.22   \n",
       "Glove 6B 100      58.00      61.64        73.26          72.97      65.94   \n",
       "numberbatch       57.88      58.77        69.19          74.15      59.02   \n",
       "Glove 6B 50       41.77      48.50        58.48          65.12      53.71   \n",
       "Glove 840B        68.38      70.09        77.72          77.66      74.25   \n",
       "Glove 6B 200      63.69      64.39        76.94          75.00      69.71   \n",
       "Glove 6B 300      65.82      65.59        74.51          75.15      72.20   \n",
       "word2vec          61.59      64.10        72.88          75.44      67.96   \n",
       "\n",
       "                WoCh-BiLSTM  Wo-BiLSTM-CRF  WoCh-BiLSTM-CRF  \n",
       "fastText-wiki         63.66          77.05            77.04  \n",
       "Glove 42B             74.11          81.08            79.21  \n",
       "fastText-crawl        73.44          79.34            79.73  \n",
       "Amazon Reviews        66.06          64.89            69.65  \n",
       "Glove 6B 100          68.26          76.44            75.88  \n",
       "numberbatch           66.69          73.03            75.09  \n",
       "Glove 6B 50           60.19          64.39            72.05  \n",
       "Glove 840B            73.38          79.99            80.13  \n",
       "Glove 6B 200          68.98          78.22            77.77  \n",
       "Glove 6B 300          71.32          77.28            77.40  \n",
       "word2vec              69.77          74.93            76.38  "
      ]
     },
     "execution_count": 87,
     "metadata": {},
     "output_type": "execute_result"
    }
   ],
   "source": [
    "results_df_avg.transpose()"
   ]
  },
  {
   "cell_type": "code",
   "execution_count": 88,
   "metadata": {
    "ExecuteTime": {
     "end_time": "2019-01-11T07:29:38.415717Z",
     "start_time": "2019-01-11T07:29:38.398503Z"
    }
   },
   "outputs": [],
   "source": [
    "import seaborn as sns; sns.set(color_codes=True)"
   ]
  },
  {
   "cell_type": "code",
   "execution_count": 89,
   "metadata": {
    "ExecuteTime": {
     "end_time": "2019-01-11T07:29:39.196413Z",
     "start_time": "2019-01-11T07:29:38.891515Z"
    },
    "scrolled": true
   },
   "outputs": [
    {
     "data": {
      "image/png": "[encoded data removed]",
      "text/plain": [
       "<Figure size 576x396 with 1 Axes>"
      ]
     },
     "metadata": {},
     "output_type": "display_data"
    }
   ],
   "source": [
    "for nn in results_df_avg.index:\n",
    "    sns.kdeplot(results_df_avg.transpose()[nn], shade=True)"
   ]
  },
  {
   "cell_type": "markdown",
   "metadata": {},
   "source": [
    "# Statistical tests"
   ]
  },
  {
   "cell_type": "markdown",
   "metadata": {},
   "source": [
    "## Nemeneyi "
   ]
  },
  {
   "cell_type": "code",
   "execution_count": 90,
   "metadata": {
    "ExecuteTime": {
     "end_time": "2019-01-11T07:29:41.045745Z",
     "start_time": "2019-01-11T07:29:41.017167Z"
    }
   },
   "outputs": [
    {
     "data": {
      "text/html": [
       "<div>\n",
       "<style scoped>\n",
       "    .dataframe tbody tr th:only-of-type {\n",
       "        vertical-align: middle;\n",
       "    }\n",
       "\n",
       "    .dataframe tbody tr th {\n",
       "        vertical-align: top;\n",
       "    }\n",
       "\n",
       "    .dataframe thead th {\n",
       "        text-align: right;\n",
       "    }\n",
       "</style>\n",
       "<table border=\"1\" class=\"dataframe\">\n",
       "  <thead>\n",
       "    <tr style=\"text-align: right;\">\n",
       "      <th></th>\n",
       "      <th>fastText-wiki</th>\n",
       "      <th>Glove 42B</th>\n",
       "      <th>fastText-crawl</th>\n",
       "      <th>Amazon Reviews</th>\n",
       "      <th>Glove 6B 100</th>\n",
       "      <th>numberbatch</th>\n",
       "      <th>Glove 6B 50</th>\n",
       "      <th>Glove 840B</th>\n",
       "      <th>Glove 6B 200</th>\n",
       "      <th>Glove 6B 300</th>\n",
       "      <th>word2vec</th>\n",
       "    </tr>\n",
       "  </thead>\n",
       "  <tbody>\n",
       "    <tr>\n",
       "      <th>Wo-LSTM</th>\n",
       "      <td>60.32</td>\n",
       "      <td>69.44</td>\n",
       "      <td>67.75</td>\n",
       "      <td>55.18</td>\n",
       "      <td>58.00</td>\n",
       "      <td>57.88</td>\n",
       "      <td>41.77</td>\n",
       "      <td>68.38</td>\n",
       "      <td>63.69</td>\n",
       "      <td>65.82</td>\n",
       "      <td>61.59</td>\n",
       "    </tr>\n",
       "    <tr>\n",
       "      <th>WoCh-LSTM</th>\n",
       "      <td>58.96</td>\n",
       "      <td>68.47</td>\n",
       "      <td>66.71</td>\n",
       "      <td>60.01</td>\n",
       "      <td>61.64</td>\n",
       "      <td>58.77</td>\n",
       "      <td>48.50</td>\n",
       "      <td>70.09</td>\n",
       "      <td>64.39</td>\n",
       "      <td>65.59</td>\n",
       "      <td>64.10</td>\n",
       "    </tr>\n",
       "    <tr>\n",
       "      <th>Wo-LSTM-CRF</th>\n",
       "      <td>74.66</td>\n",
       "      <td>77.39</td>\n",
       "      <td>77.95</td>\n",
       "      <td>65.15</td>\n",
       "      <td>73.26</td>\n",
       "      <td>69.19</td>\n",
       "      <td>58.48</td>\n",
       "      <td>77.72</td>\n",
       "      <td>76.94</td>\n",
       "      <td>74.51</td>\n",
       "      <td>72.88</td>\n",
       "    </tr>\n",
       "    <tr>\n",
       "      <th>WoCh-LSTM-CRF</th>\n",
       "      <td>75.93</td>\n",
       "      <td>78.36</td>\n",
       "      <td>77.53</td>\n",
       "      <td>70.04</td>\n",
       "      <td>72.97</td>\n",
       "      <td>74.15</td>\n",
       "      <td>65.12</td>\n",
       "      <td>77.66</td>\n",
       "      <td>75.00</td>\n",
       "      <td>75.15</td>\n",
       "      <td>75.44</td>\n",
       "    </tr>\n",
       "    <tr>\n",
       "      <th>Wo-BiLSTM</th>\n",
       "      <td>63.54</td>\n",
       "      <td>74.78</td>\n",
       "      <td>73.32</td>\n",
       "      <td>61.22</td>\n",
       "      <td>65.94</td>\n",
       "      <td>59.02</td>\n",
       "      <td>53.71</td>\n",
       "      <td>74.25</td>\n",
       "      <td>69.71</td>\n",
       "      <td>72.20</td>\n",
       "      <td>67.96</td>\n",
       "    </tr>\n",
       "    <tr>\n",
       "      <th>WoCh-BiLSTM</th>\n",
       "      <td>63.66</td>\n",
       "      <td>74.11</td>\n",
       "      <td>73.44</td>\n",
       "      <td>66.06</td>\n",
       "      <td>68.26</td>\n",
       "      <td>66.69</td>\n",
       "      <td>60.19</td>\n",
       "      <td>73.38</td>\n",
       "      <td>68.98</td>\n",
       "      <td>71.32</td>\n",
       "      <td>69.77</td>\n",
       "    </tr>\n",
       "    <tr>\n",
       "      <th>Wo-BiLSTM-CRF</th>\n",
       "      <td>77.05</td>\n",
       "      <td>81.08</td>\n",
       "      <td>79.34</td>\n",
       "      <td>64.89</td>\n",
       "      <td>76.44</td>\n",
       "      <td>73.03</td>\n",
       "      <td>64.39</td>\n",
       "      <td>79.99</td>\n",
       "      <td>78.22</td>\n",
       "      <td>77.28</td>\n",
       "      <td>74.93</td>\n",
       "    </tr>\n",
       "    <tr>\n",
       "      <th>WoCh-BiLSTM-CRF</th>\n",
       "      <td>77.04</td>\n",
       "      <td>79.21</td>\n",
       "      <td>79.73</td>\n",
       "      <td>69.65</td>\n",
       "      <td>75.88</td>\n",
       "      <td>75.09</td>\n",
       "      <td>72.05</td>\n",
       "      <td>80.13</td>\n",
       "      <td>77.77</td>\n",
       "      <td>77.40</td>\n",
       "      <td>76.38</td>\n",
       "    </tr>\n",
       "  </tbody>\n",
       "</table>\n",
       "</div>"
      ],
      "text/plain": [
       "                 fastText-wiki  Glove 42B  fastText-crawl  Amazon Reviews  \\\n",
       "Wo-LSTM                  60.32      69.44           67.75           55.18   \n",
       "WoCh-LSTM                58.96      68.47           66.71           60.01   \n",
       "Wo-LSTM-CRF              74.66      77.39           77.95           65.15   \n",
       "WoCh-LSTM-CRF            75.93      78.36           77.53           70.04   \n",
       "Wo-BiLSTM                63.54      74.78           73.32           61.22   \n",
       "WoCh-BiLSTM              63.66      74.11           73.44           66.06   \n",
       "Wo-BiLSTM-CRF            77.05      81.08           79.34           64.89   \n",
       "WoCh-BiLSTM-CRF          77.04      79.21           79.73           69.65   \n",
       "\n",
       "                 Glove 6B 100  numberbatch  Glove 6B 50  Glove 840B  \\\n",
       "Wo-LSTM                 58.00        57.88        41.77       68.38   \n",
       "WoCh-LSTM               61.64        58.77        48.50       70.09   \n",
       "Wo-LSTM-CRF             73.26        69.19        58.48       77.72   \n",
       "WoCh-LSTM-CRF           72.97        74.15        65.12       77.66   \n",
       "Wo-BiLSTM               65.94        59.02        53.71       74.25   \n",
       "WoCh-BiLSTM             68.26        66.69        60.19       73.38   \n",
       "Wo-BiLSTM-CRF           76.44        73.03        64.39       79.99   \n",
       "WoCh-BiLSTM-CRF         75.88        75.09        72.05       80.13   \n",
       "\n",
       "                 Glove 6B 200  Glove 6B 300  word2vec  \n",
       "Wo-LSTM                 63.69         65.82     61.59  \n",
       "WoCh-LSTM               64.39         65.59     64.10  \n",
       "Wo-LSTM-CRF             76.94         74.51     72.88  \n",
       "WoCh-LSTM-CRF           75.00         75.15     75.44  \n",
       "Wo-BiLSTM               69.71         72.20     67.96  \n",
       "WoCh-BiLSTM             68.98         71.32     69.77  \n",
       "Wo-BiLSTM-CRF           78.22         77.28     74.93  \n",
       "WoCh-BiLSTM-CRF         77.77         77.40     76.38  "
      ]
     },
     "execution_count": 90,
     "metadata": {},
     "output_type": "execute_result"
    }
   ],
   "source": [
    "results_df_avg"
   ]
  },
  {
   "cell_type": "markdown",
   "metadata": {},
   "source": [
    "### Models"
   ]
  },
  {
   "cell_type": "code",
   "execution_count": 91,
   "metadata": {
    "ExecuteTime": {
     "end_time": "2019-01-11T07:29:45.786169Z",
     "start_time": "2019-01-11T07:29:45.610205Z"
    }
   },
   "outputs": [
    {
     "ename": "TypeError",
     "evalue": "'rpy2.rinterface.RNULLType' object is not iterable",
     "output_type": "error",
     "traceback": [
      "\u001b[0;31m---------------------------------------------------------------------------\u001b[0m",
      "\u001b[0;31mTypeError\u001b[0m                                 Traceback (most recent call last)",
      "\u001b[0;32m~/anaconda3/envs/python36/lib/python3.6/site-packages/IPython/core/formatters.py\u001b[0m in \u001b[0;36m__call__\u001b[0;34m(self, obj)\u001b[0m\n\u001b[1;32m    343\u001b[0m             \u001b[0mmethod\u001b[0m \u001b[0;34m=\u001b[0m \u001b[0mget_real_method\u001b[0m\u001b[0;34m(\u001b[0m\u001b[0mobj\u001b[0m\u001b[0;34m,\u001b[0m \u001b[0mself\u001b[0m\u001b[0;34m.\u001b[0m\u001b[0mprint_method\u001b[0m\u001b[0;34m)\u001b[0m\u001b[0;34m\u001b[0m\u001b[0m\n\u001b[1;32m    344\u001b[0m             \u001b[0;32mif\u001b[0m \u001b[0mmethod\u001b[0m \u001b[0;32mis\u001b[0m \u001b[0;32mnot\u001b[0m \u001b[0;32mNone\u001b[0m\u001b[0;34m:\u001b[0m\u001b[0;34m\u001b[0m\u001b[0m\n\u001b[0;32m--> 345\u001b[0;31m                 \u001b[0;32mreturn\u001b[0m \u001b[0mmethod\u001b[0m\u001b[0;34m(\u001b[0m\u001b[0;34m)\u001b[0m\u001b[0;34m\u001b[0m\u001b[0m\n\u001b[0m\u001b[1;32m    346\u001b[0m             \u001b[0;32mreturn\u001b[0m \u001b[0;32mNone\u001b[0m\u001b[0;34m\u001b[0m\u001b[0m\n\u001b[1;32m    347\u001b[0m         \u001b[0;32melse\u001b[0m\u001b[0;34m:\u001b[0m\u001b[0;34m\u001b[0m\u001b[0m\n",
      "\u001b[0;32m~/anaconda3/envs/python36/lib/python3.6/site-packages/rpy2/robjects/vectors.py\u001b[0m in \u001b[0;36m_repr_html_\u001b[0;34m(self, max_items)\u001b[0m\n\u001b[1;32m    688\u001b[0m         \u001b[0mnames\u001b[0m \u001b[0;34m=\u001b[0m \u001b[0mlist\u001b[0m\u001b[0;34m(\u001b[0m\u001b[0;34m)\u001b[0m\u001b[0;34m\u001b[0m\u001b[0m\n\u001b[1;32m    689\u001b[0m         \u001b[0;32mif\u001b[0m \u001b[0mlen\u001b[0m\u001b[0;34m(\u001b[0m\u001b[0mself\u001b[0m\u001b[0;34m)\u001b[0m \u001b[0;34m<=\u001b[0m \u001b[0mmax_items\u001b[0m\u001b[0;34m:\u001b[0m\u001b[0;34m\u001b[0m\u001b[0m\n\u001b[0;32m--> 690\u001b[0;31m             \u001b[0mnames\u001b[0m\u001b[0;34m.\u001b[0m\u001b[0mextend\u001b[0m\u001b[0;34m(\u001b[0m\u001b[0mself\u001b[0m\u001b[0;34m.\u001b[0m\u001b[0mnames\u001b[0m\u001b[0;34m)\u001b[0m\u001b[0;34m\u001b[0m\u001b[0m\n\u001b[0m\u001b[1;32m    691\u001b[0m         \u001b[0;32melse\u001b[0m\u001b[0;34m:\u001b[0m\u001b[0;34m\u001b[0m\u001b[0m\n\u001b[1;32m    692\u001b[0m             \u001b[0mhalf_items\u001b[0m \u001b[0;34m=\u001b[0m \u001b[0mmax_items\u001b[0m \u001b[0;34m//\u001b[0m \u001b[0;36m2\u001b[0m\u001b[0;34m\u001b[0m\u001b[0m\n",
      "\u001b[0;31mTypeError\u001b[0m: 'rpy2.rinterface.RNULLType' object is not iterable"
     ]
    },
    {
     "data": {
      "text/plain": [
       "R object with classes: ('list',) mapped to:\n",
       "<ListVector - Python:0x7fbcf5673508 / R:0x5574b10e4348>\n",
       "[RNULLType, RNULLType, RNULLType, RNULLType]\n",
       "  <no name>: <class 'rpy2.rinterface.RNULLType'>\n",
       "  rpy2.rinterface.NULL\n",
       "  <no name>: <class 'rpy2.rinterface.RNULLType'>\n",
       "  rpy2.rinterface.NULL\n",
       "  <no name>: <class 'rpy2.rinterface.RNULLType'>\n",
       "  rpy2.rinterface.NULL\n",
       "  <no name>: <class 'rpy2.rinterface.RNULLType'>\n",
       "  rpy2.rinterface.NULL"
      ]
     },
     "execution_count": 91,
     "metadata": {},
     "output_type": "execute_result"
    }
   ],
   "source": [
    "r_df = pandas2ri.py2ri(results_df_avg.transpose())\n",
    "scmamp.plotCD(r_df, alpha=0.01, cex=0.55)"
   ]
  },
  {
   "cell_type": "markdown",
   "metadata": {},
   "source": [
    "### Embeddings"
   ]
  },
  {
   "cell_type": "code",
   "execution_count": 92,
   "metadata": {
    "ExecuteTime": {
     "end_time": "2019-01-11T07:30:08.125883Z",
     "start_time": "2019-01-11T07:30:07.938418Z"
    }
   },
   "outputs": [
    {
     "ename": "TypeError",
     "evalue": "'rpy2.rinterface.RNULLType' object is not iterable",
     "output_type": "error",
     "traceback": [
      "\u001b[0;31m---------------------------------------------------------------------------\u001b[0m",
      "\u001b[0;31mTypeError\u001b[0m                                 Traceback (most recent call last)",
      "\u001b[0;32m~/anaconda3/envs/python36/lib/python3.6/site-packages/IPython/core/formatters.py\u001b[0m in \u001b[0;36m__call__\u001b[0;34m(self, obj)\u001b[0m\n\u001b[1;32m    343\u001b[0m             \u001b[0mmethod\u001b[0m \u001b[0;34m=\u001b[0m \u001b[0mget_real_method\u001b[0m\u001b[0;34m(\u001b[0m\u001b[0mobj\u001b[0m\u001b[0;34m,\u001b[0m \u001b[0mself\u001b[0m\u001b[0;34m.\u001b[0m\u001b[0mprint_method\u001b[0m\u001b[0;34m)\u001b[0m\u001b[0;34m\u001b[0m\u001b[0m\n\u001b[1;32m    344\u001b[0m             \u001b[0;32mif\u001b[0m \u001b[0mmethod\u001b[0m \u001b[0;32mis\u001b[0m \u001b[0;32mnot\u001b[0m \u001b[0;32mNone\u001b[0m\u001b[0;34m:\u001b[0m\u001b[0;34m\u001b[0m\u001b[0m\n\u001b[0;32m--> 345\u001b[0;31m                 \u001b[0;32mreturn\u001b[0m \u001b[0mmethod\u001b[0m\u001b[0;34m(\u001b[0m\u001b[0;34m)\u001b[0m\u001b[0;34m\u001b[0m\u001b[0m\n\u001b[0m\u001b[1;32m    346\u001b[0m             \u001b[0;32mreturn\u001b[0m \u001b[0;32mNone\u001b[0m\u001b[0;34m\u001b[0m\u001b[0m\n\u001b[1;32m    347\u001b[0m         \u001b[0;32melse\u001b[0m\u001b[0;34m:\u001b[0m\u001b[0;34m\u001b[0m\u001b[0m\n",
      "\u001b[0;32m~/anaconda3/envs/python36/lib/python3.6/site-packages/rpy2/robjects/vectors.py\u001b[0m in \u001b[0;36m_repr_html_\u001b[0;34m(self, max_items)\u001b[0m\n\u001b[1;32m    688\u001b[0m         \u001b[0mnames\u001b[0m \u001b[0;34m=\u001b[0m \u001b[0mlist\u001b[0m\u001b[0;34m(\u001b[0m\u001b[0;34m)\u001b[0m\u001b[0;34m\u001b[0m\u001b[0m\n\u001b[1;32m    689\u001b[0m         \u001b[0;32mif\u001b[0m \u001b[0mlen\u001b[0m\u001b[0;34m(\u001b[0m\u001b[0mself\u001b[0m\u001b[0;34m)\u001b[0m \u001b[0;34m<=\u001b[0m \u001b[0mmax_items\u001b[0m\u001b[0;34m:\u001b[0m\u001b[0;34m\u001b[0m\u001b[0m\n\u001b[0;32m--> 690\u001b[0;31m             \u001b[0mnames\u001b[0m\u001b[0;34m.\u001b[0m\u001b[0mextend\u001b[0m\u001b[0;34m(\u001b[0m\u001b[0mself\u001b[0m\u001b[0;34m.\u001b[0m\u001b[0mnames\u001b[0m\u001b[0;34m)\u001b[0m\u001b[0;34m\u001b[0m\u001b[0m\n\u001b[0m\u001b[1;32m    691\u001b[0m         \u001b[0;32melse\u001b[0m\u001b[0;34m:\u001b[0m\u001b[0;34m\u001b[0m\u001b[0m\n\u001b[1;32m    692\u001b[0m             \u001b[0mhalf_items\u001b[0m \u001b[0;34m=\u001b[0m \u001b[0mmax_items\u001b[0m \u001b[0;34m//\u001b[0m \u001b[0;36m2\u001b[0m\u001b[0;34m\u001b[0m\u001b[0m\n",
      "\u001b[0;31mTypeError\u001b[0m: 'rpy2.rinterface.RNULLType' object is not iterable"
     ]
    },
    {
     "data": {
      "text/plain": [
       "R object with classes: ('list',) mapped to:\n",
       "<ListVector - Python:0x7fbcf5668248 / R:0x5574b236c0c8>\n",
       "[RNULLType, RNULLType]\n",
       "  <no name>: <class 'rpy2.rinterface.RNULLType'>\n",
       "  rpy2.rinterface.NULL\n",
       "  <no name>: <class 'rpy2.rinterface.RNULLType'>\n",
       "  rpy2.rinterface.NULL"
      ]
     },
     "execution_count": 92,
     "metadata": {},
     "output_type": "execute_result"
    }
   ],
   "source": [
    "r_df = pandas2ri.py2ri(results_df_avg)\n",
    "scmamp.plotCD(r_df, alpha=0.01, cex=0.6)"
   ]
  },
  {
   "cell_type": "markdown",
   "metadata": {},
   "source": [
    "## Bergmann"
   ]
  },
  {
   "cell_type": "code",
   "execution_count": 43,
   "metadata": {
    "ExecuteTime": {
     "end_time": "2019-01-10T20:58:39.269416Z",
     "start_time": "2019-01-10T20:58:39.250284Z"
    }
   },
   "outputs": [],
   "source": [
    "p_values = scmamp.friedmanAlignedRanksPost(r_df, use_rank = True)"
   ]
  },
  {
   "cell_type": "code",
   "execution_count": 44,
   "metadata": {
    "ExecuteTime": {
     "end_time": "2019-01-10T20:58:41.726112Z",
     "start_time": "2019-01-10T20:58:39.719910Z"
    }
   },
   "outputs": [],
   "source": [
    "p_values_bergmann_hommel_correction = scmamp.adjustBergmannHommel(p_values)"
   ]
  },
  {
   "cell_type": "code",
   "execution_count": 45,
   "metadata": {
    "ExecuteTime": {
     "end_time": "2019-01-10T20:58:49.396182Z",
     "start_time": "2019-01-10T20:58:49.374746Z"
    }
   },
   "outputs": [
    {
     "data": {
      "text/html": [
       "\n",
       "    <span>Matrix with 64 elements.</span>\n",
       "    <table>\n",
       "      <tbody>\n",
       "      <tr>\n",
       "      \n",
       "      <td>\n",
       "        NA_real_\n",
       "      </td>\n",
       "      \n",
       "      <td>\n",
       "        1.000000\n",
       "      </td>\n",
       "      \n",
       "      <td>\n",
       "        0.005401\n",
       "      </td>\n",
       "      \n",
       "      <td>\n",
       "        0.000015\n",
       "      </td>\n",
       "      \n",
       "      <td>\n",
       "        ...\n",
       "      </td>\n",
       "      \n",
       "      <td>\n",
       "        0.001504\n",
       "      </td>\n",
       "      \n",
       "      <td>\n",
       "        0.043006\n",
       "      </td>\n",
       "      \n",
       "      <td>\n",
       "        0.895395\n",
       "      </td>\n",
       "      \n",
       "      <td>\n",
       "        NA_real_\n",
       "      </td>\n",
       "      \n",
       "      </tr>\n",
       "      </tbody>\n",
       "    </table>\n",
       "    "
      ],
      "text/plain": [
       "R object with classes: ('matrix',) mapped to:\n",
       "<Matrix - Python:0x7fbcc8f46e48 / R:0x5574b13827d0>\n",
       "[NA_real_, 1.000000, 0.005401, 0.000015, ..., 0.001504, 0.043006, 0.895395, NA_real_]"
      ]
     },
     "execution_count": 45,
     "metadata": {},
     "output_type": "execute_result"
    }
   ],
   "source": [
    "p_values_bergmann_hommel_correction"
   ]
  },
  {
   "cell_type": "code",
   "execution_count": 134,
   "metadata": {},
   "outputs": [],
   "source": [
    "from itertools import product"
   ]
  },
  {
   "cell_type": "code",
   "execution_count": 135,
   "metadata": {},
   "outputs": [],
   "source": [
    "nn_architectures = list(results_df_avg.transpose().columns)\n",
    "nn_architectures_product = list(product(nn_architectures, nn_architectures))"
   ]
  },
  {
   "cell_type": "code",
   "execution_count": 136,
   "metadata": {},
   "outputs": [],
   "source": [
    "nn_architectures_p_values = tuple(p_values_bergmann_hommel_correction)"
   ]
  },
  {
   "cell_type": "code",
   "execution_count": 137,
   "metadata": {},
   "outputs": [],
   "source": [
    "p_values_with_architectures = list(zip(nn_architectures_product, nn_architectures_p_values))"
   ]
  },
  {
   "cell_type": "code",
   "execution_count": 138,
   "metadata": {},
   "outputs": [],
   "source": [
    "p_values_df = {name : {} for name in nn_architectures}\n",
    "for nns, pv in p_values_with_architectures:\n",
    "    p_values_df[nns[0]].update({nns[1] : pv})\n"
   ]
  },
  {
   "cell_type": "code",
   "execution_count": 139,
   "metadata": {},
   "outputs": [
    {
     "data": {
      "text/html": [
       "<div>\n",
       "<style scoped>\n",
       "    .dataframe tbody tr th:only-of-type {\n",
       "        vertical-align: middle;\n",
       "    }\n",
       "\n",
       "    .dataframe tbody tr th {\n",
       "        vertical-align: top;\n",
       "    }\n",
       "\n",
       "    .dataframe thead th {\n",
       "        text-align: right;\n",
       "    }\n",
       "</style>\n",
       "<table border=\"1\" class=\"dataframe\">\n",
       "  <thead>\n",
       "    <tr style=\"text-align: right;\">\n",
       "      <th></th>\n",
       "      <th>word lstm</th>\n",
       "      <th>char word lstm</th>\n",
       "      <th>word lstm crf</th>\n",
       "      <th>char word lstm crf</th>\n",
       "      <th>word bilstm</th>\n",
       "      <th>char word bilstm</th>\n",
       "      <th>word bilstm crf</th>\n",
       "      <th>char word bilstm crf</th>\n",
       "    </tr>\n",
       "  </thead>\n",
       "  <tbody>\n",
       "    <tr>\n",
       "      <th>word lstm</th>\n",
       "      <td>NaN</td>\n",
       "      <td>1.000000</td>\n",
       "      <td>0.115203</td>\n",
       "      <td>0.004187</td>\n",
       "      <td>1.000000</td>\n",
       "      <td>0.366436</td>\n",
       "      <td>0.119260</td>\n",
       "      <td>0.000571</td>\n",
       "    </tr>\n",
       "    <tr>\n",
       "      <th>char word lstm</th>\n",
       "      <td>1.000000</td>\n",
       "      <td>NaN</td>\n",
       "      <td>0.467324</td>\n",
       "      <td>0.032723</td>\n",
       "      <td>1.000000</td>\n",
       "      <td>1.000000</td>\n",
       "      <td>0.467324</td>\n",
       "      <td>0.006553</td>\n",
       "    </tr>\n",
       "    <tr>\n",
       "      <th>word lstm crf</th>\n",
       "      <td>0.115203</td>\n",
       "      <td>0.467324</td>\n",
       "      <td>NaN</td>\n",
       "      <td>1.000000</td>\n",
       "      <td>0.571669</td>\n",
       "      <td>1.000000</td>\n",
       "      <td>1.000000</td>\n",
       "      <td>0.881192</td>\n",
       "    </tr>\n",
       "    <tr>\n",
       "      <th>char word lstm crf</th>\n",
       "      <td>0.004187</td>\n",
       "      <td>0.032723</td>\n",
       "      <td>1.000000</td>\n",
       "      <td>NaN</td>\n",
       "      <td>0.050420</td>\n",
       "      <td>1.000000</td>\n",
       "      <td>1.000000</td>\n",
       "      <td>1.000000</td>\n",
       "    </tr>\n",
       "    <tr>\n",
       "      <th>word bilstm</th>\n",
       "      <td>1.000000</td>\n",
       "      <td>1.000000</td>\n",
       "      <td>0.571669</td>\n",
       "      <td>0.050420</td>\n",
       "      <td>NaN</td>\n",
       "      <td>1.000000</td>\n",
       "      <td>0.597241</td>\n",
       "      <td>0.011781</td>\n",
       "    </tr>\n",
       "    <tr>\n",
       "      <th>char word bilstm</th>\n",
       "      <td>0.366436</td>\n",
       "      <td>1.000000</td>\n",
       "      <td>1.000000</td>\n",
       "      <td>1.000000</td>\n",
       "      <td>1.000000</td>\n",
       "      <td>NaN</td>\n",
       "      <td>1.000000</td>\n",
       "      <td>0.467324</td>\n",
       "    </tr>\n",
       "    <tr>\n",
       "      <th>word bilstm crf</th>\n",
       "      <td>0.119260</td>\n",
       "      <td>0.467324</td>\n",
       "      <td>1.000000</td>\n",
       "      <td>1.000000</td>\n",
       "      <td>0.597241</td>\n",
       "      <td>1.000000</td>\n",
       "      <td>NaN</td>\n",
       "      <td>0.881192</td>\n",
       "    </tr>\n",
       "    <tr>\n",
       "      <th>char word bilstm crf</th>\n",
       "      <td>0.000571</td>\n",
       "      <td>0.006553</td>\n",
       "      <td>0.881192</td>\n",
       "      <td>1.000000</td>\n",
       "      <td>0.011781</td>\n",
       "      <td>0.467324</td>\n",
       "      <td>0.881192</td>\n",
       "      <td>NaN</td>\n",
       "    </tr>\n",
       "  </tbody>\n",
       "</table>\n",
       "</div>"
      ],
      "text/plain": [
       "                      word lstm  char word lstm  word lstm crf  \\\n",
       "word lstm                   NaN        1.000000       0.115203   \n",
       "char word lstm         1.000000             NaN       0.467324   \n",
       "word lstm crf          0.115203        0.467324            NaN   \n",
       "char word lstm crf     0.004187        0.032723       1.000000   \n",
       "word bilstm            1.000000        1.000000       0.571669   \n",
       "char word bilstm       0.366436        1.000000       1.000000   \n",
       "word bilstm crf        0.119260        0.467324       1.000000   \n",
       "char word bilstm crf   0.000571        0.006553       0.881192   \n",
       "\n",
       "                      char word lstm crf  word bilstm  char word bilstm  \\\n",
       "word lstm                       0.004187     1.000000          0.366436   \n",
       "char word lstm                  0.032723     1.000000          1.000000   \n",
       "word lstm crf                   1.000000     0.571669          1.000000   \n",
       "char word lstm crf                   NaN     0.050420          1.000000   \n",
       "word bilstm                     0.050420          NaN          1.000000   \n",
       "char word bilstm                1.000000     1.000000               NaN   \n",
       "word bilstm crf                 1.000000     0.597241          1.000000   \n",
       "char word bilstm crf            1.000000     0.011781          0.467324   \n",
       "\n",
       "                      word bilstm crf  char word bilstm crf  \n",
       "word lstm                    0.119260              0.000571  \n",
       "char word lstm               0.467324              0.006553  \n",
       "word lstm crf                1.000000              0.881192  \n",
       "char word lstm crf           1.000000              1.000000  \n",
       "word bilstm                  0.597241              0.011781  \n",
       "char word bilstm             1.000000              0.467324  \n",
       "word bilstm crf                   NaN              0.881192  \n",
       "char word bilstm crf         0.881192                   NaN  "
      ]
     },
     "execution_count": 139,
     "metadata": {},
     "output_type": "execute_result"
    }
   ],
   "source": [
    "pd.DataFrame.from_dict(p_values_df).reindex(reindex_results_order)"
   ]
  },
  {
   "cell_type": "code",
   "execution_count": 30,
   "metadata": {
    "ExecuteTime": {
     "end_time": "2018-12-02T15:26:10.172630Z",
     "start_time": "2018-12-02T15:26:10.115229Z"
    }
   },
   "outputs": [],
   "source": [
    "# pd.DataFrame(p_values_with_architectures)"
   ]
  },
  {
   "cell_type": "code",
   "execution_count": 240,
   "metadata": {
    "ExecuteTime": {
     "end_time": "2018-11-25T12:24:36.868276Z",
     "start_time": "2018-11-25T12:24:36.827469Z"
    },
    "scrolled": true
   },
   "outputs": [],
   "source": [
    "# friedman_test = scmamp.multipleComparisonTest(r_df, control = 'NoEmbedding', test='iman')\n",
    "# friedman_p_value = friedman_test.rx2('p.value')[0]\n",
    "# ranks, _, posthoc_pvals = scmamp.postHocTest(data=r_df, test=\"friedman\", control = 'NoEmbedding', correct=\"holland\", use_rank = True)"
   ]
  },
  {
   "cell_type": "markdown",
   "metadata": {},
   "source": [
    "# Check coverage of words in embeddings for aspect datasets"
   ]
  },
  {
   "cell_type": "markdown",
   "metadata": {},
   "source": [
    "## Create corpus "
   ]
  },
  {
   "cell_type": "code",
   "execution_count": 4,
   "metadata": {
    "ExecuteTime": {
     "end_time": "2019-01-14T12:59:07.238479Z",
     "start_time": "2019-01-14T12:59:06.999726Z"
    }
   },
   "outputs": [
    {
     "name": "stderr",
     "output_type": "stream",
     "text": [
      "Corpus iterator: 49475it [00:00, 652780.95it/s]\n",
      "Corpus iterator: 53781it [00:00, 901801.27it/s]\n",
      "Corpus iterator: 12470it [00:00, 820155.72it/s]\n",
      "Corpus iterator: 13257it [00:00, 538802.59it/s]\n"
     ]
    }
   ],
   "source": [
    "corpus_words = statistics_dataset.get_unique_words_from_corpus()"
   ]
  },
  {
   "cell_type": "code",
   "execution_count": 5,
   "metadata": {
    "ExecuteTime": {
     "end_time": "2019-01-14T12:59:08.904152Z",
     "start_time": "2019-01-14T12:59:08.866964Z"
    }
   },
   "outputs": [],
   "source": [
    "def load_word_embeddings(file_path):\n",
    "    with open(file_path, encoding='utf-8') as fp:\n",
    "        words = []\n",
    "        try:\n",
    "            for line in tqdm_notebook(fp, desc=file_path + ': embedding loading'):\n",
    "                line_fields = line.split()\n",
    "                if len(line_fields) < 5:\n",
    "                    continue\n",
    "                else:\n",
    "                    if line[0] == ' ':\n",
    "                        pass\n",
    "                    else:\n",
    "                        word = line_fields[0]\n",
    "                        try:\n",
    "                            pass\n",
    "                        except:\n",
    "                            continue\n",
    "                        words.append(word)\n",
    "        except UnicodeDecodeError:\n",
    "            pass\n",
    "    return set(words)"
   ]
  },
  {
   "cell_type": "code",
   "execution_count": 6,
   "metadata": {
    "ExecuteTime": {
     "end_time": "2019-01-14T12:59:34.665972Z",
     "start_time": "2019-01-14T12:59:34.594085Z"
    }
   },
   "outputs": [],
   "source": [
    "EMBEDDINGS_PATH = Path('/home/laugustyniak/data/embeddings/')\n",
    "\n",
    "EMBEDDINGS = [\n",
    "    'GoogleNews-vectors-negative300.txt',\n",
    "    'glove.6B.50d.txt',\n",
    "    'glove.6B.100d.txt',\n",
    "    'glove.6B.200d.txt',\n",
    "    'glove.6B.300d.txt',\n",
    "    'glove.twitter.27B.200d.txt',\n",
    "    'glove.42B.300d.txt',\n",
    "    'glove.840B.300d.txt',\n",
    "    'numberbatch-en.txt',\n",
    "    'crawl-300d-2M.vec',\n",
    "#     'wiki-news-300d-1M-subword.vec',\n",
    "    'wiki-news-300d-1M.vec',\n",
    "#     'bow2.words',\n",
    "#     'bow2.contexts',\n",
    "#     'bow5.words',\n",
    "#     'bow5.contexts',\n",
    "#     'deps.words',\n",
    "#     'deps.contexts',\n",
    "#     'sota-google.txt',\n",
    "#     'sota-retrofit-600.txt',\n",
    "#     'sota-sswe-50.txt',\n",
    "#     'sota-wiki-600.txt',\n",
    "    'sentic2vec.txt',\n",
    "#     'lexvec.commoncrawl.ngramsubwords.300d.W.pos.vectors',\n",
    "#     'lexvec.enwiki+newscrawl.300d.W.pos.vectors',    \n",
    "]"
   ]
  },
  {
   "cell_type": "code",
   "execution_count": 7,
   "metadata": {
    "ExecuteTime": {
     "end_time": "2019-01-14T13:04:27.960141Z",
     "start_time": "2019-01-14T13:00:16.781472Z"
    },
    "scrolled": true
   },
   "outputs": [
    {
     "data": {
      "application/vnd.jupyter.widget-view+json": {
       "model_id": "c9767a83ae8940178e0b8105b5037be9",
       "version_major": 2,
       "version_minor": 0
      },
      "text/plain": [
       "HBox(children=(IntProgress(value=0, max=12), HTML(value='')))"
      ]
     },
     "metadata": {},
     "output_type": "display_data"
    },
    {
     "data": {
      "application/vnd.jupyter.widget-view+json": {
       "model_id": "856770ffc6be41cda09e81eb65692d0e",
       "version_major": 2,
       "version_minor": 0
      },
      "text/plain": [
       "HBox(children=(IntProgress(value=1, bar_style='info', description='/home/laugustyniak/data/embeddings/GoogleNe…"
      ]
     },
     "metadata": {},
     "output_type": "display_data"
    },
    {
     "data": {
      "application/vnd.jupyter.widget-view+json": {
       "model_id": "1170d6a10b29403a818351a97156b7a1",
       "version_major": 2,
       "version_minor": 0
      },
      "text/plain": [
       "HBox(children=(IntProgress(value=1, bar_style='info', description='/home/laugustyniak/data/embeddings/glove.6B…"
      ]
     },
     "metadata": {},
     "output_type": "display_data"
    },
    {
     "data": {
      "application/vnd.jupyter.widget-view+json": {
       "model_id": "ad0aa20a634641b4aff8421dc21cae63",
       "version_major": 2,
       "version_minor": 0
      },
      "text/plain": [
       "HBox(children=(IntProgress(value=1, bar_style='info', description='/home/laugustyniak/data/embeddings/glove.6B…"
      ]
     },
     "metadata": {},
     "output_type": "display_data"
    },
    {
     "data": {
      "application/vnd.jupyter.widget-view+json": {
       "model_id": "c3ef74a1896e47f493b6981595e5ad44",
       "version_major": 2,
       "version_minor": 0
      },
      "text/plain": [
       "HBox(children=(IntProgress(value=1, bar_style='info', description='/home/laugustyniak/data/embeddings/glove.6B…"
      ]
     },
     "metadata": {},
     "output_type": "display_data"
    },
    {
     "data": {
      "application/vnd.jupyter.widget-view+json": {
       "model_id": "5356525014784e79830882ccb36244df",
       "version_major": 2,
       "version_minor": 0
      },
      "text/plain": [
       "HBox(children=(IntProgress(value=1, bar_style='info', description='/home/laugustyniak/data/embeddings/glove.6B…"
      ]
     },
     "metadata": {},
     "output_type": "display_data"
    },
    {
     "data": {
      "application/vnd.jupyter.widget-view+json": {
       "model_id": "dc2bdf66bdc44c749d4248f2dc7d282d",
       "version_major": 2,
       "version_minor": 0
      },
      "text/plain": [
       "HBox(children=(IntProgress(value=1, bar_style='info', description='/home/laugustyniak/data/embeddings/glove.tw…"
      ]
     },
     "metadata": {},
     "output_type": "display_data"
    },
    {
     "data": {
      "application/vnd.jupyter.widget-view+json": {
       "model_id": "d02282f79ad142319c018deb2a63be7d",
       "version_major": 2,
       "version_minor": 0
      },
      "text/plain": [
       "HBox(children=(IntProgress(value=1, bar_style='info', description='/home/laugustyniak/data/embeddings/glove.42…"
      ]
     },
     "metadata": {},
     "output_type": "display_data"
    },
    {
     "data": {
      "application/vnd.jupyter.widget-view+json": {
       "model_id": "316552e21cd04b9db1363b483788ba7a",
       "version_major": 2,
       "version_minor": 0
      },
      "text/plain": [
       "HBox(children=(IntProgress(value=1, bar_style='info', description='/home/laugustyniak/data/embeddings/glove.84…"
      ]
     },
     "metadata": {},
     "output_type": "display_data"
    },
    {
     "data": {
      "application/vnd.jupyter.widget-view+json": {
       "model_id": "e7018f45fb424d538e257da2982390dc",
       "version_major": 2,
       "version_minor": 0
      },
      "text/plain": [
       "HBox(children=(IntProgress(value=1, bar_style='info', description='/home/laugustyniak/data/embeddings/numberba…"
      ]
     },
     "metadata": {},
     "output_type": "display_data"
    },
    {
     "data": {
      "application/vnd.jupyter.widget-view+json": {
       "model_id": "aea00e91a73b463aa31abb922d71a93a",
       "version_major": 2,
       "version_minor": 0
      },
      "text/plain": [
       "HBox(children=(IntProgress(value=1, bar_style='info', description='/home/laugustyniak/data/embeddings/crawl-30…"
      ]
     },
     "metadata": {},
     "output_type": "display_data"
    },
    {
     "data": {
      "application/vnd.jupyter.widget-view+json": {
       "model_id": "2e685b2f5aa14239ae53daebf0cf15e4",
       "version_major": 2,
       "version_minor": 0
      },
      "text/plain": [
       "HBox(children=(IntProgress(value=1, bar_style='info', description='/home/laugustyniak/data/embeddings/wiki-new…"
      ]
     },
     "metadata": {},
     "output_type": "display_data"
    },
    {
     "data": {
      "application/vnd.jupyter.widget-view+json": {
       "model_id": "2127298e7473450ba5a8171216c04970",
       "version_major": 2,
       "version_minor": 0
      },
      "text/plain": [
       "HBox(children=(IntProgress(value=1, bar_style='info', description='/home/laugustyniak/data/embeddings/sentic2v…"
      ]
     },
     "metadata": {},
     "output_type": "display_data"
    },
    {
     "name": "stdout",
     "output_type": "stream",
     "text": [
      "\n"
     ]
    }
   ],
   "source": [
    "def get_word_embeddings_vocabularies(word_embedding_names):\n",
    "    return {\n",
    "        word_embedding_name: load_word_embeddings((EMBEDDINGS_PATH / word_embedding_name).as_posix())\n",
    "        for word_embedding_name \n",
    "        in tqdm_notebook(word_embedding_names)\n",
    "    }\n",
    "   \n",
    "word_embedding_vocabulalaries = get_word_embeddings_vocabularies(EMBEDDINGS)"
   ]
  },
  {
   "cell_type": "code",
   "execution_count": 8,
   "metadata": {
    "ExecuteTime": {
     "end_time": "2019-01-14T13:04:27.982307Z",
     "start_time": "2019-01-14T13:04:27.962313Z"
    }
   },
   "outputs": [],
   "source": [
    "def get_datasets_coverage_with_word_embedding(corpus_words, word_embedding_vocabulalaries):\n",
    "    word_embedding_coverage = {}\n",
    "    for word_embedding_name, vocabulary in word_embedding_vocabulalaries.items():\n",
    "        word_embedding_coverage[word_embedding_name] = {\n",
    "            corpus_name: len(words.difference(vocabulary))/len(words)\n",
    "            for corpus_name, words\n",
    "            in corpus_words.items()\n",
    "        }\n",
    "    return word_embedding_coverage"
   ]
  },
  {
   "cell_type": "code",
   "execution_count": 9,
   "metadata": {
    "ExecuteTime": {
     "end_time": "2019-01-14T13:04:28.004096Z",
     "start_time": "2019-01-14T13:04:27.984643Z"
    }
   },
   "outputs": [
    {
     "data": {
      "text/plain": [
       "{'Restaurants_poria-train': 4619,\n",
       " 'Laptops_poria-train': 4238,\n",
       " 'Laptops_poria-test': 1922,\n",
       " 'Restaurants_poria-test': 2270}"
      ]
     },
     "execution_count": 9,
     "metadata": {},
     "output_type": "execute_result"
    }
   ],
   "source": [
    "{k: len(v) for k, v in  corpus_words.items()}"
   ]
  },
  {
   "cell_type": "code",
   "execution_count": 10,
   "metadata": {
    "ExecuteTime": {
     "end_time": "2019-01-14T13:04:28.026190Z",
     "start_time": "2019-01-14T13:04:28.006553Z"
    }
   },
   "outputs": [
    {
     "data": {
      "text/plain": [
       "{'GoogleNews-vectors-negative300.txt': 2999993,\n",
       " 'glove.6B.50d.txt': 400000,\n",
       " 'glove.6B.100d.txt': 400000,\n",
       " 'glove.6B.200d.txt': 400000,\n",
       " 'glove.6B.300d.txt': 400000,\n",
       " 'glove.twitter.27B.200d.txt': 1193515,\n",
       " 'glove.42B.300d.txt': 1917494,\n",
       " 'glove.840B.300d.txt': 2195884,\n",
       " 'numberbatch-en.txt': 417194,\n",
       " 'crawl-300d-2M.vec': 1999995,\n",
       " 'wiki-news-300d-1M.vec': 999994,\n",
       " 'sentic2vec.txt': 42007}"
      ]
     },
     "execution_count": 10,
     "metadata": {},
     "output_type": "execute_result"
    }
   ],
   "source": [
    "{word_embedding_name: len(vocabulary) for word_embedding_name, vocabulary in word_embedding_vocabulalaries.items()}"
   ]
  },
  {
   "cell_type": "code",
   "execution_count": 11,
   "metadata": {
    "ExecuteTime": {
     "end_time": "2019-01-14T13:04:28.075832Z",
     "start_time": "2019-01-14T13:04:28.029272Z"
    }
   },
   "outputs": [],
   "source": [
    "datasets_coverage_with_word_embedding = get_datasets_coverage_with_word_embedding(corpus_words, word_embedding_vocabulalaries)"
   ]
  },
  {
   "cell_type": "code",
   "execution_count": 12,
   "metadata": {
    "ExecuteTime": {
     "end_time": "2019-01-14T13:04:28.323239Z",
     "start_time": "2019-01-14T13:04:28.078562Z"
    }
   },
   "outputs": [],
   "source": [
    "lack_of_words_percentage = pd.DataFrame(datasets_coverage_with_word_embedding).round(4)*100"
   ]
  },
  {
   "cell_type": "code",
   "execution_count": 89,
   "metadata": {
    "ExecuteTime": {
     "end_time": "2018-12-03T08:49:33.603824Z",
     "start_time": "2018-12-03T08:49:33.562378Z"
    }
   },
   "outputs": [
    {
     "data": {
      "text/html": [
       "<div>\n",
       "<style scoped>\n",
       "    .dataframe tbody tr th:only-of-type {\n",
       "        vertical-align: middle;\n",
       "    }\n",
       "\n",
       "    .dataframe tbody tr th {\n",
       "        vertical-align: top;\n",
       "    }\n",
       "\n",
       "    .dataframe thead th {\n",
       "        text-align: right;\n",
       "    }\n",
       "</style>\n",
       "<table border=\"1\" class=\"dataframe\">\n",
       "  <thead>\n",
       "    <tr style=\"text-align: right;\">\n",
       "      <th></th>\n",
       "      <th>GoogleNews-vectors-negative300.txt</th>\n",
       "      <th>glove.6B.50d.txt</th>\n",
       "      <th>glove.6B.100d.txt</th>\n",
       "      <th>glove.6B.200d.txt</th>\n",
       "      <th>glove.6B.300d.txt</th>\n",
       "      <th>glove.twitter.27B.200d.txt</th>\n",
       "      <th>glove.42B.300d.txt</th>\n",
       "      <th>glove.840B.300d.txt</th>\n",
       "      <th>numberbatch-en.txt</th>\n",
       "      <th>crawl-300d-2M.vec</th>\n",
       "      <th>wiki-news-300d-1M.vec</th>\n",
       "      <th>sentic2vec.txt</th>\n",
       "    </tr>\n",
       "  </thead>\n",
       "  <tbody>\n",
       "    <tr>\n",
       "      <th>Laptops_poria-test</th>\n",
       "      <td>8.38</td>\n",
       "      <td>4.27</td>\n",
       "      <td>4.27</td>\n",
       "      <td>4.27</td>\n",
       "      <td>4.27</td>\n",
       "      <td>8.17</td>\n",
       "      <td>1.77</td>\n",
       "      <td>2.24</td>\n",
       "      <td>9.83</td>\n",
       "      <td>2.39</td>\n",
       "      <td>4.68</td>\n",
       "      <td>17.17</td>\n",
       "    </tr>\n",
       "    <tr>\n",
       "      <th>Laptops_poria-train</th>\n",
       "      <td>11.14</td>\n",
       "      <td>9.18</td>\n",
       "      <td>9.18</td>\n",
       "      <td>9.18</td>\n",
       "      <td>9.18</td>\n",
       "      <td>11.70</td>\n",
       "      <td>3.40</td>\n",
       "      <td>4.20</td>\n",
       "      <td>14.06</td>\n",
       "      <td>4.32</td>\n",
       "      <td>6.91</td>\n",
       "      <td>18.55</td>\n",
       "    </tr>\n",
       "    <tr>\n",
       "      <th>Restaurants_poria-test</th>\n",
       "      <td>9.25</td>\n",
       "      <td>7.40</td>\n",
       "      <td>7.40</td>\n",
       "      <td>7.40</td>\n",
       "      <td>7.40</td>\n",
       "      <td>8.63</td>\n",
       "      <td>3.66</td>\n",
       "      <td>4.36</td>\n",
       "      <td>9.12</td>\n",
       "      <td>4.27</td>\n",
       "      <td>6.70</td>\n",
       "      <td>32.20</td>\n",
       "    </tr>\n",
       "    <tr>\n",
       "      <th>Restaurants_poria-train</th>\n",
       "      <td>12.73</td>\n",
       "      <td>10.78</td>\n",
       "      <td>10.78</td>\n",
       "      <td>10.78</td>\n",
       "      <td>10.78</td>\n",
       "      <td>11.99</td>\n",
       "      <td>5.00</td>\n",
       "      <td>6.11</td>\n",
       "      <td>13.70</td>\n",
       "      <td>5.98</td>\n",
       "      <td>9.33</td>\n",
       "      <td>34.38</td>\n",
       "    </tr>\n",
       "  </tbody>\n",
       "</table>\n",
       "</div>"
      ],
      "text/plain": [
       "                         GoogleNews-vectors-negative300.txt  glove.6B.50d.txt  \\\n",
       "Laptops_poria-test                                     8.38              4.27   \n",
       "Laptops_poria-train                                   11.14              9.18   \n",
       "Restaurants_poria-test                                 9.25              7.40   \n",
       "Restaurants_poria-train                               12.73             10.78   \n",
       "\n",
       "                         glove.6B.100d.txt  glove.6B.200d.txt  \\\n",
       "Laptops_poria-test                    4.27               4.27   \n",
       "Laptops_poria-train                   9.18               9.18   \n",
       "Restaurants_poria-test                7.40               7.40   \n",
       "Restaurants_poria-train              10.78              10.78   \n",
       "\n",
       "                         glove.6B.300d.txt  glove.twitter.27B.200d.txt  \\\n",
       "Laptops_poria-test                    4.27                        8.17   \n",
       "Laptops_poria-train                   9.18                       11.70   \n",
       "Restaurants_poria-test                7.40                        8.63   \n",
       "Restaurants_poria-train              10.78                       11.99   \n",
       "\n",
       "                         glove.42B.300d.txt  glove.840B.300d.txt  \\\n",
       "Laptops_poria-test                     1.77                 2.24   \n",
       "Laptops_poria-train                    3.40                 4.20   \n",
       "Restaurants_poria-test                 3.66                 4.36   \n",
       "Restaurants_poria-train                5.00                 6.11   \n",
       "\n",
       "                         numberbatch-en.txt  crawl-300d-2M.vec  \\\n",
       "Laptops_poria-test                     9.83               2.39   \n",
       "Laptops_poria-train                   14.06               4.32   \n",
       "Restaurants_poria-test                 9.12               4.27   \n",
       "Restaurants_poria-train               13.70               5.98   \n",
       "\n",
       "                         wiki-news-300d-1M.vec  sentic2vec.txt  \n",
       "Laptops_poria-test                        4.68           17.17  \n",
       "Laptops_poria-train                       6.91           18.55  \n",
       "Restaurants_poria-test                    6.70           32.20  \n",
       "Restaurants_poria-train                   9.33           34.38  "
      ]
     },
     "execution_count": 89,
     "metadata": {},
     "output_type": "execute_result"
    }
   ],
   "source": [
    "lack_of_words_percentage.to_excel((results_path / 'word-embeddings-coverage.xlsx').as_posix())\n",
    "lack_of_words_percentage"
   ]
  },
  {
   "cell_type": "code",
   "execution_count": null,
   "metadata": {
    "ExecuteTime": {
     "end_time": "2018-12-03T08:36:01.710355Z",
     "start_time": "2018-12-03T08:32:35.656Z"
    }
   },
   "outputs": [],
   "source": [
    "print(pd.DataFrame.from_dict(aspects, orient='index', columns=['Multi aspect ']).to_latex())"
   ]
  },
  {
   "cell_type": "markdown",
   "metadata": {},
   "source": [
    "## What exact words do not exist in WE "
   ]
  },
  {
   "cell_type": "code",
   "execution_count": 29,
   "metadata": {
    "ExecuteTime": {
     "end_time": "2019-01-14T16:02:01.533799Z",
     "start_time": "2019-01-14T16:02:01.515805Z"
    }
   },
   "outputs": [],
   "source": [
    "crawl_laptops = corpus_words['Laptops_poria-test'].union(corpus_words['Laptops_poria-train']) | word_embedding_vocabulalaries['crawl-300d-2M.vec']"
   ]
  },
  {
   "cell_type": "code",
   "execution_count": 30,
   "metadata": {
    "ExecuteTime": {
     "end_time": "2019-01-14T16:02:09.241399Z",
     "start_time": "2019-01-14T16:02:09.224822Z"
    }
   },
   "outputs": [],
   "source": [
    "wiki_news_laptops = corpus_words['Restaurants_poria-test'].union(corpus_words['Restaurants_poria-train']) - word_embedding_vocabulalaries['wiki-news-300d-1M.vec']"
   ]
  },
  {
   "cell_type": "code",
   "execution_count": 34,
   "metadata": {
    "ExecuteTime": {
     "end_time": "2019-01-14T16:04:17.449048Z",
     "start_time": "2019-01-14T16:04:17.430275Z"
    }
   },
   "outputs": [
    {
     "data": {
      "text/plain": [
       "{'07/2009',\n",
       " '1/10',\n",
       " '10/10',\n",
       " '1199.00',\n",
       " '1222nr',\n",
       " '15.4-',\n",
       " '1x4gb',\n",
       " '24/7',\n",
       " '244dx',\n",
       " '3dmark6',\n",
       " '6750m',\n",
       " ':-)',\n",
       " ':-d',\n",
       " ':]',\n",
       " ':d',\n",
       " ';p',\n",
       " '=)',\n",
       " \"acer's\",\n",
       " 'amazon-cost',\n",
       " 'another---lou',\n",
       " 'anypne',\n",
       " \"apple's\",\n",
       " 'aratings',\n",
       " \"arn't\",\n",
       " 'babyed',\n",
       " 'better-configured',\n",
       " 'butprofessionally',\n",
       " \"buy's\",\n",
       " \"c'mon\",\n",
       " 'c270',\n",
       " \"cd's\",\n",
       " 'cliick',\n",
       " 'comfterbale',\n",
       " 'commputer',\n",
       " \"company's\",\n",
       " \"computer's\",\n",
       " 'constandly',\n",
       " 'contactus@euro.apple.com',\n",
       " 'contaminants-my',\n",
       " 'controlled-lighting',\n",
       " 'crutchs',\n",
       " 'cubersome',\n",
       " 'cusromer',\n",
       " 'de-corrupt',\n",
       " 'deal--seemingly',\n",
       " \"dell's\",\n",
       " 'depanable',\n",
       " 'dhell',\n",
       " \"dosen't\",\n",
       " \"dvd'd\",\n",
       " 'easy-to-function',\n",
       " 'ex.iphoto',\n",
       " 'expeirencing',\n",
       " 'experine',\n",
       " 'expese',\n",
       " 'explantory',\n",
       " \"eye'd\",\n",
       " \"family's\",\n",
       " 'firfox',\n",
       " 'freesecuritysoftware',\n",
       " 'froze-up',\n",
       " 'fruit-named',\n",
       " 'full-inch',\n",
       " 'g73jh',\n",
       " 'goodness-i',\n",
       " 'hainv',\n",
       " 'handiecap',\n",
       " \"hasn't\",\n",
       " 'hewlitt',\n",
       " 'hilghy',\n",
       " 'hours-just',\n",
       " \"husband's\",\n",
       " \"i'ts\",\n",
       " \"i'v\",\n",
       " 'ibookg',\n",
       " 'in.mac',\n",
       " 'interneting',\n",
       " 'iphotos',\n",
       " 'irriplaceable',\n",
       " \"it'll\",\n",
       " 'l305d',\n",
       " 'l455',\n",
       " 'l455d',\n",
       " 'l505',\n",
       " 'laptob',\n",
       " 'laptopwas',\n",
       " 'llast',\n",
       " 'locekd',\n",
       " 'logitevh',\n",
       " 'luxury-when',\n",
       " 'luxurys',\n",
       " 'm6809',\n",
       " \"mac's\",\n",
       " 'macboook',\n",
       " 'macconnection',\n",
       " \"machine's\",\n",
       " 'machouse',\n",
       " 'macmall',\n",
       " 'macminis',\n",
       " \"manufacturer's\",\n",
       " 'manylegacy',\n",
       " \"max's\",\n",
       " 'mc309ll',\n",
       " 'mc371ll',\n",
       " 'mc373ll',\n",
       " 'mcaffe',\n",
       " 'mcbook',\n",
       " 'md101ll',\n",
       " 'md103ll',\n",
       " \"mini's\",\n",
       " \"model's\",\n",
       " 'morning--completely',\n",
       " 'mozzilla',\n",
       " 'multi-selected',\n",
       " 'music-management',\n",
       " 'n410bl',\n",
       " 'nb205',\n",
       " 'nb205s',\n",
       " 'nb305',\n",
       " \"netbook's\",\n",
       " 'netboook',\n",
       " \"newegg's\",\n",
       " 'nhg',\n",
       " 'non-satisfactory',\n",
       " 'nortell',\n",
       " 'nv78',\n",
       " 'oldests',\n",
       " 'outsoucing',\n",
       " 'overheating-my',\n",
       " 'paralles',\n",
       " 'pasaro',\n",
       " 'pavilion--if',\n",
       " \"pc's\",\n",
       " 'pcconnection',\n",
       " 'perfect--thanks',\n",
       " 'phone-visited',\n",
       " 'premium--delivered',\n",
       " \"pro's\",\n",
       " 'pxe-e',\n",
       " 'qousmio',\n",
       " 'quality-exactly',\n",
       " 'question-raising',\n",
       " 'realizwed',\n",
       " 'reinsalled',\n",
       " 'reppative',\n",
       " 'reprecutions',\n",
       " 's5934',\n",
       " 's5988',\n",
       " \"school's\",\n",
       " 'security-prone',\n",
       " 'semprom',\n",
       " \"she'd\",\n",
       " 'signifant',\n",
       " 'similarly-configured',\n",
       " 'slow--then',\n",
       " 'sonystyle.com',\n",
       " 'sorly',\n",
       " 'sowish',\n",
       " \"spec'd\",\n",
       " \"state's\",\n",
       " 'superior--covers',\n",
       " 'surfuring',\n",
       " 'tashiba',\n",
       " 'theapple',\n",
       " 'tirring',\n",
       " \"to's\",\n",
       " \"today's\",\n",
       " 'toshib',\n",
       " \"toshiba's\",\n",
       " 'toshiba-specific',\n",
       " 'toshibas',\n",
       " 'toshie',\n",
       " 'tosiba',\n",
       " 'touch-mouse',\n",
       " 'un-air',\n",
       " 'unpdate',\n",
       " 'unwrapp',\n",
       " 'upgreade',\n",
       " 'use---brought',\n",
       " \"user's\",\n",
       " 'verginia',\n",
       " 'warranty-no',\n",
       " 'warrentys',\n",
       " \"who's\",\n",
       " \"window's\",\n",
       " \"y'all\",\n",
       " 'year-warranty',\n",
       " \"you's\",\n",
       " 'z0j80001'}"
      ]
     },
     "execution_count": 34,
     "metadata": {},
     "output_type": "execute_result"
    }
   ],
   "source": [
    "crawl_laptops - wiki_news_laptops"
   ]
  },
  {
   "cell_type": "code",
   "execution_count": 32,
   "metadata": {
    "ExecuteTime": {
     "end_time": "2019-01-14T16:03:01.929794Z",
     "start_time": "2019-01-14T16:03:01.913882Z"
    }
   },
   "outputs": [
    {
     "data": {
      "text/plain": [
       "False"
      ]
     },
     "execution_count": 32,
     "metadata": {},
     "output_type": "execute_result"
    }
   ],
   "source": [
    "'c270' in word_embedding_vocabulalaries['wiki-news-300d-1M.vec']"
   ]
  },
  {
   "cell_type": "code",
   "execution_count": 33,
   "metadata": {
    "ExecuteTime": {
     "end_time": "2019-01-14T16:03:31.781496Z",
     "start_time": "2019-01-14T16:03:31.756815Z"
    }
   },
   "outputs": [
    {
     "data": {
      "text/plain": [
       "False"
      ]
     },
     "execution_count": 33,
     "metadata": {},
     "output_type": "execute_result"
    }
   ],
   "source": [
    "'c270' in word_embedding_vocabulalaries['crawl-300d-2M.vec']"
   ]
  },
  {
   "cell_type": "code",
   "execution_count": 14,
   "metadata": {
    "ExecuteTime": {
     "end_time": "2019-01-14T13:08:07.157337Z",
     "start_time": "2019-01-14T13:08:07.116219Z"
    }
   },
   "outputs": [
    {
     "data": {
      "text/plain": [
       "dict_keys(['GoogleNews-vectors-negative300.txt', 'glove.6B.50d.txt', 'glove.6B.100d.txt', 'glove.6B.200d.txt', 'glove.6B.300d.txt', 'glove.twitter.27B.200d.txt', 'glove.42B.300d.txt', 'glove.840B.300d.txt', 'numberbatch-en.txt', 'crawl-300d-2M.vec', 'wiki-news-300d-1M.vec', 'sentic2vec.txt'])"
      ]
     },
     "execution_count": 14,
     "metadata": {},
     "output_type": "execute_result"
    }
   ],
   "source": [
    "word_embedding_vocabulalaries.keys()"
   ]
  },
  {
   "cell_type": "markdown",
   "metadata": {},
   "source": [
    "# Words/aspects appeared in test data but not in training "
   ]
  },
  {
   "cell_type": "code",
   "execution_count": null,
   "metadata": {
    "ExecuteTime": {
     "end_time": "2018-12-03T08:36:01.711259Z",
     "start_time": "2018-12-03T08:33:16.107Z"
    }
   },
   "outputs": [],
   "source": [
    "from collections import namedtuple"
   ]
  },
  {
   "cell_type": "markdown",
   "metadata": {},
   "source": [
    "## Words statistics "
   ]
  },
  {
   "cell_type": "code",
   "execution_count": null,
   "metadata": {
    "ExecuteTime": {
     "end_time": "2018-12-03T08:36:01.712008Z",
     "start_time": "2018-12-03T08:33:16.897Z"
    }
   },
   "outputs": [],
   "source": [
    "WordsStats = namedtuple('WordsStats', 'coverage, all_unique_words')"
   ]
  },
  {
   "cell_type": "code",
   "execution_count": null,
   "metadata": {
    "ExecuteTime": {
     "end_time": "2018-12-03T08:36:01.712881Z",
     "start_time": "2018-12-03T08:33:17.211Z"
    }
   },
   "outputs": [],
   "source": [
    "def words_coverage_stats(train_words: Set, test_words: Set):\n",
    "    all_words = train_words.union(test_words)\n",
    "    intersection_words = train_words - test_words\n",
    "    return WordsStats(\n",
    "        len(intersection_words)/len(all_words),\n",
    "        len(all_words)\n",
    "    )"
   ]
  },
  {
   "cell_type": "code",
   "execution_count": null,
   "metadata": {
    "ExecuteTime": {
     "end_time": "2018-12-03T08:36:01.713634Z",
     "start_time": "2018-12-03T08:33:17.592Z"
    }
   },
   "outputs": [],
   "source": [
    "words_coverage_stats(corpus_words[statistics_dataset.dataset_restaurants_train], corpus_words[statistics_dataset.dataset_restaurants_test])"
   ]
  },
  {
   "cell_type": "code",
   "execution_count": null,
   "metadata": {
    "ExecuteTime": {
     "end_time": "2018-12-03T08:36:01.714429Z",
     "start_time": "2018-12-03T08:33:18.073Z"
    }
   },
   "outputs": [],
   "source": [
    "words_coverage_stats(corpus_words[statistics_dataset.dataset_laptops_train], corpus_words[statistics_dataset.dataset_laptops_test])"
   ]
  },
  {
   "cell_type": "markdown",
   "metadata": {},
   "source": [
    "## Aspect statistics  "
   ]
  },
  {
   "cell_type": "code",
   "execution_count": 50,
   "metadata": {
    "ExecuteTime": {
     "end_time": "2018-12-02T15:54:12.445492Z",
     "start_time": "2018-12-02T15:54:12.406526Z"
    }
   },
   "outputs": [],
   "source": [
    "aspects = statistics_dataset.get_uni_and_multigram_aspects_stats()"
   ]
  },
  {
   "cell_type": "code",
   "execution_count": 51,
   "metadata": {
    "ExecuteTime": {
     "end_time": "2018-12-02T15:54:15.848258Z",
     "start_time": "2018-12-02T15:54:15.806940Z"
    }
   },
   "outputs": [
    {
     "data": {
      "text/plain": [
       "{}"
      ]
     },
     "execution_count": 51,
     "metadata": {},
     "output_type": "execute_result"
    }
   ],
   "source": [
    "aspects"
   ]
  }
 ],
 "metadata": {
  "kernelspec": {
   "display_name": "Python 3",
   "language": "python",
   "name": "python3"
  },
  "language_info": {
   "codemirror_mode": {
    "name": "ipython",
    "version": 3
   },
   "file_extension": ".py",
   "mimetype": "text/x-python",
   "name": "python",
   "nbconvert_exporter": "python",
   "pygments_lexer": "ipython3",
   "version": "3.6.6"
  },
  "toc": {
   "base_numbering": 1,
   "nav_menu": {},
   "number_sections": true,
   "sideBar": true,
   "skip_h1_title": false,
   "title_cell": "Table of Contents",
   "title_sidebar": "Contents",
   "toc_cell": false,
   "toc_position": {
    "height": "calc(100% - 180px)",
    "left": "10px",
    "top": "150px",
    "width": "165px"
   },
   "toc_section_display": true,
   "toc_window_display": false
  }
 },
 "nbformat": 4,
 "nbformat_minor": 2
}
