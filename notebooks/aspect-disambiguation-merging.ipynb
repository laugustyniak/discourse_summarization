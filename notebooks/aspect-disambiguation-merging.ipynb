{
 "worksheets": [
  {
   "cells": [
    {
     "cell_type": "heading",
     "metadata": {},
     "level": 1,
     "source": [
      "Imports "
     ]
    },
    {
     "cell_type": "code",
     "execution_count": null,
     "metadata": {},
     "outputs": [],
     "input": [
      "%load_ext autoreload\n",
      "%autoreload 2"
     ],
     "language": "python",
     "prompt_number": 2
    },
    {
     "cell_type": "code",
     "execution_count": null,
     "metadata": {},
     "outputs": [],
     "input": [
      "from os.path import basename, join, exists\n",
      "from os import system, makedirs\n",
      "from glob import glob\n",
      "from pprint import pprint\n",
      "import collections\n",
      "\n",
      "from IPython.display import Image, display\n",
      "from nltk.draw import TreeWidget\n",
      "from nltk.draw.util import CanvasFrame\n",
      "from nltk.tree import Tree\n",
      "\n",
      "import sys\n",
      "import re\n",
      "\n",
      "from wordcloud import WordCloud\n",
      "from bs4 import BeautifulSoup\n",
      "\n",
      "import requests\n",
      "import simplejson\n",
      "import numpy as np\n",
      "import pandas as pd\n",
      "import networkx as nx\n",
      "import matplotlib.pyplot as plt\n",
      "\n",
      "sys.path.append(\"../edu_dependency_parser/src\")\n",
      "\n",
      "from trees.parse_tree import ParseTree\n",
      "\n",
      "%matplotlib inline"
     ],
     "language": "python",
     "prompt_number": 3
    },
    {
     "cell_type": "heading",
     "metadata": {},
     "level": 1,
     "source": [
      "Utils functions "
     ]
    },
    {
     "cell_type": "code",
     "execution_count": null,
     "metadata": {},
     "outputs": [],
     "input": [
      "sys.path.append(\"../aspects\")"
     ],
     "language": "python",
     "prompt_number": 4
    },
    {
     "cell_type": "code",
     "execution_count": null,
     "metadata": {},
     "outputs": [],
     "input": [
      "from utilities.transformations import flatten_list, load_serialized"
     ],
     "language": "python",
     "prompt_number": 5
    },
    {
     "cell_type": "code",
     "execution_count": null,
     "metadata": {},
     "outputs": [],
     "input": [
      "def get_count_from_series(series):\n",
      "    return collections.Counter(flatten_list(series))"
     ],
     "language": "python",
     "prompt_number": 6
    },
    {
     "cell_type": "heading",
     "metadata": {},
     "level": 1,
     "source": [
      "Path to the results "
     ]
    },
    {
     "cell_type": "code",
     "execution_count": null,
     "metadata": {},
     "outputs": [],
     "input": [
      "data_path = '../results/ipod'\n",
      "# data_path = '../results/Canon_S100'\n",
      "dataset_name = basename(data_path)\n",
      "data_path_trees = join(data_path,  'edu_trees_dir')\n",
      "data_path_link_tree = join(data_path,  'link_trees_dir')"
     ],
     "language": "python",
     "prompt_number": 7
    },
    {
     "cell_type": "code",
     "execution_count": null,
     "metadata": {},
     "outputs": [],
     "input": [
      "docs_info = load_serialized(join(data_path, 'documents_info'))"
     ],
     "language": "python",
     "prompt_number": 8
    },
    {
     "cell_type": "code",
     "execution_count": null,
     "metadata": {},
     "outputs": [],
     "input": [
      "# [idx for idx, (k, v) in enumerate(docs_info.iteritems())]"
     ],
     "language": "python",
     "prompt_number": 9
    },
    {
     "cell_type": "code",
     "execution_count": null,
     "metadata": {},
     "outputs": [
      {
       "html": [
        "<div style=\"max-width:1500px;overflow:auto;\">\n",
        "<table border=\"1\" class=\"dataframe\">\n",
        "  <thead>\n",
        "    <tr style=\"text-align: right;\">\n",
        "      <th></th>\n",
        "      <th>EDUs</th>\n",
        "      <th>accepted_edus</th>\n",
        "      <th>aspect_concepts</th>\n",
        "      <th>aspect_keywords</th>\n",
        "      <th>aspects</th>\n",
        "      <th>sentiment</th>\n",
        "    </tr>\n",
        "  </thead>\n",
        "  <tbody>\n",
        "    <tr>\n",
        "      <th>390</th>\n",
        "      <td>[1172, 1173, 1174]</td>\n",
        "      <td>[1174]</td>\n",
        "      <td>{u'sentic': {u'middle': {u'middle': ['in_middl...</td>\n",
        "      <td>{u'rake': [(u'middle', 1.0), (u'game', 1.0), (...</td>\n",
        "      <td>[middle, game, brick]</td>\n",
        "      <td>[0, 0, -1]</td>\n",
        "    </tr>\n",
        "  </tbody>\n",
        "</table>\n",
        "</div>"
       ],
       "metadata": {},
       "output_type": "pyout"
      }
     ],
     "input": [
      "aspects = pd.DataFrame([x for x in docs_info.values()])\n",
      "aspects.sample()"
     ],
     "language": "python",
     "prompt_number": 12
    },
    {
     "cell_type": "code",
     "execution_count": null,
     "metadata": {},
     "outputs": [
      {
       "prompt_number": 14,
       "metadata": {},
       "output_type": "pyout",
       "text": [
        "{'conceptnet_io': {u'film': [{'end': u'a film',\n",
        "    'relation': u'IsA',\n",
        "    'start': u'a movie'},\n",
        "   {'end': u'film', 'relation': u'Synonym', 'start': u'filme fotogr\\xe1fico'},\n",
        "   {'end': u'a medium', 'relation': u'IsA', 'start': u'film'},\n",
        "   {'end': u'film', 'relation': u'IsA', 'start': u'cinematize'},\n",
        "   {'end': u'an artistic expression', 'relation': u'IsA', 'start': u'film'},\n",
        "   {'end': u'film', 'relation': u'IsA', 'start': u'film clip'},\n",
        "   {'end': u'medium', 'relation': u'IsA', 'start': u'film'},\n",
        "   {'end': u'object', 'relation': u'IsA', 'start': u'film'},\n",
        "   {'end': u'photographic paper', 'relation': u'IsA', 'start': u'film'},\n",
        "   {'end': u'sheet', 'relation': u'IsA', 'start': u'film'},\n",
        "   {'end': u'wrapping', 'relation': u'IsA', 'start': u'film'}]},\n",
        " 'sentic': {u'film': {'film': ['movie',\n",
        "    'entertainment',\n",
        "    'show',\n",
        "    'cinema',\n",
        "    'cctv']}}}"
       ]
      }
     ],
     "input": [
      "aspects['aspect_concepts'].ix[5]"
     ],
     "language": "python",
     "prompt_number": 14
    },
    {
     "cell_type": "heading",
     "metadata": {},
     "level": 1,
     "source": [
      "Load edus "
     ]
    },
    {
     "cell_type": "code",
     "execution_count": null,
     "metadata": {},
     "outputs": [
      {
       "prompt_number": 15,
       "metadata": {},
       "output_type": "pyout",
       "text": [
        "{'entities': [],\n",
        " 'raw_text': u'If you can get past this little flaw ,',\n",
        " 'source_document_id': 0,\n",
        " 'tokens': [{'is_stop': True, 'lemma': u'if', 'pos': u'ADP', 'text': u'If'},\n",
        "  {'is_stop': True, 'lemma': u'-PRON-', 'pos': u'PRON', 'text': u'you'},\n",
        "  {'is_stop': True, 'lemma': u'can', 'pos': u'VERB', 'text': u'can'},\n",
        "  {'is_stop': True, 'lemma': u'get', 'pos': u'VERB', 'text': u'get'},\n",
        "  {'is_stop': False, 'lemma': u'past', 'pos': u'ADP', 'text': u'past'},\n",
        "  {'is_stop': True, 'lemma': u'this', 'pos': u'DET', 'text': u'this'},\n",
        "  {'is_stop': False, 'lemma': u'little', 'pos': u'ADJ', 'text': u'little'},\n",
        "  {'is_stop': False, 'lemma': u'flaw', 'pos': u'NOUN', 'text': u'flaw'}]}"
       ]
      }
     ],
     "input": [
      "edus = load_serialized(join(data_path, 'raw_edu_list'))\n",
      "n_edus = len(edus)\n",
      "edus[0]"
     ],
     "language": "python",
     "prompt_number": 15
    },
    {
     "cell_type": "heading",
     "metadata": {},
     "level": 1,
     "source": [
      "Count aspects "
     ]
    },
    {
     "cell_type": "code",
     "execution_count": null,
     "metadata": {},
     "outputs": [
      {
       "prompt_number": 16,
       "metadata": {},
       "output_type": "pyout",
       "text": [
        "<matplotlib.axes._subplots.AxesSubplot at 0x7fce14e82c10>"
       ]
      },
      {
       "png": "[encoded data removed]",
       "metadata": {},
       "text": [
        "<matplotlib.figure.Figure at 0x7fce14e82650>"
       ]
      }
     ],
     "input": [
      "aspects_count = pd.DataFrame.from_dict(get_count_from_series(aspects.aspects), orient='index')\n",
      "aspects_count.columns = ['aspect_count']\n",
      "aspects_count.sort_values('aspect_count', ascending=False, inplace=True)\n",
      "df = aspects_count.head(20)\n",
      "df.aspect_count.plot(kind='bar', figsize=(12, 10))"
     ],
     "language": "python",
     "prompt_number": 16
    },
    {
     "cell_type": "heading",
     "metadata": {},
     "level": 1,
     "source": [
      "Count concepts - sentic"
     ]
    },
    {
     "cell_type": "code",
     "execution_count": null,
     "metadata": {},
     "outputs": [
      {
       "prompt_number": 17,
       "metadata": {},
       "output_type": "pyout",
       "text": [
        "Counter({'alkaline': 10, 'ph_level': 10, 'science': 10, 'chemical': 10, 'chemistry': 10, 'groceries': 8, 'vegetable_fruit': 8, 'produce': 8, 'store_vegetable': 8, 'manufacture': 8, 'composer': 7, 'songwriter': 7, 'rock_band': 7, 'band_play': 7, 'classical': 7, 'source_code': 6, 'music': 5, 'formula': 5, 'ceiling_fan': 5, 'technologic': 5, 'kitchenette': 5, 'cardboard_box': 4, 'ham_actor': 4, 'thespian': 4, 'box_cereal': 4, 'histrion': 4, 'machine': 4, 'role_ham_actor': 4, 'browser': 4, 'mechanism': 4, 'human_invention': 4, 'bag': 4, 'buffoon': 4, 'bin': 4, 'clown': 4, 'complex_machine': 4, 'package': 4, 'mechanical_complex_machine': 4, 'actor': 4, 'dvd': 4, 'entertainment': 4, 'make_use': 3, 'inspection': 3, 'street': 3, 'clock': 3, 'own_land': 3, 'human_trait': 3, 'afford': 3, 'estate': 3, 'tax': 3, 'pathway': 3, 'frilly': 3, 'good_investment': 3, 'racetrack': 3, 'pixel': 3, 'mastercard': 3, 'real_estate': 3, 'itch': 3, 'copy_paste': 3, 'fancy_clothes': 3, 'watch': 3, 'cut_finger': 3, 'hourglass': 3, 'railway': 3, 'exploit': 3, 'make_stuff': 3, 'employ': 3, 'property': 3, 'sting': 3, 'audit': 3, 'command': 3, 'draw_blood': 3, 'stopwatch': 3, 'visual_information': 3, 'creation': 3, 'road': 3, 'image': 3, 'examination': 3, 'display': 3, 'check': 3, 'computer_monitor': 3, 'bribe': 3, 'limited': 2, 'religious_ritual': 2, 'lyrics': 2, 'own_freezer': 2, 'adam_and_eve': 2, 'confirmation': 2, 'garden': 2, 'defamatory': 2, 'good_buy': 2, 'rate': 2, 'query': 2, 'melody': 2, 'libation': 2, 'program_computer': 2, 'authoring_language_program': 2, 'amount': 2, 'semitone': 2, 'slow_speed': 2, 'farmer_market': 2, 'algae': 2, 'charity': 2, 'whole_tone': 2, 'authoring_language_package': 2, 'safety_belt': 2, 'use_computer': 2, 'reject': 2, 'tile': 2, 'whole_semitone': 2, 'water_resistance': 2, 'buy_bread': 2, 'lyric': 2, 'still': 2, 'style': 2, 'finite_state_machine': 2, 'minute': 2, 'speaker': 2, 'inequality': 2, 'write_code': 2, 'paper_menu': 2, 'amusement': 2, 'safety': 2, 'assurance': 2, 'traffic_light': 2, 'divergency': 2, 'plea': 2, 'dine_room': 2, 'loudness': 2, 'size': 2, 'grocery_store': 2, 'bookmark': 2, 'damaging': 2, 'tree': 2, 'mathematical_model': 2, 'large_business': 2, 'partnership': 2, 'mint': 2, 'bookmark_relate': 2, 'avoid_crash': 2, 'capitalist': 2, 'pleasure': 2, 'medal': 2, 'audio': 2, 'retail_store': 2, 'enterprise': 2, 'business_deal': 2, 'write_program': 2, 'agape': 2, 'defame': 2, 'untrue': 2, 'computer': 2, 'happiness': 2, 'rite': 2, 'supermarket': 2, 'business_organization': 2, 'bottling_plant': 2, 'restaurant': 2, 'tone': 2, 'musical_interval': 2, 'gap': 2, 'bathroom_wall': 2, 'music_note': 2, 'clothes_style': 2, 'inquire': 2, 'computer_authoring_language': 2, 'decibel': 2, 'finite': 2, 'enjoyment': 2, 'fruit': 2, 'contribution': 2, 'find_bookmark': 2, 'outdoor': 2, 'store_knowledge': 2, 'backbite': 2, 'hair': 2, 'animal_sound': 2, 'noise': 2, 'agreement': 2, 'wine_maker': 2, 'diner': 2, 'discard': 2, 'pop_music': 2, 'offer': 2, 'glamour': 2, 'authoring_language': 2, 'winery': 2, 'cafe': 2, 'polygon': 2, 'corporation': 2, 'authoring_language_system': 2, 'use_bookmark': 2, 'form_of_money': 1, 'direct_play': 1, 'amplifier': 1, 'extra_tyre': 1, 'pant_back_pocket': 1, 'man_back_pocket': 1, 'fall_out_bed': 1, 'put_groceries': 1, 'swat': 1, 'murderousness': 1, 'straightforward': 1, 'back_pocket': 1, 'cctv': 1, 'choice': 1, 'decide': 1, 'artwork': 1, 'awful': 1, 'care_child': 1, 'dim': 1, 'parrot': 1, 'get_line': 1, 'many_many_different_typess': 1, 'recall': 1, 'quick': 1, 'radio': 1, 'newspaper_newspaper': 1, 'mishap': 1, 'newspaper_book': 1, 'perspective': 1, 'time_measurement': 1, 'kidnap': 1, 'use_talent': 1, 'hemisphere_solar_system': 1, 'lavishness': 1, 'advantageous': 1, 'assistance': 1, 'contrastive': 1, 'access': 1, 'lovebird': 1, 'store_music': 1, 'bird': 1, 'jail_time': 1, 'broker': 1, 'excess': 1, 'stand_queue': 1, 'day_month': 1, 'daughter': 1, 'many_different_types': 1, 'thirty': 1, 'pencil_pen': 1, 'study': 1, 'credit': 1, 'survey': 1, 'store_record': 1, 'cognisance': 1, 'volume_measurement': 1, 'near_ocean': 1, 'clothes_washer': 1, 'replace': 1, 'beckon': 1, 'storage_place': 1, 'select': 1, 'use': 1, 'alligator': 1, 'positive': 1, 'angry': 1, 'wane': 1, 'changelessness': 1, 'breathe': 1, 'warn': 1, 'separative': 1, 'new_gain_experience': 1, 'hour': 1, 'list_number': 1, 'good_feeling': 1, 'piece_of_change': 1, 'dollar': 1, 'viewfinder': 1, 'compact_disc': 1, 'heart': 1, 'air_movement': 1, 'dictation': 1, 'airplane': 1, 'mauler': 1, 'provide': 1, 'purchase_food': 1, 'sharp_edge': 1, 'cook_book': 1, 'animal': 1, 'geometric_shape': 1, 'memorization': 1, 'plane_figure': 1, 'give_pleasure': 1, 'mad': 1, 'hold_two_together': 1, 'geometric_figure': 1, 'response': 1, 'fall_down_flight_stair': 1, 'access_quickly': 1, 'sense_modality': 1, 'alloy': 1, 'representation': 1, 'put_back': 1, 'good_luck': 1, 'order': 1, 'wind': 1, 'misadventure': 1, 'demand': 1, 'trade': 1, 'distinguished_service_cross': 1, 'knowingness': 1, 'horrify': 1, 'down_payment': 1, 'fit': 1, 'file_bill': 1, 'good': 1, 'predator': 1, 'entertain_crowd': 1, 'sharp_corner': 1, 'wealthy': 1, 'wait_turn': 1, 'liquid_measurement': 1, 'flee': 1, 'document': 1, 'read_newspaper_newspaper': 1, 'regularly': 1, 'scenic': 1, 'hundred_year': 1, 'meat_hook': 1, 'house': 1, 'lose_war': 1, 'deficiency': 1, 'measure': 1, 'brain_activity': 1, 'monetary_unit': 1, 'use_camera': 1, 'hallucinate': 1, 'make_rich': 1, 'oblong': 1, 'peacefulness': 1, 'fight_against': 1, 'difficulty': 1, 'take_out_loan': 1, 'ear_money': 1, 'seventy': 1, 'scary': 1, 'misogyny': 1, 'polygonal_shape': 1, 'launch': 1, 'geometry': 1, 'terrible': 1, 'rest_dream': 1, 'serenity': 1, 'bad_behavior': 1, 'consequence': 1, 'copper': 1, 'hook': 1, 'channel_selector': 1, 'keep_promise': 1, 'effortless': 1, 'rock_group': 1, 'listen': 1, 'jump_over': 1, 'substance_abuse': 1, 'explanation': 1, 'old_testament': 1, 'part': 1, 'protective_cover': 1, 'photograph': 1, 'bee': 1, 'back_airplane': 1, 'poker_countenance': 1, 'money_unit': 1, 'wrong_answer': 1, 'have': 1, 'anger': 1, 'breezy': 1, 'modality': 1, 'prosperity': 1, 'drug_abuse': 1, 'ideal': 1, 'take': 1, 'tranquility': 1, 'persistence': 1, 'serene': 1, 'combat': 1, 'audition': 1, 'foster_kid': 1, 'pair': 1, 'librarian': 1, 'alarmed': 1, 'stereo': 1, 'average': 1, 'adopt': 1, 'sale': 1, 'need_water': 1, 'businessman': 1, 'feel_fresh': 1, 'consumer': 1, 'quantity': 1, 'rocker': 1, 'selection': 1, 'gold': 1, 'show': 1, 'lucid_dream': 1, 'dearness': 1, 'merit': 1, 'relation': 1, 'earth': 1, 'fear': 1, 'train_hard': 1, 'have_intercourse': 1, 'pay_toll': 1, 'roadway_square': 1, 'awareness': 1, 'continuity': 1, 'jazz': 1, 'uninvolved': 1, 'buyer': 1, 'merchandise': 1, 'preemptively': 1, 'formal_clothes': 1, 'median': 1, 'disjunctive': 1, 'tuner': 1, 'install_window': 1, 'habit': 1, 'terrain': 1, 'take_picture': 1, 'famine': 1, 'lavishnessliness': 1, 'asleep': 1, 'result': 1, 'best': 1, 'fresh_air': 1, 'generosity': 1, 'movie': 1, 'preemptive': 1, 'human_experience': 1, 'car_trunk': 1, 'record_library': 1, 'importance': 1, 'joy': 1, 'interfere': 1, 'aircraft': 1, 'life_end': 1, 'extent': 1, 'in_between': 1, 'wall_hang': 1, 'pity': 1, 'murderously': 1, 'countenance': 1, 'wait_line': 1, 'cognizance': 1, 'overpay': 1, 'expression': 1, 'wear': 1, 'medallion': 1, 'cash_bill': 1, 'period': 1, 'resentment': 1, 'poll': 1, 'paper_plane': 1, 'fast_travel': 1, 'mass_measure': 1, 'gondola': 1, 'appall': 1, 'popular_vacation_destination': 1, 'bronze': 1, 'mineral_deficiency': 1, 'usage': 1, 'music_storage': 1, 'child': 1, 'interrogation': 1, 'look': 1, 'absolute_pitch': 1, 'cash': 1, 'fornicate': 1, 'air': 1, 'newspaper': 1, 'mistake': 1, 'pound': 1, 'calculator': 1, 'purse': 1, 'decoration': 1, 'shame': 1, 'cheap_price': 1, 'fame': 1, 'laurel_wreath': 1, 'misocainea': 1, 'inquiry': 1, 'eclectic': 1, 'ordinal': 1, 'oceanside': 1, 'assist': 1, 'effect': 1, 'collide': 1, 'perfect_pitch': 1, 'diabetes': 1, 'center': 1, 'read_news': 1, 'ocean': 1, 'edge': 1, 'gain': 1, 'uncomplicated': 1, 'left': 1, 'spherical': 1, 'consciousness': 1, 'recollection': 1, 'quiet_child': 1, 'aspect': 1, 'a_lot_of_books': 1, 'quick_look': 1, 'dollar_bill': 1, 'easy': 1, 'land_feature': 1, 'support_wall': 1, 'discriminatory': 1, 'mischance': 1, 'ill_health': 1, 'currency_unit': 1, 'amok': 1, 'scrap_paper': 1, 'life_experience': 1, 'indication': 1, 'gain_experience': 1, 'twelve': 1, 'beneficial': 1, 'right': 1, 'buy_new': 1, 'sprint': 1, 'sea_breeze': 1, 'get_fast': 1, 'launch_gondola': 1, 'magnitude': 1, 'smell_nice': 1, 'folk_music': 1, 'use_military': 1, 'invade': 1, 'health_problem': 1, 'run': 1, 'paper_currency': 1, 'communicate': 1, 'illustration': 1, 'question_start': 1, 'sister': 1, 'indestructibility': 1, 'feel_amazed': 1, 'magazine': 1, 'ounce': 1, 'tensile_strength': 1, 'allotment': 1, 'reptile': 1, 'bring_wallet': 1, 'popinjay': 1, 'sharpness': 1, 'make_choice': 1, 'power_switch': 1, 'preemption': 1, 'female_television_connector': 1, 'deal': 1, 'note_pad': 1, 'wrongdoing': 1, 'ocean_shore': 1, 'take_photograph': 1, 'adversative': 1, 'carve_niche': 1, 'buy_meat': 1, 'bus': 1, 'awful_mistake': 1, 'idea': 1, 'hemisphere': 1, 'preciousness': 1, 'debit_card': 1, 'count': 1, 'bargain': 1, 'hold_up': 1, 'record': 1, 'many_kinds': 1, 'reprimand': 1, 'problem': 1, 'tell_lie': 1, 'cinema': 1, 'measurement': 1, 'dearth': 1, 'good_price': 1, 'spring_up': 1, 'find_number': 1, 'donate_charity': 1, 'file': 1, 'vista': 1, 'expensiveness': 1, 'boot': 1, 'terrify': 1, 'in_middle': 1, 'picture': 1, 'wall_decoration': 1, 'frustrate': 1, 'get_answer': 1, 'deter': 1, 'walk_exercise': 1, 'meat_eater': 1, 'cd-rom': 1, 'oppositive': 1, 'sharp_end': 1, 'mast': 1})"
       ]
      }
     ],
     "input": [
      "concepts_sentic_count = [c['sentic'] for c in aspects.aspect_concepts if 'sentic' in c.keys()]\n",
      "concepts_sentic_count = [c.values()[0] for c in concepts_sentic_count if c]\n",
      "concepts_sentic_count = [flatten_list(c.values()) for c in concepts_sentic_count]\n",
      "concepts_sentic_count = collections.Counter(flatten_list(concepts_sentic_count))\n",
      "concepts_sentic_count"
     ],
     "language": "python",
     "prompt_number": 17
    },
    {
     "cell_type": "heading",
     "metadata": {},
     "level": 1,
     "source": [
      "Count concepts - ConceptNet"
     ]
    },
    {
     "cell_type": "code",
     "execution_count": null,
     "metadata": {},
     "outputs": [],
     "input": [
      "CONCEPTNET_RELATIONS = ['LocatedNear', 'HasA', 'PartOf', 'MadeOf', 'IsA',\n",
      "                        'InheritsFrom', 'Synonym']"
     ],
     "language": "python",
     "prompt_number": 18
    },
    {
     "cell_type": "code",
     "execution_count": null,
     "metadata": {},
     "outputs": [],
     "input": [
      "# get synonyms \n",
      "CONCEPTNET_RELATIONS = ['Synonym']\n",
      "aspect_concept_synsets = {}\n",
      "for cnpx in [x for x in aspects.aspect_concepts if x]:\n",
      "    cnpx = cnpx['conceptnet_io']\n",
      "    if cnpx:\n",
      "        for concept, relations in cnpx.iteritems():\n",
      "            aspect_concept_synsets[concept] = set()\n",
      "            for relation in [r for r in relations if 'Synonym' in r['relation']]:\n",
      "#                 if concept == relation['start']:\n",
      "                aspect_concept_synsets[concept].add(unicode(relation['start']))\n",
      "                aspect_concept_synsets[concept].add(unicode(relation['end']))\n",
      "#                 if concept == relation['end']:\n",
      "#                     aspect_concept_synsets[concept].add(relation['end'])"
     ],
     "language": "python",
     "prompt_number": 19
    },
    {
     "cell_type": "code",
     "execution_count": null,
     "metadata": {},
     "outputs": [],
     "input": [
      "# pprint({k: v for k, v in aspect_concept_synsets.iteritems() if v})"
     ],
     "language": "python",
     "prompt_number": 20
    },
    {
     "cell_type": "code",
     "execution_count": null,
     "metadata": {},
     "outputs": [],
     "input": [
      "aspects_graph = nx.DiGraph()"
     ],
     "language": "python",
     "prompt_number": 21
    },
    {
     "cell_type": "code",
     "execution_count": null,
     "metadata": {},
     "outputs": [],
     "input": [
      "for cnpx in [x for x in aspects.aspect_concepts if x]:\n",
      "    cnpx = cnpx['conceptnet_io']\n",
      "    if cnpx:\n",
      "        for concept, relations in cnpx.iteritems():\n",
      "            aspect_concept_synsets[concept] = set()\n",
      "            for relation in relations:\n",
      "                aspects_graph.add_edge(relation['start'], relation['end'], relation=relation['relation'])"
     ],
     "language": "python",
     "prompt_number": 22
    },
    {
     "cell_type": "code",
     "execution_count": null,
     "metadata": {},
     "outputs": [],
     "input": [
      "edge_labels = dict([((u, v, ), d['relation']) for u,v,d in aspects_graph.edges(data=True)])\n",
      "node_labels = {n: n for n in aspects_graph.nodes()}\n",
      "\n",
      "# deg = aspects_graph.degree()\n",
      "# to_remove = [n for n in deg if deg[n] == 1]\n",
      "# aspects_graph.remove_nodes_from(to_remove)"
     ],
     "language": "python",
     "prompt_number": 23
    },
    {
     "cell_type": "code",
     "execution_count": null,
     "metadata": {},
     "outputs": [
      {
       "png": "[encoded data removed]",
       "metadata": {},
       "text": [
        "<matplotlib.figure.Figure at 0x7fce128a1c10>"
       ]
      }
     ],
     "input": [
      "# pos = nx.spring_layout(aspects_graph)\n",
      "pos = nx.random_layout(aspects_graph)\n",
      "nx.draw_networkx_edge_labels(aspects_graph, pos, edge_labels=edge_labels, font_size=6)\n",
      "nx.draw_networkx_labels(aspects_graph, pos, labels=node_labels, font_size=6)\n",
      "nx.draw(aspects_graph, pos, node_size=150, edge_cmap=plt.cm.Reds)\n",
      "plt.show()"
     ],
     "language": "python",
     "prompt_number": 24
    },
    {
     "cell_type": "code",
     "execution_count": null,
     "metadata": {},
     "outputs": [],
     "input": [
      "nx.write_gexf(aspects_graph, 'graphs/aspect-conceptnet-graph.gexf')"
     ],
     "language": "python",
     "prompt_number": 25
    },
    {
     "cell_type": "code",
     "execution_count": null,
     "metadata": {},
     "outputs": [],
     "input": [
      "# [' '.join(v) for k, v in aspect_concept_synsets.iteritems() if v]"
     ],
     "language": "python",
     "prompt_number": 126
    },
    {
     "cell_type": "code",
     "execution_count": null,
     "metadata": {},
     "outputs": [],
     "input": [
      "# asp_con_syn_count = collections.Counter([' '.join(v) for k, v in aspect_concept_synsets.iteritems() if v])"
     ],
     "language": "python",
     "prompt_number": 123
    },
    {
     "cell_type": "code",
     "execution_count": null,
     "metadata": {},
     "outputs": [],
     "input": [
      "# asp_con_syn_count.most_common(5)"
     ],
     "language": "python",
     "prompt_number": 125
    },
    {
     "cell_type": "code",
     "execution_count": null,
     "metadata": {},
     "outputs": [
      {
       "ename": "NameError",
       "evalue": "name 'aspects' is not defined",
       "traceback": [
        "\u001b[1;31m---------------------------------------------------------------------------\u001b[0m\n\u001b[1;31mNameError\u001b[0m                                 Traceback (most recent call last)",
        "\u001b[1;32m<ipython-input-1-f5b809c8e618>\u001b[0m in \u001b[0;36m<module>\u001b[1;34m()\u001b[0m\n\u001b[1;32m----> 1\u001b[1;33m \u001b[0maspects\u001b[0m\u001b[1;33m.\u001b[0m\u001b[0maspect_concepts\u001b[0m\u001b[1;33m\u001b[0m\u001b[0m\n\u001b[0m",
        "\u001b[1;31mNameError\u001b[0m: name 'aspects' is not defined"
       ],
       "output_type": "pyerr"
      }
     ],
     "input": [
      "aspects.aspect_concepts"
     ],
     "language": "python",
     "prompt_number": 1
    },
    {
     "cell_type": "heading",
     "metadata": {},
     "level": 1,
     "source": [
      "Load only edus with sentiment"
     ]
    },
    {
     "cell_type": "code",
     "execution_count": null,
     "metadata": {},
     "outputs": [
      {
       "prompt_number": 28,
       "metadata": {},
       "output_type": "pyout",
       "text": [
        "1156"
       ]
      }
     ],
     "input": [
      "edus_sentiment = load_serialized(join(data_path, 'sentiment_filtered_edus'))\n",
      "n_edus_sentiment = len(edus_sentiment)\n",
      "n_edus_sentiment"
     ],
     "language": "python",
     "prompt_number": 28
    },
    {
     "cell_type": "heading",
     "metadata": {},
     "level": 1,
     "source": [
      "Percent of edus with sentiment "
     ]
    },
    {
     "cell_type": "code",
     "execution_count": null,
     "metadata": {},
     "outputs": [
      {
       "prompt_number": 29,
       "metadata": {},
       "output_type": "pyout",
       "text": [
        "'72.66%'"
       ]
      }
     ],
     "input": [
      "'{:.2f}%'.format(float(n_edus_sentiment)/n_edus * 100)"
     ],
     "language": "python",
     "prompt_number": 29
    },
    {
     "cell_type": "heading",
     "metadata": {},
     "level": 1,
     "source": [
      "Load aspects "
     ]
    },
    {
     "cell_type": "code",
     "execution_count": null,
     "metadata": {},
     "outputs": [],
     "input": [
      "aspects_per_edu = load_serialized(join(data_path, 'aspects_per_edu'))"
     ],
     "language": "python",
     "prompt_number": 30
    },
    {
     "cell_type": "code",
     "execution_count": null,
     "metadata": {},
     "outputs": [
      {
       "prompt_number": 31,
       "metadata": {},
       "output_type": "pyout",
       "text": [
        "[(2, ['']),\n",
        " (3, [u't']),\n",
        " (4, []),\n",
        " (7, [u'steve jobs', u'twisted individual']),\n",
        " (9, [u'device']),\n",
        " (10, []),\n",
        " (11, [u'great little short film']),\n",
        " (12, [u'disposable device', u'idea']),\n",
        " (13, []),\n",
        " (14, [u'battery'])]"
       ]
      }
     ],
     "input": [
      "aspects_per_edu.items()[:10]"
     ],
     "language": "python",
     "prompt_number": 31
    },
    {
     "cell_type": "heading",
     "metadata": {},
     "level": 1,
     "source": [
      "Filter empty aspects and aspects shorter than 2, like 't', 'u' etc."
     ]
    },
    {
     "cell_type": "code",
     "execution_count": null,
     "metadata": {},
     "outputs": [],
     "input": [
      "aspects_per_edu = {k:v for k, v in aspects_per_edu.items() if v and [v for x in v if len(x) > 1]}"
     ],
     "language": "python",
     "prompt_number": 32
    },
    {
     "cell_type": "code",
     "execution_count": null,
     "metadata": {},
     "outputs": [
      {
       "prompt_number": 33,
       "metadata": {},
       "output_type": "pyout",
       "text": [
        "[[u'steve jobs', u'twisted individual'],\n",
        " [u'device'],\n",
        " [u'great little short film'],\n",
        " [u'disposable device', u'idea'],\n",
        " [u'battery'],\n",
        " [u'late model', u'ipod'],\n",
        " [u'freakin easy', u'conspiracy'],\n",
        " [u'device', u'replaceable battery'],\n",
        " [u'mp3 player recently'],\n",
        " [u'opportunity']]"
       ]
      }
     ],
     "input": [
      "aspects_per_edu.values()[:10]"
     ],
     "language": "python",
     "prompt_number": 33
    },
    {
     "cell_type": "code",
     "execution_count": null,
     "metadata": {},
     "outputs": [
      {
       "prompt_number": 34,
       "metadata": {},
       "output_type": "pyout",
       "text": [
        "714"
       ]
      }
     ],
     "input": [
      "n_aspects_per_edu = len(aspects_per_edu)\n",
      "n_aspects_per_edu"
     ],
     "language": "python",
     "prompt_number": 34
    },
    {
     "cell_type": "heading",
     "metadata": {},
     "level": 1,
     "source": [
      "Percent of edus with aspect extracted"
     ]
    },
    {
     "cell_type": "code",
     "execution_count": null,
     "metadata": {},
     "outputs": [
      {
       "prompt_number": 35,
       "metadata": {},
       "output_type": "pyout",
       "text": [
        "'44.88%'"
       ]
      }
     ],
     "input": [
      "'{:.2f}%'.format(float(n_aspects_per_edu)/n_edus * 100)"
     ],
     "language": "python",
     "prompt_number": 35
    },
    {
     "cell_type": "code",
     "execution_count": null,
     "metadata": {},
     "outputs": [],
     "input": [
      "# dataset_df = pd.merge(edus_df, pd.DataFrame.from_dict(aspects, orient='index'), left_index=True, right_index=True)"
     ],
     "language": "python",
     "prompt_number": 36
    },
    {
     "cell_type": "code",
     "execution_count": null,
     "metadata": {},
     "outputs": [],
     "input": [
      "# dataset_df.head()"
     ],
     "language": "python",
     "prompt_number": 37
    },
    {
     "cell_type": "heading",
     "metadata": {},
     "level": 1,
     "source": [
      "Percent of documents with at least 2 aspects!!"
     ]
    },
    {
     "cell_type": "code",
     "execution_count": null,
     "metadata": {},
     "outputs": [],
     "input": [
      "documents_info = load_serialized(join(data_path, 'documents_info'))"
     ],
     "language": "python",
     "prompt_number": 38
    },
    {
     "cell_type": "code",
     "execution_count": null,
     "metadata": {},
     "outputs": [],
     "input": [
      "document_info_at_least_2_aspects_accepted = {k: v for k, v in documents_info.items() if len(v['accepted_edus']) > 1}"
     ],
     "language": "python",
     "prompt_number": 39
    },
    {
     "cell_type": "code",
     "execution_count": null,
     "metadata": {},
     "outputs": [],
     "input": [
      "n_at_least_two_aspects_per_doc = len(document_info_at_least_2_aspects_accepted)"
     ],
     "language": "python",
     "prompt_number": 40
    },
    {
     "cell_type": "code",
     "execution_count": null,
     "metadata": {},
     "outputs": [
      {
       "prompt_number": 41,
       "metadata": {},
       "output_type": "pyout",
       "text": [
        "'60.19%'"
       ]
      }
     ],
     "input": [
      "'{:.2f}%'.format(float(n_at_least_two_aspects_per_doc)/n_docs * 100)"
     ],
     "language": "python",
     "prompt_number": 41
    }
   ]
  }
 ],
 "cells": [],
 "metadata": {
  "name": "",
  "signature": "sha256:c9b992c5abf65559ebbde40b8ea5bca40d487011d580f359e3d38d38b4889868"
 },
 "nbformat": 4,
 "nbformat_minor": 0
}
